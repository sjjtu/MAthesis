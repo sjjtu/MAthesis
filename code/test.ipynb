{
 "cells": [
  {
   "cell_type": "code",
   "execution_count": 6,
   "metadata": {},
   "outputs": [],
   "source": [
    "from autodp import privacy_calibrator\n",
    "import torch\n",
    "\n",
    "import time"
   ]
  },
  {
   "cell_type": "code",
   "execution_count": 2,
   "metadata": {},
   "outputs": [],
   "source": [
    "eps = 1\n",
    "delta = 1e-5\n",
    "privacy_param = privacy_calibrator.gaussian_mech(eps, delta)"
   ]
  },
  {
   "cell_type": "code",
   "execution_count": 3,
   "metadata": {},
   "outputs": [
    {
     "data": {
      "text/plain": [
       "{'sigma': 4.900555168628423}"
      ]
     },
     "execution_count": 3,
     "metadata": {},
     "output_type": "execute_result"
    }
   ],
   "source": [
    "privacy_param"
   ]
  },
  {
   "cell_type": "code",
   "execution_count": 4,
   "metadata": {},
   "outputs": [],
   "source": [
    "batch_size=512"
   ]
  },
  {
   "cell_type": "code",
   "execution_count": 10,
   "metadata": {},
   "outputs": [
    {
     "data": {
      "text/plain": [
       "torch.Size([512, 32, 1])"
      ]
     },
     "execution_count": 10,
     "metadata": {},
     "output_type": "execute_result"
    }
   ],
   "source": [
    "real_rep = torch.randn((512,32,1)).to(\"cuda\")\n",
    "real_rep.shape"
   ]
  },
  {
   "cell_type": "code",
   "execution_count": 20,
   "metadata": {},
   "outputs": [
    {
     "name": "stdout",
     "output_type": "stream",
     "text": [
      "total time: 25.97981071472168\n"
     ]
    }
   ],
   "source": [
    "t0=time.time()\n",
    "for i in range(400000):\n",
    "    t1 = time.time()\n",
    "    sensitivity = 2 / batch_size\n",
    "    noise_std_for_privacy = privacy_param['sigma'] * sensitivity\n",
    "    noise = noise_std_for_privacy * torch.randn(real_rep.shape)\n",
    "    noise=noise.to(\"cuda\")\n",
    "    real_rep = real_rep + noise\n",
    "    #print(time.time()-t1)\n",
    "\n",
    "print(f\"total time: {time.time()-t0}\")"
   ]
  },
  {
   "cell_type": "code",
   "execution_count": 23,
   "metadata": {},
   "outputs": [
    {
     "data": {
      "text/plain": [
       "tensor([[[-1.0383],\n",
       "         [-1.0869],\n",
       "         [-0.1635],\n",
       "         ...,\n",
       "         [ 0.4536],\n",
       "         [-1.3799],\n",
       "         [ 0.6368]],\n",
       "\n",
       "        [[ 1.9566],\n",
       "         [-0.4421],\n",
       "         [ 0.0879],\n",
       "         ...,\n",
       "         [ 0.7674],\n",
       "         [ 0.2907],\n",
       "         [-0.0753]],\n",
       "\n",
       "        [[ 0.7052],\n",
       "         [-1.2357],\n",
       "         [-0.4877],\n",
       "         ...,\n",
       "         [-0.5376],\n",
       "         [ 0.4186],\n",
       "         [-0.2478]],\n",
       "\n",
       "        ...,\n",
       "\n",
       "        [[ 0.9608],\n",
       "         [ 0.2405],\n",
       "         [-0.3602],\n",
       "         ...,\n",
       "         [-0.3584],\n",
       "         [-0.6784],\n",
       "         [ 0.8765]],\n",
       "\n",
       "        [[ 0.2552],\n",
       "         [-0.1584],\n",
       "         [-0.2541],\n",
       "         ...,\n",
       "         [ 1.3371],\n",
       "         [-0.8567],\n",
       "         [-0.1207]],\n",
       "\n",
       "        [[-0.7403],\n",
       "         [-0.8648],\n",
       "         [-0.1240],\n",
       "         ...,\n",
       "         [ 0.5564],\n",
       "         [ 0.6482],\n",
       "         [-0.4536]]])"
      ]
     },
     "execution_count": 23,
     "metadata": {},
     "output_type": "execute_result"
    }
   ],
   "source": [
    "real_rep"
   ]
  }
 ],
 "metadata": {
  "kernelspec": {
   "display_name": "code-b8C0A6mP",
   "language": "python",
   "name": "python3"
  },
  "language_info": {
   "codemirror_mode": {
    "name": "ipython",
    "version": 3
   },
   "file_extension": ".py",
   "mimetype": "text/x-python",
   "name": "python",
   "nbconvert_exporter": "python",
   "pygments_lexer": "ipython3",
   "version": "3.7.17"
  }
 },
 "nbformat": 4,
 "nbformat_minor": 2
}
