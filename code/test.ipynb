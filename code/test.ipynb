{
 "cells": [
  {
   "cell_type": "code",
   "execution_count": 1,
   "metadata": {
    "execution": {
     "iopub.execute_input": "2024-02-06T23:17:02.858323Z",
     "iopub.status.busy": "2024-02-06T23:17:02.858229Z",
     "iopub.status.idle": "2024-02-06T23:17:03.297912Z",
     "shell.execute_reply": "2024-02-06T23:17:03.297500Z"
    }
   },
   "outputs": [
    {
     "name": "stderr",
     "output_type": "stream",
     "text": [
      "/home/user1-asd-arch/.local/share/virtualenvs/code-b8C0A6mP/lib/python3.7/site-packages/tqdm/auto.py:21: TqdmWarning: IProgress not found. Please update jupyter and ipywidgets. See https://ipywidgets.readthedocs.io/en/stable/user_install.html\n",
      "  from .autonotebook import tqdm as notebook_tqdm\n"
     ]
    }
   ],
   "source": [
    "from autodp import privacy_calibrator\n",
    "import torch\n",
    "\n",
    "import time"
   ]
  },
  {
   "cell_type": "code",
   "execution_count": 2,
   "metadata": {
    "execution": {
     "iopub.execute_input": "2024-02-06T23:17:03.315648Z",
     "iopub.status.busy": "2024-02-06T23:17:03.315493Z",
     "iopub.status.idle": "2024-02-06T23:17:03.317610Z",
     "shell.execute_reply": "2024-02-06T23:17:03.317314Z"
    }
   },
   "outputs": [
    {
     "name": "stdout",
     "output_type": "stream",
     "text": [
      "this is a test\n"
     ]
    }
   ],
   "source": [
    "print(\"this is a test\")"
   ]
  },
  {
   "cell_type": "code",
   "execution_count": 3,
   "metadata": {
    "execution": {
     "iopub.execute_input": "2024-02-06T23:17:03.318930Z",
     "iopub.status.busy": "2024-02-06T23:17:03.318837Z",
     "iopub.status.idle": "2024-02-06T23:17:03.833225Z",
     "shell.execute_reply": "2024-02-06T23:17:03.832893Z"
    }
   },
   "outputs": [],
   "source": [
    "eps = 1\n",
    "delta = 1e-5\n",
    "privacy_param = privacy_calibrator.gaussian_mech(eps, delta)"
   ]
  },
  {
   "cell_type": "code",
   "execution_count": 4,
   "metadata": {
    "execution": {
     "iopub.execute_input": "2024-02-06T23:17:03.834939Z",
     "iopub.status.busy": "2024-02-06T23:17:03.834840Z",
     "iopub.status.idle": "2024-02-06T23:17:03.838113Z",
     "shell.execute_reply": "2024-02-06T23:17:03.837818Z"
    }
   },
   "outputs": [
    {
     "data": {
      "text/plain": [
       "{'sigma': 4.900555168628423}"
      ]
     },
     "execution_count": 4,
     "metadata": {},
     "output_type": "execute_result"
    }
   ],
   "source": [
    "privacy_param"
   ]
  },
  {
   "cell_type": "code",
   "execution_count": 5,
   "metadata": {
    "execution": {
     "iopub.execute_input": "2024-02-06T23:17:03.839375Z",
     "iopub.status.busy": "2024-02-06T23:17:03.839285Z",
     "iopub.status.idle": "2024-02-06T23:17:03.840940Z",
     "shell.execute_reply": "2024-02-06T23:17:03.840665Z"
    }
   },
   "outputs": [],
   "source": [
    "batch_size=512"
   ]
  },
  {
   "cell_type": "code",
   "execution_count": 6,
   "metadata": {
    "execution": {
     "iopub.execute_input": "2024-02-06T23:17:03.842176Z",
     "iopub.status.busy": "2024-02-06T23:17:03.842087Z",
     "iopub.status.idle": "2024-02-06T23:17:04.240935Z",
     "shell.execute_reply": "2024-02-06T23:17:04.240555Z"
    }
   },
   "outputs": [
    {
     "data": {
      "text/plain": [
       "torch.Size([512, 32, 1])"
      ]
     },
     "execution_count": 6,
     "metadata": {},
     "output_type": "execute_result"
    }
   ],
   "source": [
    "real_rep = torch.randn((512,32,1)).to(\"cuda\")\n",
    "real_rep.shape"
   ]
  },
  {
   "cell_type": "code",
   "execution_count": 7,
   "metadata": {
    "execution": {
     "iopub.execute_input": "2024-02-06T23:17:04.242570Z",
     "iopub.status.busy": "2024-02-06T23:17:04.242460Z",
     "iopub.status.idle": "2024-02-06T23:17:29.308234Z",
     "shell.execute_reply": "2024-02-06T23:17:29.307871Z"
    }
   },
   "outputs": [
    {
     "name": "stdout",
     "output_type": "stream",
     "text": [
      "total time: 25.062963008880615\n"
     ]
    }
   ],
   "source": [
    "t0=time.time()\n",
    "for i in range(400000):\n",
    "    t1 = time.time()\n",
    "    sensitivity = 2 / batch_size\n",
    "    noise_std_for_privacy = privacy_param['sigma'] * sensitivity\n",
    "    noise = noise_std_for_privacy * torch.randn(real_rep.shape)\n",
    "    noise=noise.to(\"cuda\")\n",
    "    real_rep = real_rep + noise\n",
    "    #print(time.time()-t1)\n",
    "\n",
    "print(f\"total time: {time.time()-t0}\")"
   ]
  },
  {
   "cell_type": "code",
   "execution_count": 8,
   "metadata": {
    "execution": {
     "iopub.execute_input": "2024-02-06T23:17:29.309751Z",
     "iopub.status.busy": "2024-02-06T23:17:29.309659Z",
     "iopub.status.idle": "2024-02-06T23:17:29.314793Z",
     "shell.execute_reply": "2024-02-06T23:17:29.314550Z"
    }
   },
   "outputs": [
    {
     "data": {
      "text/plain": [
       "tensor([[[-33.7695],\n",
       "         [  9.6182],\n",
       "         [-15.4076],\n",
       "         ...,\n",
       "         [  3.8456],\n",
       "         [ -7.8432],\n",
       "         [  9.7308]],\n",
       "\n",
       "        [[ 13.6325],\n",
       "         [-23.2021],\n",
       "         [ -5.2610],\n",
       "         ...,\n",
       "         [  7.4523],\n",
       "         [  3.9155],\n",
       "         [  9.3336]],\n",
       "\n",
       "        [[ 11.9301],\n",
       "         [-13.4260],\n",
       "         [-11.5570],\n",
       "         ...,\n",
       "         [  0.7480],\n",
       "         [ 22.4204],\n",
       "         [-18.9121]],\n",
       "\n",
       "        ...,\n",
       "\n",
       "        [[ -3.4601],\n",
       "         [ 14.1682],\n",
       "         [ -0.9476],\n",
       "         ...,\n",
       "         [-13.0426],\n",
       "         [ -2.6224],\n",
       "         [-15.5356]],\n",
       "\n",
       "        [[ -0.4558],\n",
       "         [  3.4181],\n",
       "         [  9.8003],\n",
       "         ...,\n",
       "         [-11.8782],\n",
       "         [ 15.0290],\n",
       "         [  7.4703]],\n",
       "\n",
       "        [[  9.5254],\n",
       "         [ 10.9714],\n",
       "         [ 20.4477],\n",
       "         ...,\n",
       "         [  8.4553],\n",
       "         [-15.5184],\n",
       "         [  2.3923]]], device='cuda:0')"
      ]
     },
     "execution_count": 8,
     "metadata": {},
     "output_type": "execute_result"
    }
   ],
   "source": [
    "real_rep"
   ]
  }
 ],
 "metadata": {
  "kernelspec": {
   "display_name": "code-b8C0A6mP",
   "language": "python",
   "name": "python3"
  },
  "language_info": {
   "codemirror_mode": {
    "name": "ipython",
    "version": 3
   },
   "file_extension": ".py",
   "mimetype": "text/x-python",
   "name": "python",
   "nbconvert_exporter": "python",
   "pygments_lexer": "ipython3",
   "version": "3.7.17"
  }
 },
 "nbformat": 4,
 "nbformat_minor": 2
}
