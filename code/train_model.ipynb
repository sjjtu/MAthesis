{
 "cells": [
  {
   "cell_type": "code",
   "execution_count": 10,
   "metadata": {},
   "outputs": [],
   "source": [
    "import pandas as pd\n",
    "import numpy as np\n",
    "from matplotlib import pyplot as plt\n",
    "import torch"
   ]
  },
  {
   "cell_type": "code",
   "execution_count": 7,
   "metadata": {},
   "outputs": [],
   "source": [
    "def create_dataset(df):\n",
    "\n",
    "  sequences = df.astype(np.float32).to_numpy().tolist()\n",
    "\n",
    "  dataset = [torch.tensor(s).unsqueeze(1).float() for s in sequences]\n",
    "\n",
    "  n_seq, seq_len, n_features = torch.stack(dataset).shape\n",
    "\n",
    "  return dataset, seq_len, n_features"
   ]
  },
  {
   "cell_type": "code",
   "execution_count": 11,
   "metadata": {},
   "outputs": [
    {
     "data": {
      "text/html": [
       "<div>\n",
       "<style scoped>\n",
       "    .dataframe tbody tr th:only-of-type {\n",
       "        vertical-align: middle;\n",
       "    }\n",
       "\n",
       "    .dataframe tbody tr th {\n",
       "        vertical-align: top;\n",
       "    }\n",
       "\n",
       "    .dataframe thead th {\n",
       "        text-align: right;\n",
       "    }\n",
       "</style>\n",
       "<table border=\"1\" class=\"dataframe\">\n",
       "  <thead>\n",
       "    <tr style=\"text-align: right;\">\n",
       "      <th></th>\n",
       "      <th>t_0</th>\n",
       "      <th>t_1</th>\n",
       "      <th>t_2</th>\n",
       "      <th>t_3</th>\n",
       "      <th>t_4</th>\n",
       "      <th>t_5</th>\n",
       "      <th>t_6</th>\n",
       "      <th>t_7</th>\n",
       "      <th>t_8</th>\n",
       "      <th>t_9</th>\n",
       "      <th>...</th>\n",
       "      <th>t_170</th>\n",
       "      <th>t_171</th>\n",
       "      <th>t_172</th>\n",
       "      <th>t_173</th>\n",
       "      <th>t_174</th>\n",
       "      <th>t_175</th>\n",
       "      <th>t_176</th>\n",
       "      <th>t_177</th>\n",
       "      <th>t_178</th>\n",
       "      <th>t_179</th>\n",
       "    </tr>\n",
       "  </thead>\n",
       "  <tbody>\n",
       "    <tr>\n",
       "      <th>0</th>\n",
       "      <td>0.619277</td>\n",
       "      <td>0.619277</td>\n",
       "      <td>0.619277</td>\n",
       "      <td>0.619277</td>\n",
       "      <td>0.619277</td>\n",
       "      <td>0.619277</td>\n",
       "      <td>0.619277</td>\n",
       "      <td>0.619277</td>\n",
       "      <td>0.625301</td>\n",
       "      <td>0.621687</td>\n",
       "      <td>...</td>\n",
       "      <td>0.566265</td>\n",
       "      <td>0.567470</td>\n",
       "      <td>0.565060</td>\n",
       "      <td>0.561446</td>\n",
       "      <td>0.565060</td>\n",
       "      <td>0.567470</td>\n",
       "      <td>0.568675</td>\n",
       "      <td>0.567470</td>\n",
       "      <td>0.563855</td>\n",
       "      <td>0.563855</td>\n",
       "    </tr>\n",
       "    <tr>\n",
       "      <th>1</th>\n",
       "      <td>0.619277</td>\n",
       "      <td>0.619277</td>\n",
       "      <td>0.619277</td>\n",
       "      <td>0.619277</td>\n",
       "      <td>0.619277</td>\n",
       "      <td>0.619277</td>\n",
       "      <td>0.619277</td>\n",
       "      <td>0.625301</td>\n",
       "      <td>0.621687</td>\n",
       "      <td>0.619277</td>\n",
       "      <td>...</td>\n",
       "      <td>0.567470</td>\n",
       "      <td>0.565060</td>\n",
       "      <td>0.561446</td>\n",
       "      <td>0.565060</td>\n",
       "      <td>0.567470</td>\n",
       "      <td>0.568675</td>\n",
       "      <td>0.567470</td>\n",
       "      <td>0.563855</td>\n",
       "      <td>0.563855</td>\n",
       "      <td>0.566265</td>\n",
       "    </tr>\n",
       "    <tr>\n",
       "      <th>2</th>\n",
       "      <td>0.619277</td>\n",
       "      <td>0.619277</td>\n",
       "      <td>0.619277</td>\n",
       "      <td>0.619277</td>\n",
       "      <td>0.619277</td>\n",
       "      <td>0.619277</td>\n",
       "      <td>0.625301</td>\n",
       "      <td>0.621687</td>\n",
       "      <td>0.619277</td>\n",
       "      <td>0.618072</td>\n",
       "      <td>...</td>\n",
       "      <td>0.565060</td>\n",
       "      <td>0.561446</td>\n",
       "      <td>0.565060</td>\n",
       "      <td>0.567470</td>\n",
       "      <td>0.568675</td>\n",
       "      <td>0.567470</td>\n",
       "      <td>0.563855</td>\n",
       "      <td>0.563855</td>\n",
       "      <td>0.566265</td>\n",
       "      <td>0.566265</td>\n",
       "    </tr>\n",
       "    <tr>\n",
       "      <th>3</th>\n",
       "      <td>0.619277</td>\n",
       "      <td>0.619277</td>\n",
       "      <td>0.619277</td>\n",
       "      <td>0.619277</td>\n",
       "      <td>0.619277</td>\n",
       "      <td>0.625301</td>\n",
       "      <td>0.621687</td>\n",
       "      <td>0.619277</td>\n",
       "      <td>0.618072</td>\n",
       "      <td>0.615663</td>\n",
       "      <td>...</td>\n",
       "      <td>0.561446</td>\n",
       "      <td>0.565060</td>\n",
       "      <td>0.567470</td>\n",
       "      <td>0.568675</td>\n",
       "      <td>0.567470</td>\n",
       "      <td>0.563855</td>\n",
       "      <td>0.563855</td>\n",
       "      <td>0.566265</td>\n",
       "      <td>0.566265</td>\n",
       "      <td>0.567470</td>\n",
       "    </tr>\n",
       "    <tr>\n",
       "      <th>4</th>\n",
       "      <td>0.619277</td>\n",
       "      <td>0.619277</td>\n",
       "      <td>0.619277</td>\n",
       "      <td>0.619277</td>\n",
       "      <td>0.625301</td>\n",
       "      <td>0.621687</td>\n",
       "      <td>0.619277</td>\n",
       "      <td>0.618072</td>\n",
       "      <td>0.615663</td>\n",
       "      <td>0.616867</td>\n",
       "      <td>...</td>\n",
       "      <td>0.565060</td>\n",
       "      <td>0.567470</td>\n",
       "      <td>0.568675</td>\n",
       "      <td>0.567470</td>\n",
       "      <td>0.563855</td>\n",
       "      <td>0.563855</td>\n",
       "      <td>0.566265</td>\n",
       "      <td>0.566265</td>\n",
       "      <td>0.567470</td>\n",
       "      <td>0.567470</td>\n",
       "    </tr>\n",
       "  </tbody>\n",
       "</table>\n",
       "<p>5 rows × 180 columns</p>\n",
       "</div>"
      ],
      "text/plain": [
       "        t_0       t_1       t_2       t_3       t_4       t_5       t_6  \\\n",
       "0  0.619277  0.619277  0.619277  0.619277  0.619277  0.619277  0.619277   \n",
       "1  0.619277  0.619277  0.619277  0.619277  0.619277  0.619277  0.619277   \n",
       "2  0.619277  0.619277  0.619277  0.619277  0.619277  0.619277  0.625301   \n",
       "3  0.619277  0.619277  0.619277  0.619277  0.619277  0.625301  0.621687   \n",
       "4  0.619277  0.619277  0.619277  0.619277  0.625301  0.621687  0.619277   \n",
       "\n",
       "        t_7       t_8       t_9  ...     t_170     t_171     t_172     t_173  \\\n",
       "0  0.619277  0.625301  0.621687  ...  0.566265  0.567470  0.565060  0.561446   \n",
       "1  0.625301  0.621687  0.619277  ...  0.567470  0.565060  0.561446  0.565060   \n",
       "2  0.621687  0.619277  0.618072  ...  0.565060  0.561446  0.565060  0.567470   \n",
       "3  0.619277  0.618072  0.615663  ...  0.561446  0.565060  0.567470  0.568675   \n",
       "4  0.618072  0.615663  0.616867  ...  0.565060  0.567470  0.568675  0.567470   \n",
       "\n",
       "      t_174     t_175     t_176     t_177     t_178     t_179  \n",
       "0  0.565060  0.567470  0.568675  0.567470  0.563855  0.563855  \n",
       "1  0.567470  0.568675  0.567470  0.563855  0.563855  0.566265  \n",
       "2  0.568675  0.567470  0.563855  0.563855  0.566265  0.566265  \n",
       "3  0.567470  0.563855  0.563855  0.566265  0.566265  0.567470  \n",
       "4  0.563855  0.563855  0.566265  0.566265  0.567470  0.567470  \n",
       "\n",
       "[5 rows x 180 columns]"
      ]
     },
     "execution_count": 11,
     "metadata": {},
     "output_type": "execute_result"
    }
   ],
   "source": [
    "df = pd.read_csv(\"data/mit_bih.csv\", index_col=0)\n",
    "df.head()"
   ]
  },
  {
   "cell_type": "code",
   "execution_count": 19,
   "metadata": {},
   "outputs": [
    {
     "data": {
      "text/plain": [
       "t_0      0.619277\n",
       "t_1      0.619277\n",
       "t_2      0.619277\n",
       "t_3      0.619277\n",
       "t_4      0.619277\n",
       "           ...   \n",
       "t_175    0.567470\n",
       "t_176    0.568675\n",
       "t_177    0.567470\n",
       "t_178    0.563855\n",
       "t_179    0.563855\n",
       "Name: 0, Length: 180, dtype: float64"
      ]
     },
     "execution_count": 19,
     "metadata": {},
     "output_type": "execute_result"
    }
   ],
   "source": [
    "df.iloc[0]"
   ]
  },
  {
   "cell_type": "code",
   "execution_count": 24,
   "metadata": {},
   "outputs": [
    {
     "data": {
      "text/plain": [
       "[<matplotlib.lines.Line2D at 0x7ff8b07f9fd0>]"
      ]
     },
     "execution_count": 24,
     "metadata": {},
     "output_type": "execute_result"
    },
    {
     "data": {
      "image/png": "[encoded data removed]",
      "text/plain": [
       "<Figure size 640x480 with 1 Axes>"
      ]
     },
     "metadata": {},
     "output_type": "display_data"
    }
   ],
   "source": [
    "plt.plot(df.iloc[0,:])"
   ]
  },
  {
   "cell_type": "code",
   "execution_count": 32,
   "metadata": {},
   "outputs": [],
   "source": [
    "dataset,seq_len, n_feat = create_dataset(df)"
   ]
  }
 ],
 "metadata": {
  "kernelspec": {
   "display_name": "code-b8C0A6mP",
   "language": "python",
   "name": "python3"
  },
  "language_info": {
   "codemirror_mode": {
    "name": "ipython",
    "version": 3
   },
   "file_extension": ".py",
   "mimetype": "text/x-python",
   "name": "python",
   "nbconvert_exporter": "python",
   "pygments_lexer": "ipython3",
   "version": "3.7.17"
  }
 },
 "nbformat": 4,
 "nbformat_minor": 2
}
