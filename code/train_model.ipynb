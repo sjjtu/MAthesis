{
 "cells": [
  {
   "cell_type": "code",
   "execution_count": 1,
   "metadata": {},
   "outputs": [
    {
     "name": "stderr",
     "output_type": "stream",
     "text": [
      "/home/user1-asd-arch/.local/share/virtualenvs/code-b8C0A6mP/lib/python3.7/site-packages/tqdm/auto.py:21: TqdmWarning: IProgress not found. Please update jupyter and ipywidgets. See https://ipywidgets.readthedocs.io/en/stable/user_install.html\n",
      "  from .autonotebook import tqdm as notebook_tqdm\n"
     ]
    }
   ],
   "source": [
    "import pandas as pd\n",
    "import numpy as np\n",
    "from matplotlib import pyplot as plt\n",
    "import torch\n",
    "\n",
    "import copy\n",
    "import random"
   ]
  },
  {
   "cell_type": "code",
   "execution_count": 2,
   "metadata": {},
   "outputs": [],
   "source": [
    "def create_dataset(df, shuffle=True):\n",
    "\n",
    "  sequences = df.astype(np.float32).to_numpy().tolist()\n",
    "\n",
    "  dataset = [torch.tensor(s).unsqueeze(1).float() for s in sequences]\n",
    "\n",
    "  if shuffle: \n",
    "    random.Random(6).shuffle(dataset)\n",
    "\n",
    "  n_seq, seq_len, n_features = torch.stack(dataset).shape\n",
    "\n",
    "  return dataset, seq_len, n_features"
   ]
  },
  {
   "cell_type": "code",
   "execution_count": 3,
   "metadata": {},
   "outputs": [
    {
     "data": {
      "text/html": [
       "<div>\n",
       "<style scoped>\n",
       "    .dataframe tbody tr th:only-of-type {\n",
       "        vertical-align: middle;\n",
       "    }\n",
       "\n",
       "    .dataframe tbody tr th {\n",
       "        vertical-align: top;\n",
       "    }\n",
       "\n",
       "    .dataframe thead th {\n",
       "        text-align: right;\n",
       "    }\n",
       "</style>\n",
       "<table border=\"1\" class=\"dataframe\">\n",
       "  <thead>\n",
       "    <tr style=\"text-align: right;\">\n",
       "      <th></th>\n",
       "      <th>t_0</th>\n",
       "      <th>t_1</th>\n",
       "      <th>t_2</th>\n",
       "      <th>t_3</th>\n",
       "      <th>t_4</th>\n",
       "      <th>t_5</th>\n",
       "      <th>t_6</th>\n",
       "      <th>t_7</th>\n",
       "      <th>t_8</th>\n",
       "      <th>t_9</th>\n",
       "      <th>...</th>\n",
       "      <th>t_170</th>\n",
       "      <th>t_171</th>\n",
       "      <th>t_172</th>\n",
       "      <th>t_173</th>\n",
       "      <th>t_174</th>\n",
       "      <th>t_175</th>\n",
       "      <th>t_176</th>\n",
       "      <th>t_177</th>\n",
       "      <th>t_178</th>\n",
       "      <th>t_179</th>\n",
       "    </tr>\n",
       "  </thead>\n",
       "  <tbody>\n",
       "    <tr>\n",
       "      <th>0</th>\n",
       "      <td>0.572289</td>\n",
       "      <td>0.572289</td>\n",
       "      <td>0.572289</td>\n",
       "      <td>0.575904</td>\n",
       "      <td>0.575904</td>\n",
       "      <td>0.575904</td>\n",
       "      <td>0.571084</td>\n",
       "      <td>0.569880</td>\n",
       "      <td>0.572289</td>\n",
       "      <td>0.574699</td>\n",
       "      <td>...</td>\n",
       "      <td>0.557831</td>\n",
       "      <td>0.559036</td>\n",
       "      <td>0.559036</td>\n",
       "      <td>0.556627</td>\n",
       "      <td>0.555422</td>\n",
       "      <td>0.551807</td>\n",
       "      <td>0.551807</td>\n",
       "      <td>0.555422</td>\n",
       "      <td>0.555422</td>\n",
       "      <td>0.553012</td>\n",
       "    </tr>\n",
       "    <tr>\n",
       "      <th>1</th>\n",
       "      <td>0.574699</td>\n",
       "      <td>0.574699</td>\n",
       "      <td>0.575904</td>\n",
       "      <td>0.578313</td>\n",
       "      <td>0.578313</td>\n",
       "      <td>0.578313</td>\n",
       "      <td>0.574699</td>\n",
       "      <td>0.574699</td>\n",
       "      <td>0.577108</td>\n",
       "      <td>0.578313</td>\n",
       "      <td>...</td>\n",
       "      <td>0.566265</td>\n",
       "      <td>0.566265</td>\n",
       "      <td>0.567470</td>\n",
       "      <td>0.563855</td>\n",
       "      <td>0.562651</td>\n",
       "      <td>0.557831</td>\n",
       "      <td>0.560241</td>\n",
       "      <td>0.563855</td>\n",
       "      <td>0.563855</td>\n",
       "      <td>0.565060</td>\n",
       "    </tr>\n",
       "    <tr>\n",
       "      <th>2</th>\n",
       "      <td>0.583133</td>\n",
       "      <td>0.585542</td>\n",
       "      <td>0.586747</td>\n",
       "      <td>0.587952</td>\n",
       "      <td>0.586747</td>\n",
       "      <td>0.584337</td>\n",
       "      <td>0.579518</td>\n",
       "      <td>0.580723</td>\n",
       "      <td>0.585542</td>\n",
       "      <td>0.589157</td>\n",
       "      <td>...</td>\n",
       "      <td>0.561446</td>\n",
       "      <td>0.562651</td>\n",
       "      <td>0.561446</td>\n",
       "      <td>0.559036</td>\n",
       "      <td>0.556627</td>\n",
       "      <td>0.557831</td>\n",
       "      <td>0.560241</td>\n",
       "      <td>0.562651</td>\n",
       "      <td>0.562651</td>\n",
       "      <td>0.561446</td>\n",
       "    </tr>\n",
       "    <tr>\n",
       "      <th>3</th>\n",
       "      <td>0.571084</td>\n",
       "      <td>0.568675</td>\n",
       "      <td>0.567470</td>\n",
       "      <td>0.567470</td>\n",
       "      <td>0.566265</td>\n",
       "      <td>0.571084</td>\n",
       "      <td>0.568675</td>\n",
       "      <td>0.569880</td>\n",
       "      <td>0.567470</td>\n",
       "      <td>0.568675</td>\n",
       "      <td>...</td>\n",
       "      <td>0.551807</td>\n",
       "      <td>0.550602</td>\n",
       "      <td>0.556627</td>\n",
       "      <td>0.556627</td>\n",
       "      <td>0.556627</td>\n",
       "      <td>0.556627</td>\n",
       "      <td>0.550602</td>\n",
       "      <td>0.554217</td>\n",
       "      <td>0.555422</td>\n",
       "      <td>0.554217</td>\n",
       "    </tr>\n",
       "    <tr>\n",
       "      <th>4</th>\n",
       "      <td>0.569880</td>\n",
       "      <td>0.568675</td>\n",
       "      <td>0.572289</td>\n",
       "      <td>0.571084</td>\n",
       "      <td>0.568675</td>\n",
       "      <td>0.568675</td>\n",
       "      <td>0.568675</td>\n",
       "      <td>0.572289</td>\n",
       "      <td>0.572289</td>\n",
       "      <td>0.571084</td>\n",
       "      <td>...</td>\n",
       "      <td>0.557831</td>\n",
       "      <td>0.556627</td>\n",
       "      <td>0.554217</td>\n",
       "      <td>0.549398</td>\n",
       "      <td>0.554217</td>\n",
       "      <td>0.554217</td>\n",
       "      <td>0.557831</td>\n",
       "      <td>0.556627</td>\n",
       "      <td>0.553012</td>\n",
       "      <td>0.550602</td>\n",
       "    </tr>\n",
       "  </tbody>\n",
       "</table>\n",
       "<p>5 rows × 180 columns</p>\n",
       "</div>"
      ],
      "text/plain": [
       "        t_0       t_1       t_2       t_3       t_4       t_5       t_6  \\\n",
       "0  0.572289  0.572289  0.572289  0.575904  0.575904  0.575904  0.571084   \n",
       "1  0.574699  0.574699  0.575904  0.578313  0.578313  0.578313  0.574699   \n",
       "2  0.583133  0.585542  0.586747  0.587952  0.586747  0.584337  0.579518   \n",
       "3  0.571084  0.568675  0.567470  0.567470  0.566265  0.571084  0.568675   \n",
       "4  0.569880  0.568675  0.572289  0.571084  0.568675  0.568675  0.568675   \n",
       "\n",
       "        t_7       t_8       t_9  ...     t_170     t_171     t_172     t_173  \\\n",
       "0  0.569880  0.572289  0.574699  ...  0.557831  0.559036  0.559036  0.556627   \n",
       "1  0.574699  0.577108  0.578313  ...  0.566265  0.566265  0.567470  0.563855   \n",
       "2  0.580723  0.585542  0.589157  ...  0.561446  0.562651  0.561446  0.559036   \n",
       "3  0.569880  0.567470  0.568675  ...  0.551807  0.550602  0.556627  0.556627   \n",
       "4  0.572289  0.572289  0.571084  ...  0.557831  0.556627  0.554217  0.549398   \n",
       "\n",
       "      t_174     t_175     t_176     t_177     t_178     t_179  \n",
       "0  0.555422  0.551807  0.551807  0.555422  0.555422  0.553012  \n",
       "1  0.562651  0.557831  0.560241  0.563855  0.563855  0.565060  \n",
       "2  0.556627  0.557831  0.560241  0.562651  0.562651  0.561446  \n",
       "3  0.556627  0.556627  0.550602  0.554217  0.555422  0.554217  \n",
       "4  0.554217  0.554217  0.557831  0.556627  0.553012  0.550602  \n",
       "\n",
       "[5 rows x 180 columns]"
      ]
     },
     "execution_count": 3,
     "metadata": {},
     "output_type": "execute_result"
    }
   ],
   "source": [
    "df = pd.read_csv(\"data/mit_bih.csv\", index_col=0)\n",
    "df.head()"
   ]
  },
  {
   "cell_type": "code",
   "execution_count": 4,
   "metadata": {},
   "outputs": [
    {
     "data": {
      "text/plain": [
       "t_0      0.572289\n",
       "t_1      0.572289\n",
       "t_2      0.572289\n",
       "t_3      0.575904\n",
       "t_4      0.575904\n",
       "           ...   \n",
       "t_175    0.551807\n",
       "t_176    0.551807\n",
       "t_177    0.555422\n",
       "t_178    0.555422\n",
       "t_179    0.553012\n",
       "Name: 0, Length: 180, dtype: float64"
      ]
     },
     "execution_count": 4,
     "metadata": {},
     "output_type": "execute_result"
    }
   ],
   "source": [
    "df.iloc[0]"
   ]
  },
  {
   "cell_type": "code",
   "execution_count": 5,
   "metadata": {},
   "outputs": [
    {
     "data": {
      "text/plain": [
       "[<matplotlib.lines.Line2D at 0x7f350f6b4890>]"
      ]
     },
     "execution_count": 5,
     "metadata": {},
     "output_type": "execute_result"
    },
    {
     "data": {
      "image/png": "[encoded data removed]",
      "text/plain": [
       "<Figure size 640x480 with 1 Axes>"
      ]
     },
     "metadata": {},
     "output_type": "display_data"
    }
   ],
   "source": [
    "plt.plot(df.iloc[234,:])"
   ]
  },
  {
   "cell_type": "code",
   "execution_count": 6,
   "metadata": {},
   "outputs": [
    {
     "data": {
      "text/plain": [
       "device(type='cuda')"
      ]
     },
     "execution_count": 6,
     "metadata": {},
     "output_type": "execute_result"
    }
   ],
   "source": [
    "device = torch.device(\"cuda\" if torch.cuda.is_available() else \"cpu\")\n",
    "device"
   ]
  },
  {
   "cell_type": "code",
   "execution_count": 7,
   "metadata": {},
   "outputs": [],
   "source": [
    "def train_model(model, train_dataset, val_dataset, n_epochs, lr):\n",
    "  optimizer = torch.optim.Adam(model.parameters(), lr=lr)\n",
    "  criterion = torch.nn.L1Loss(reduction='sum').to(device)\n",
    "  history = dict(train=[], val=[])\n",
    "\n",
    "  best_model_wts = copy.deepcopy(model.state_dict())\n",
    "  best_loss = 10000.0\n",
    "  \n",
    "  for epoch in range(1, n_epochs + 1):\n",
    "    model = model.train()\n",
    "\n",
    "    train_losses = []\n",
    "    for seq_true in train_dataset:\n",
    "      optimizer.zero_grad()\n",
    "\n",
    "      seq_true = seq_true.to(device)\n",
    "      seq_pred = model(seq_true)\n",
    "\n",
    "      loss = criterion(seq_pred, seq_true)\n",
    "\n",
    "      loss.backward()\n",
    "      optimizer.step()\n",
    "\n",
    "      train_losses.append(loss.item())\n",
    "\n",
    "    val_losses = []\n",
    "    model = model.eval()\n",
    "    with torch.no_grad():\n",
    "      for seq_true in val_dataset:\n",
    "\n",
    "        seq_true = seq_true.to(device)\n",
    "        seq_pred = model(seq_true)\n",
    "\n",
    "        loss = criterion(seq_pred, seq_true)\n",
    "        val_losses.append(loss.item())\n",
    "\n",
    "    train_loss = np.mean(train_losses)\n",
    "    val_loss = np.mean(val_losses)\n",
    "\n",
    "    history['train'].append(train_loss)\n",
    "    history['val'].append(val_loss)\n",
    "\n",
    "    if val_loss < best_loss:\n",
    "      best_loss = val_loss\n",
    "      best_model_wts = copy.deepcopy(model.state_dict())\n",
    "\n",
    "    print(f'Epoch {epoch}: train loss {train_loss} val loss {val_loss}')\n",
    "\n",
    "  model.load_state_dict(best_model_wts)\n",
    "  return model.eval(), history"
   ]
  },
  {
   "cell_type": "code",
   "execution_count": 8,
   "metadata": {},
   "outputs": [],
   "source": [
    "dataset,seq_len, n_feat = create_dataset(df)"
   ]
  },
  {
   "cell_type": "code",
   "execution_count": 9,
   "metadata": {},
   "outputs": [
    {
     "data": {
      "text/plain": [
       "tensor([[0.6000],\n",
       "        [0.6012],\n",
       "        [0.6048],\n",
       "        [0.6036],\n",
       "        [0.6000],\n",
       "        [0.6000],\n",
       "        [0.6012],\n",
       "        [0.6024],\n",
       "        [0.6012],\n",
       "        [0.6000],\n",
       "        [0.5964],\n",
       "        [0.5952],\n",
       "        [0.5976],\n",
       "        [0.6024],\n",
       "        [0.6048],\n",
       "        [0.6036],\n",
       "        [0.6048],\n",
       "        [0.6048],\n",
       "        [0.6072],\n",
       "        [0.6145],\n",
       "        [0.6157],\n",
       "        [0.6157],\n",
       "        [0.6120],\n",
       "        [0.6133],\n",
       "        [0.6193],\n",
       "        [0.6205],\n",
       "        [0.6217],\n",
       "        [0.6205],\n",
       "        [0.6241],\n",
       "        [0.6217],\n",
       "        [0.6265],\n",
       "        [0.6277],\n",
       "        [0.6289],\n",
       "        [0.6253],\n",
       "        [0.6229],\n",
       "        [0.6193],\n",
       "        [0.6181],\n",
       "        [0.6229],\n",
       "        [0.6229],\n",
       "        [0.6193],\n",
       "        [0.6157],\n",
       "        [0.6145],\n",
       "        [0.6193],\n",
       "        [0.6265],\n",
       "        [0.6277],\n",
       "        [0.6193],\n",
       "        [0.6108],\n",
       "        [0.6048],\n",
       "        [0.6048],\n",
       "        [0.6048],\n",
       "        [0.6012],\n",
       "        [0.6000],\n",
       "        [0.5976],\n",
       "        [0.5928],\n",
       "        [0.5940],\n",
       "        [0.6000],\n",
       "        [0.5988],\n",
       "        [0.5952],\n",
       "        [0.5916],\n",
       "        [0.5916],\n",
       "        [0.5892],\n",
       "        [0.5904],\n",
       "        [0.5928],\n",
       "        [0.5880],\n",
       "        [0.5867],\n",
       "        [0.5855],\n",
       "        [0.5855],\n",
       "        [0.5892],\n",
       "        [0.5916],\n",
       "        [0.5916],\n",
       "        [0.5880],\n",
       "        [0.5843],\n",
       "        [0.5819],\n",
       "        [0.5795],\n",
       "        [0.5675],\n",
       "        [0.5566],\n",
       "        [0.5494],\n",
       "        [0.5410],\n",
       "        [0.5301],\n",
       "        [0.5265],\n",
       "        [0.5361],\n",
       "        [0.5530],\n",
       "        [0.5759],\n",
       "        [0.5988],\n",
       "        [0.6277],\n",
       "        [0.6602],\n",
       "        [0.6976],\n",
       "        [0.7542],\n",
       "        [0.8217],\n",
       "        [0.8867],\n",
       "        [0.9361],\n",
       "        [0.9542],\n",
       "        [0.9253],\n",
       "        [0.8361],\n",
       "        [0.7108],\n",
       "        [0.6048],\n",
       "        [0.5578],\n",
       "        [0.5627],\n",
       "        [0.5831],\n",
       "        [0.5952],\n",
       "        [0.5916],\n",
       "        [0.5855],\n",
       "        [0.5880],\n",
       "        [0.5892],\n",
       "        [0.5892],\n",
       "        [0.5843],\n",
       "        [0.5831],\n",
       "        [0.5819],\n",
       "        [0.5819],\n",
       "        [0.5831],\n",
       "        [0.5819],\n",
       "        [0.5831],\n",
       "        [0.5735],\n",
       "        [0.5759],\n",
       "        [0.5795],\n",
       "        [0.5795],\n",
       "        [0.5819],\n",
       "        [0.5819],\n",
       "        [0.5771],\n",
       "        [0.5759],\n",
       "        [0.5783],\n",
       "        [0.5819],\n",
       "        [0.5807],\n",
       "        [0.5843],\n",
       "        [0.5807],\n",
       "        [0.5783],\n",
       "        [0.5795],\n",
       "        [0.5831],\n",
       "        [0.5831],\n",
       "        [0.5795],\n",
       "        [0.5807],\n",
       "        [0.5795],\n",
       "        [0.5807],\n",
       "        [0.5843],\n",
       "        [0.5843],\n",
       "        [0.5819],\n",
       "        [0.5807],\n",
       "        [0.5771],\n",
       "        [0.5795],\n",
       "        [0.5831],\n",
       "        [0.5831],\n",
       "        [0.5795],\n",
       "        [0.5795],\n",
       "        [0.5771],\n",
       "        [0.5783],\n",
       "        [0.5771],\n",
       "        [0.5795],\n",
       "        [0.5795],\n",
       "        [0.5795],\n",
       "        [0.5759],\n",
       "        [0.5771],\n",
       "        [0.5783],\n",
       "        [0.5807],\n",
       "        [0.5831],\n",
       "        [0.5807],\n",
       "        [0.5747],\n",
       "        [0.5795],\n",
       "        [0.5819],\n",
       "        [0.5819],\n",
       "        [0.5831],\n",
       "        [0.5807],\n",
       "        [0.5747],\n",
       "        [0.5783],\n",
       "        [0.5795],\n",
       "        [0.5819],\n",
       "        [0.5783],\n",
       "        [0.5771],\n",
       "        [0.5759],\n",
       "        [0.5759],\n",
       "        [0.5795],\n",
       "        [0.5795],\n",
       "        [0.5795],\n",
       "        [0.5771],\n",
       "        [0.5747],\n",
       "        [0.5771],\n",
       "        [0.5783],\n",
       "        [0.5771],\n",
       "        [0.5795],\n",
       "        [0.5759],\n",
       "        [0.5735]])"
      ]
     },
     "execution_count": 9,
     "metadata": {},
     "output_type": "execute_result"
    }
   ],
   "source": [
    "dataset[0]"
   ]
  },
  {
   "cell_type": "code",
   "execution_count": 10,
   "metadata": {},
   "outputs": [],
   "source": [
    "dataset = dataset[0:5000]"
   ]
  },
  {
   "cell_type": "code",
   "execution_count": 11,
   "metadata": {},
   "outputs": [
    {
     "data": {
      "text/plain": [
       "RecurrentAutoencoder(\n",
       "  (encoder): Encoder(\n",
       "    (rnn1): LSTM(1, 256, batch_first=True)\n",
       "    (rnn2): LSTM(256, 128, batch_first=True)\n",
       "  )\n",
       "  (decoder): Decoder(\n",
       "    (rnn1): LSTM(128, 128, batch_first=True)\n",
       "    (rnn2): LSTM(128, 256, batch_first=True)\n",
       "    (output_layer): Linear(in_features=256, out_features=1, bias=True)\n",
       "  )\n",
       ")"
      ]
     },
     "execution_count": 11,
     "metadata": {},
     "output_type": "execute_result"
    }
   ],
   "source": [
    "from lstmae import RecurrentAutoencoder\n",
    "\n",
    "model = RecurrentAutoencoder(seq_len, n_feat, device, 128)\n",
    "model = model.to(device)\n",
    "model"
   ]
  },
  {
   "cell_type": "code",
   "execution_count": 12,
   "metadata": {},
   "outputs": [],
   "source": [
    "train_ratio = 0.7\n",
    "test_ratio = 0.1\n",
    "train_index = int(len(dataset)*train_ratio)\n",
    "test_index = int(len(dataset)*test_ratio) + train_index\n",
    "train = dataset[0:train_index]\n",
    "test = dataset[train_index:test_index]\n",
    "val = dataset[test_index::]\n",
    "assert len(train)+len(test)+len(val) == len(dataset)"
   ]
  },
  {
   "cell_type": "code",
   "execution_count": 13,
   "metadata": {},
   "outputs": [
    {
     "name": "stdout",
     "output_type": "stream",
     "text": [
      "Epoch 1: train loss 8.095197120870862 val loss 4.570648019075394\n",
      "Epoch 2: train loss 6.140729051726205 val loss 4.474429612636566\n",
      "Epoch 3: train loss 6.066187230723245 val loss 4.630044482707977\n",
      "Epoch 4: train loss 5.967013066768646 val loss 4.911952033996582\n",
      "Epoch 5: train loss 6.065726082052503 val loss 4.827156135320664\n",
      "Epoch 6: train loss 6.03094591992242 val loss 4.669893185377121\n",
      "Epoch 7: train loss 5.961962776933397 val loss 5.020297659397126\n",
      "Epoch 8: train loss 5.791603078978402 val loss 4.4978244407176975\n",
      "Epoch 9: train loss 5.719635787010193 val loss 5.100158972978592\n",
      "Epoch 10: train loss 5.822277328218733 val loss 5.972427594184875\n",
      "Epoch 11: train loss 5.711576251643044 val loss 4.717722195148468\n",
      "Epoch 12: train loss 5.726840373107366 val loss 6.753239604234696\n",
      "Epoch 13: train loss 5.66542803818839 val loss 4.554942609786988\n",
      "Epoch 14: train loss 5.737139183998108 val loss 6.12031285238266\n",
      "Epoch 15: train loss 5.741015915461949 val loss 4.599425235748291\n",
      "Epoch 16: train loss 5.698619022165026 val loss 5.819295238733291\n",
      "Epoch 17: train loss 5.733566755567278 val loss 5.497668680906296\n",
      "Epoch 18: train loss 5.685991448606764 val loss 4.585473383188248\n",
      "Epoch 19: train loss 5.7187663248607095 val loss 4.518285452127457\n",
      "Epoch 20: train loss 5.675048722607749 val loss 4.502680064678192\n"
     ]
    }
   ],
   "source": [
    "model, history = train_model(\n",
    "  model, \n",
    "  train_dataset=train, \n",
    "  val_dataset=val, \n",
    "  n_epochs=20,\n",
    "  lr=1e-2\n",
    ")"
   ]
  },
  {
   "cell_type": "code",
   "execution_count": 15,
   "metadata": {},
   "outputs": [],
   "source": [
    "torch.save(model, \"models/lstmae_5000\")"
   ]
  },
  {
   "cell_type": "code",
   "execution_count": 85,
   "metadata": {},
   "outputs": [],
   "source": [
    "model = model.to(device=\"cpu\")"
   ]
  },
  {
   "cell_type": "code",
   "execution_count": 86,
   "metadata": {},
   "outputs": [
    {
     "data": {
      "text/plain": [
       "[<matplotlib.lines.Line2D at 0x7fec41572690>]"
      ]
     },
     "execution_count": 86,
     "metadata": {},
     "output_type": "execute_result"
    },
    {
     "data": {
      "image/png": "[encoded data removed]",
      "text/plain": [
       "<Figure size 640x480 with 1 Axes>"
      ]
     },
     "metadata": {},
     "output_type": "display_data"
    }
   ],
   "source": [
    "plt.plot(model(dataset[0]).detach().numpy().squeeze())\n",
    "plt.plot(dataset[0].detach().numpy().squeeze())"
   ]
  }
 ],
 "metadata": {
  "kernelspec": {
   "display_name": "code-b8C0A6mP",
   "language": "python",
   "name": "python3"
  },
  "language_info": {
   "codemirror_mode": {
    "name": "ipython",
    "version": 3
   },
   "file_extension": ".py",
   "mimetype": "text/x-python",
   "name": "python",
   "nbconvert_exporter": "python",
   "pygments_lexer": "ipython3",
   "version": "3.7.17"
  }
 },
 "nbformat": 4,
 "nbformat_minor": 2
}
