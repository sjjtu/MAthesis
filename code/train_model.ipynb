{
 "cells": [
  {
   "cell_type": "code",
   "execution_count": 26,
   "metadata": {},
   "outputs": [],
   "source": [
    "import pandas as pd\n",
    "import numpy as np\n",
    "from matplotlib import pyplot as plt\n",
    "import torch\n",
    "import copy"
   ]
  },
  {
   "cell_type": "code",
   "execution_count": 27,
   "metadata": {},
   "outputs": [],
   "source": [
    "def create_dataset(df):\n",
    "\n",
    "  sequences = df.astype(np.float32).to_numpy().tolist()\n",
    "\n",
    "  dataset = [torch.tensor(s).unsqueeze(1).float() for s in sequences]\n",
    "\n",
    "  n_seq, seq_len, n_features = torch.stack(dataset).shape\n",
    "\n",
    "  return dataset, seq_len, n_features"
   ]
  },
  {
   "cell_type": "code",
   "execution_count": 28,
   "metadata": {},
   "outputs": [
    {
     "data": {
      "text/html": [
       "<div>\n",
       "<style scoped>\n",
       "    .dataframe tbody tr th:only-of-type {\n",
       "        vertical-align: middle;\n",
       "    }\n",
       "\n",
       "    .dataframe tbody tr th {\n",
       "        vertical-align: top;\n",
       "    }\n",
       "\n",
       "    .dataframe thead th {\n",
       "        text-align: right;\n",
       "    }\n",
       "</style>\n",
       "<table border=\"1\" class=\"dataframe\">\n",
       "  <thead>\n",
       "    <tr style=\"text-align: right;\">\n",
       "      <th></th>\n",
       "      <th>t_0</th>\n",
       "      <th>t_1</th>\n",
       "      <th>t_2</th>\n",
       "      <th>t_3</th>\n",
       "      <th>t_4</th>\n",
       "      <th>t_5</th>\n",
       "      <th>t_6</th>\n",
       "      <th>t_7</th>\n",
       "      <th>t_8</th>\n",
       "      <th>t_9</th>\n",
       "      <th>...</th>\n",
       "      <th>t_170</th>\n",
       "      <th>t_171</th>\n",
       "      <th>t_172</th>\n",
       "      <th>t_173</th>\n",
       "      <th>t_174</th>\n",
       "      <th>t_175</th>\n",
       "      <th>t_176</th>\n",
       "      <th>t_177</th>\n",
       "      <th>t_178</th>\n",
       "      <th>t_179</th>\n",
       "    </tr>\n",
       "  </thead>\n",
       "  <tbody>\n",
       "    <tr>\n",
       "      <th>0</th>\n",
       "      <td>0.580723</td>\n",
       "      <td>0.579518</td>\n",
       "      <td>0.581928</td>\n",
       "      <td>0.580723</td>\n",
       "      <td>0.584337</td>\n",
       "      <td>0.581928</td>\n",
       "      <td>0.581928</td>\n",
       "      <td>0.580723</td>\n",
       "      <td>0.580723</td>\n",
       "      <td>0.584337</td>\n",
       "      <td>...</td>\n",
       "      <td>0.553012</td>\n",
       "      <td>0.555422</td>\n",
       "      <td>0.554217</td>\n",
       "      <td>0.551807</td>\n",
       "      <td>0.553012</td>\n",
       "      <td>0.549398</td>\n",
       "      <td>0.550602</td>\n",
       "      <td>0.550602</td>\n",
       "      <td>0.553012</td>\n",
       "      <td>0.550602</td>\n",
       "    </tr>\n",
       "    <tr>\n",
       "      <th>1</th>\n",
       "      <td>0.574699</td>\n",
       "      <td>0.571084</td>\n",
       "      <td>0.571084</td>\n",
       "      <td>0.568675</td>\n",
       "      <td>0.569880</td>\n",
       "      <td>0.572289</td>\n",
       "      <td>0.574699</td>\n",
       "      <td>0.572289</td>\n",
       "      <td>0.572289</td>\n",
       "      <td>0.572289</td>\n",
       "      <td>...</td>\n",
       "      <td>0.557831</td>\n",
       "      <td>0.554217</td>\n",
       "      <td>0.556627</td>\n",
       "      <td>0.556627</td>\n",
       "      <td>0.555422</td>\n",
       "      <td>0.554217</td>\n",
       "      <td>0.553012</td>\n",
       "      <td>0.553012</td>\n",
       "      <td>0.551807</td>\n",
       "      <td>0.554217</td>\n",
       "    </tr>\n",
       "    <tr>\n",
       "      <th>2</th>\n",
       "      <td>0.563855</td>\n",
       "      <td>0.561446</td>\n",
       "      <td>0.568675</td>\n",
       "      <td>0.567470</td>\n",
       "      <td>0.568675</td>\n",
       "      <td>0.567470</td>\n",
       "      <td>0.567470</td>\n",
       "      <td>0.565060</td>\n",
       "      <td>0.567470</td>\n",
       "      <td>0.571084</td>\n",
       "      <td>...</td>\n",
       "      <td>0.566265</td>\n",
       "      <td>0.565060</td>\n",
       "      <td>0.563855</td>\n",
       "      <td>0.561446</td>\n",
       "      <td>0.560241</td>\n",
       "      <td>0.560241</td>\n",
       "      <td>0.563855</td>\n",
       "      <td>0.566265</td>\n",
       "      <td>0.561446</td>\n",
       "      <td>0.562651</td>\n",
       "    </tr>\n",
       "    <tr>\n",
       "      <th>3</th>\n",
       "      <td>0.571084</td>\n",
       "      <td>0.571084</td>\n",
       "      <td>0.569880</td>\n",
       "      <td>0.568675</td>\n",
       "      <td>0.571084</td>\n",
       "      <td>0.574699</td>\n",
       "      <td>0.574699</td>\n",
       "      <td>0.573494</td>\n",
       "      <td>0.573494</td>\n",
       "      <td>0.572289</td>\n",
       "      <td>...</td>\n",
       "      <td>0.556627</td>\n",
       "      <td>0.551807</td>\n",
       "      <td>0.551807</td>\n",
       "      <td>0.551807</td>\n",
       "      <td>0.553012</td>\n",
       "      <td>0.551807</td>\n",
       "      <td>0.545783</td>\n",
       "      <td>0.546988</td>\n",
       "      <td>0.545783</td>\n",
       "      <td>0.549398</td>\n",
       "    </tr>\n",
       "    <tr>\n",
       "      <th>4</th>\n",
       "      <td>0.572289</td>\n",
       "      <td>0.572289</td>\n",
       "      <td>0.572289</td>\n",
       "      <td>0.575904</td>\n",
       "      <td>0.575904</td>\n",
       "      <td>0.575904</td>\n",
       "      <td>0.571084</td>\n",
       "      <td>0.569880</td>\n",
       "      <td>0.572289</td>\n",
       "      <td>0.574699</td>\n",
       "      <td>...</td>\n",
       "      <td>0.557831</td>\n",
       "      <td>0.559036</td>\n",
       "      <td>0.559036</td>\n",
       "      <td>0.556627</td>\n",
       "      <td>0.555422</td>\n",
       "      <td>0.551807</td>\n",
       "      <td>0.551807</td>\n",
       "      <td>0.555422</td>\n",
       "      <td>0.555422</td>\n",
       "      <td>0.553012</td>\n",
       "    </tr>\n",
       "  </tbody>\n",
       "</table>\n",
       "<p>5 rows × 180 columns</p>\n",
       "</div>"
      ],
      "text/plain": [
       "        t_0       t_1       t_2       t_3       t_4       t_5       t_6  \\\n",
       "0  0.580723  0.579518  0.581928  0.580723  0.584337  0.581928  0.581928   \n",
       "1  0.574699  0.571084  0.571084  0.568675  0.569880  0.572289  0.574699   \n",
       "2  0.563855  0.561446  0.568675  0.567470  0.568675  0.567470  0.567470   \n",
       "3  0.571084  0.571084  0.569880  0.568675  0.571084  0.574699  0.574699   \n",
       "4  0.572289  0.572289  0.572289  0.575904  0.575904  0.575904  0.571084   \n",
       "\n",
       "        t_7       t_8       t_9  ...     t_170     t_171     t_172     t_173  \\\n",
       "0  0.580723  0.580723  0.584337  ...  0.553012  0.555422  0.554217  0.551807   \n",
       "1  0.572289  0.572289  0.572289  ...  0.557831  0.554217  0.556627  0.556627   \n",
       "2  0.565060  0.567470  0.571084  ...  0.566265  0.565060  0.563855  0.561446   \n",
       "3  0.573494  0.573494  0.572289  ...  0.556627  0.551807  0.551807  0.551807   \n",
       "4  0.569880  0.572289  0.574699  ...  0.557831  0.559036  0.559036  0.556627   \n",
       "\n",
       "      t_174     t_175     t_176     t_177     t_178     t_179  \n",
       "0  0.553012  0.549398  0.550602  0.550602  0.553012  0.550602  \n",
       "1  0.555422  0.554217  0.553012  0.553012  0.551807  0.554217  \n",
       "2  0.560241  0.560241  0.563855  0.566265  0.561446  0.562651  \n",
       "3  0.553012  0.551807  0.545783  0.546988  0.545783  0.549398  \n",
       "4  0.555422  0.551807  0.551807  0.555422  0.555422  0.553012  \n",
       "\n",
       "[5 rows x 180 columns]"
      ]
     },
     "execution_count": 28,
     "metadata": {},
     "output_type": "execute_result"
    }
   ],
   "source": [
    "df = pd.read_csv(\"data/mit_bih.csv\", index_col=0)\n",
    "df.head()"
   ]
  },
  {
   "cell_type": "code",
   "execution_count": 29,
   "metadata": {},
   "outputs": [
    {
     "data": {
      "text/plain": [
       "t_0      0.580723\n",
       "t_1      0.579518\n",
       "t_2      0.581928\n",
       "t_3      0.580723\n",
       "t_4      0.584337\n",
       "           ...   \n",
       "t_175    0.549398\n",
       "t_176    0.550602\n",
       "t_177    0.550602\n",
       "t_178    0.553012\n",
       "t_179    0.550602\n",
       "Name: 0, Length: 180, dtype: float64"
      ]
     },
     "execution_count": 29,
     "metadata": {},
     "output_type": "execute_result"
    }
   ],
   "source": [
    "df.iloc[0]"
   ]
  },
  {
   "cell_type": "code",
   "execution_count": 31,
   "metadata": {},
   "outputs": [
    {
     "data": {
      "text/plain": [
       "[<matplotlib.lines.Line2D at 0x7fa52e766050>]"
      ]
     },
     "execution_count": 31,
     "metadata": {},
     "output_type": "execute_result"
    },
    {
     "data": {
      "image/png": "[encoded data removed]",
      "text/plain": [
       "<Figure size 640x480 with 1 Axes>"
      ]
     },
     "metadata": {},
     "output_type": "display_data"
    }
   ],
   "source": [
    "plt.plot(df.iloc[234,:])"
   ]
  },
  {
   "cell_type": "code",
   "execution_count": 32,
   "metadata": {},
   "outputs": [
    {
     "data": {
      "text/plain": [
       "device(type='cpu')"
      ]
     },
     "execution_count": 32,
     "metadata": {},
     "output_type": "execute_result"
    }
   ],
   "source": [
    "device = torch.device(\"cuda\" if torch.cuda.is_available() else \"cpu\")\n",
    "device"
   ]
  },
  {
   "cell_type": "code",
   "execution_count": 33,
   "metadata": {},
   "outputs": [],
   "source": [
    "def train_model(model, train_dataset, val_dataset, n_epochs, lr):\n",
    "  optimizer = torch.optim.Adam(model.parameters(), lr=lr)\n",
    "  criterion = torch.nn.L1Loss(reduction='sum').to(device)\n",
    "  history = dict(train=[], val=[])\n",
    "\n",
    "  best_model_wts = copy.deepcopy(model.state_dict())\n",
    "  best_loss = 10000.0\n",
    "  \n",
    "  for epoch in range(1, n_epochs + 1):\n",
    "    model = model.train()\n",
    "\n",
    "    train_losses = []\n",
    "    for seq_true in train_dataset:\n",
    "      optimizer.zero_grad()\n",
    "\n",
    "      seq_true = seq_true.to(device)\n",
    "      seq_pred = model(seq_true)\n",
    "\n",
    "      loss = criterion(seq_pred, seq_true)\n",
    "\n",
    "      loss.backward()\n",
    "      optimizer.step()\n",
    "\n",
    "      train_losses.append(loss.item())\n",
    "\n",
    "    val_losses = []\n",
    "    model = model.eval()\n",
    "    with torch.no_grad():\n",
    "      for seq_true in val_dataset:\n",
    "\n",
    "        seq_true = seq_true.to(device)\n",
    "        seq_pred = model(seq_true)\n",
    "\n",
    "        loss = criterion(seq_pred, seq_true)\n",
    "        val_losses.append(loss.item())\n",
    "\n",
    "    train_loss = np.mean(train_losses)\n",
    "    val_loss = np.mean(val_losses)\n",
    "\n",
    "    history['train'].append(train_loss)\n",
    "    history['val'].append(val_loss)\n",
    "\n",
    "    if val_loss < best_loss:\n",
    "      best_loss = val_loss\n",
    "      best_model_wts = copy.deepcopy(model.state_dict())\n",
    "\n",
    "    print(f'Epoch {epoch}: train loss {train_loss} val loss {val_loss}')\n",
    "\n",
    "  model.load_state_dict(best_model_wts)\n",
    "  return model.eval(), history"
   ]
  },
  {
   "cell_type": "code",
   "execution_count": 34,
   "metadata": {},
   "outputs": [],
   "source": [
    "dataset,seq_len, n_feat = create_dataset(df)"
   ]
  },
  {
   "cell_type": "code",
   "execution_count": 48,
   "metadata": {},
   "outputs": [
    {
     "data": {
      "text/plain": [
       "RecurrentAutoencoder(\n",
       "  (encoder): Encoder(\n",
       "    (rnn1): LSTM(1, 256, batch_first=True)\n",
       "    (rnn2): LSTM(256, 128, batch_first=True)\n",
       "  )\n",
       "  (decoder): Decoder(\n",
       "    (rnn1): LSTM(128, 128, batch_first=True)\n",
       "    (rnn2): LSTM(128, 256, batch_first=True)\n",
       "    (output_layer): Linear(in_features=256, out_features=1, bias=True)\n",
       "  )\n",
       ")"
      ]
     },
     "execution_count": 48,
     "metadata": {},
     "output_type": "execute_result"
    }
   ],
   "source": [
    "from lstmae import RecurrentAutoencoder\n",
    "\n",
    "model = RecurrentAutoencoder(seq_len, n_feat, device, 128)\n",
    "model = model.to(device)\n",
    "model"
   ]
  },
  {
   "cell_type": "code",
   "execution_count": 49,
   "metadata": {},
   "outputs": [
    {
     "name": "stdout",
     "output_type": "stream",
     "text": [
      "Epoch 1: train loss 12.687272518873215 val loss 5.02055811882019\n",
      "Epoch 2: train loss 6.273537594079971 val loss 6.257660508155823\n",
      "Epoch 3: train loss 5.586614507436752 val loss 4.720851039886474\n",
      "Epoch 4: train loss 5.334838458895684 val loss 5.614840579032898\n",
      "Epoch 5: train loss 5.290859305858612 val loss 6.404283833503723\n",
      "Epoch 6: train loss 4.973880338668823 val loss 5.163211596012116\n",
      "Epoch 7: train loss 5.1249655216932295 val loss 6.389479184150696\n",
      "Epoch 8: train loss 4.898167678713799 val loss 6.490676856040954\n",
      "Epoch 9: train loss 5.140059849619865 val loss 5.30163459777832\n",
      "Epoch 10: train loss 5.081345176696777 val loss 4.6327358961105345\n"
     ]
    }
   ],
   "source": [
    "model, history = train_model(\n",
    "  model, \n",
    "  train_dataset=dataset[0:80], \n",
    "  val_dataset=dataset[80:100], \n",
    "  n_epochs=10,\n",
    "  lr=3e-3\n",
    ")"
   ]
  },
  {
   "cell_type": "code",
   "execution_count": 50,
   "metadata": {},
   "outputs": [
    {
     "data": {
      "text/plain": [
       "[<matplotlib.lines.Line2D at 0x7fa52fa79950>]"
      ]
     },
     "execution_count": 50,
     "metadata": {},
     "output_type": "execute_result"
    },
    {
     "data": {
      "image/png": "[encoded data removed]",
      "text/plain": [
       "<Figure size 640x480 with 1 Axes>"
      ]
     },
     "metadata": {},
     "output_type": "display_data"
    }
   ],
   "source": [
    "plt.plot(model(dataset[0]).detach().numpy().squeeze())\n",
    "plt.plot(dataset[0].detach().numpy().squeeze())"
   ]
  }
 ],
 "metadata": {
  "kernelspec": {
   "display_name": "code-b8C0A6mP",
   "language": "python",
   "name": "python3"
  },
  "language_info": {
   "codemirror_mode": {
    "name": "ipython",
    "version": 3
   },
   "file_extension": ".py",
   "mimetype": "text/x-python",
   "name": "python",
   "nbconvert_exporter": "python",
   "pygments_lexer": "ipython3",
   "version": "3.11.5"
  }
 },
 "nbformat": 4,
 "nbformat_minor": 2
}
