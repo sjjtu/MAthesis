{
 "cells": [
  {
   "cell_type": "code",
   "execution_count": 2,
   "metadata": {},
   "outputs": [
    {
     "name": "stderr",
     "output_type": "stream",
     "text": [
      "/home/user1-asd-arch/.local/share/virtualenvs/code-b8C0A6mP/lib/python3.7/site-packages/tqdm/auto.py:21: TqdmWarning: IProgress not found. Please update jupyter and ipywidgets. See https://ipywidgets.readthedocs.io/en/stable/user_install.html\n",
      "  from .autonotebook import tqdm as notebook_tqdm\n"
     ]
    }
   ],
   "source": [
    "import pandas as pd\n",
    "import numpy as np\n",
    "from matplotlib import pyplot as plt\n",
    "import torch\n",
    "\n",
    "import copy\n",
    "import random\n",
    "\n",
    "from ECGDataset import ECGDataset"
   ]
  },
  {
   "cell_type": "code",
   "execution_count": 3,
   "metadata": {},
   "outputs": [
    {
     "data": {
      "text/plain": [
       "device(type='cuda')"
      ]
     },
     "execution_count": 3,
     "metadata": {},
     "output_type": "execute_result"
    }
   ],
   "source": [
    "device = torch.device(\"cuda\" if torch.cuda.is_available() else \"cpu\")\n",
    "device"
   ]
  },
  {
   "cell_type": "code",
   "execution_count": 4,
   "metadata": {},
   "outputs": [],
   "source": [
    "window_size = 180\n",
    "train_ds= ECGDataset(f\"data/normal_train_{window_size}.csv\", f\"data/train_labels_{window_size}.csv\")\n",
    "test_normal_ds = ECGDataset(f\"data/normal_test{window_size}.csv\", f\"data/normal_labels_{window_size}.csv\")\n",
    "test_anomalie_ds = ECGDataset(f\"data/anomalie_test{window_size}.csv\", f\"data/anomalie_labels_{window_size}.csv\")\n",
    "val_ds = ECGDataset(f\"data/normal_val_{window_size}.csv\", f\"data/val_labels_{window_size}.csv\")\n"
   ]
  },
  {
   "cell_type": "code",
   "execution_count": 5,
   "metadata": {},
   "outputs": [
    {
     "data": {
      "text/plain": [
       "['N']"
      ]
     },
     "execution_count": 5,
     "metadata": {},
     "output_type": "execute_result"
    },
    {
     "data": {
      "image/png": "[encoded data removed]",
      "text/plain": [
       "<Figure size 640x480 with 1 Axes>"
      ]
     },
     "metadata": {},
     "output_type": "display_data"
    }
   ],
   "source": [
    "plt.plot(train_ds.df[0])\n",
    "train_ds.y[0]"
   ]
  },
  {
   "cell_type": "code",
   "execution_count": 6,
   "metadata": {},
   "outputs": [],
   "source": [
    "def train_model(model, train_dataset, val_dataset, n_epochs, lr, batch_size):\n",
    "  optimizer = torch.optim.Adam(model.parameters(), lr=lr)\n",
    "  criterion = torch.nn.L1Loss(reduction='sum').to(device)\n",
    "  history = dict(train=[], val=[])\n",
    "\n",
    "  for epoch in range(1, n_epochs + 1):\n",
    "    model = model.train()\n",
    "\n",
    "    train_losses = []\n",
    "    val_losses = []\n",
    "\n",
    "    train_dl = torch.utils.data.DataLoader(train_dataset, batch_size=batch_size, shuffle=True)\n",
    "    val_dl = torch.utils.data.DataLoader(val_dataset)\n",
    "\n",
    "    size = len(train_dl.dataset)\n",
    "    for batch, (X,y) in enumerate(train_dl):\n",
    "        # Compute prediction and loss\n",
    "        X = X.to(device)\n",
    "        pred = model(X)\n",
    "        loss = criterion(pred, X)\n",
    "        train_losses.append(loss.item())\n",
    "\n",
    "        # Backpropagation\n",
    "        loss.backward()\n",
    "        optimizer.step()\n",
    "        optimizer.zero_grad()\n",
    "\n",
    "        if batch % 10000 == 0:\n",
    "            loss, current = loss.item(), (batch + 1) * len(X)\n",
    "            print(f\"loss: {loss:>7f}  [{current:>5d}/{size:>5d}]\")\n",
    "    \n",
    "    with torch.no_grad():  # requesting pytorch to record any gradient for this block of code\n",
    "      for (seq_true, y) in val_dl:\n",
    "        seq_true = seq_true.to(device)   # putting sequence to gpu\n",
    "        seq_pred = model(seq_true).unsqueeze(0)    # prediction\n",
    "\n",
    "        loss = criterion(seq_pred, seq_true)  # recording loss\n",
    "\n",
    "        val_losses.append(loss.item())    # storing loss into the validation losses\n",
    "\n",
    "    train_loss = np.mean(train_losses)\n",
    "    val_loss = np.mean(val_losses)\n",
    "\n",
    "    history['train'].append(train_loss)\n",
    "    history['val'].append(val_loss)\n",
    "\n",
    "    print(f'Epoch {epoch}: train loss = {train_loss}, val loss = {val_loss}')\n",
    "\n",
    "  return model.eval(), history"
   ]
  },
  {
   "cell_type": "code",
   "execution_count": 7,
   "metadata": {},
   "outputs": [
    {
     "data": {
      "text/plain": [
       "RecurrentAutoencoder(\n",
       "  (encoder): Encoder(\n",
       "    (rnn1): LSTM(1, 64, batch_first=True)\n",
       "    (rnn2): LSTM(64, 32, batch_first=True)\n",
       "  )\n",
       "  (decoder): Decoder(\n",
       "    (rnn1): LSTM(32, 32, batch_first=True)\n",
       "    (rnn2): LSTM(32, 64, batch_first=True)\n",
       "    (output_layer): Linear(in_features=64, out_features=1, bias=True)\n",
       "  )\n",
       ")"
      ]
     },
     "execution_count": 7,
     "metadata": {},
     "output_type": "execute_result"
    }
   ],
   "source": [
    "from lstmae import RecurrentAutoencoder\n",
    "\n",
    "model = RecurrentAutoencoder(180, 1, device, 32)\n",
    "model = model.to(device)\n",
    "model"
   ]
  },
  {
   "cell_type": "code",
   "execution_count": 9,
   "metadata": {},
   "outputs": [
    {
     "name": "stdout",
     "output_type": "stream",
     "text": [
      "loss: 0.736876  [    1/71253]\n",
      "loss: 0.460386  [10001/71253]\n"
     ]
    },
    {
     "ename": "KeyboardInterrupt",
     "evalue": "",
     "output_type": "error",
     "traceback": [
      "\u001b[0;31m---------------------------------------------------------------------------\u001b[0m",
      "\u001b[0;31mKeyboardInterrupt\u001b[0m                         Traceback (most recent call last)",
      "\u001b[0;32m/tmp/ipykernel_28848/3426911472.py\u001b[0m in \u001b[0;36m<module>\u001b[0;34m\u001b[0m\n\u001b[1;32m      5\u001b[0m   \u001b[0mn_epochs\u001b[0m\u001b[0;34m=\u001b[0m\u001b[0;36m30\u001b[0m\u001b[0;34m,\u001b[0m\u001b[0;34m\u001b[0m\u001b[0;34m\u001b[0m\u001b[0m\n\u001b[1;32m      6\u001b[0m   \u001b[0mlr\u001b[0m\u001b[0;34m=\u001b[0m\u001b[0;36m3e-4\u001b[0m\u001b[0;34m,\u001b[0m\u001b[0;34m\u001b[0m\u001b[0;34m\u001b[0m\u001b[0m\n\u001b[0;32m----> 7\u001b[0;31m   \u001b[0mbatch_size\u001b[0m\u001b[0;34m=\u001b[0m\u001b[0;36m1\u001b[0m\u001b[0;34m\u001b[0m\u001b[0;34m\u001b[0m\u001b[0m\n\u001b[0m\u001b[1;32m      8\u001b[0m )\n",
      "\u001b[0;32m/tmp/ipykernel_28848/3760575648.py\u001b[0m in \u001b[0;36mtrain_model\u001b[0;34m(model, train_dataset, val_dataset, n_epochs, lr, batch_size)\u001b[0m\n\u001b[1;32m     23\u001b[0m         \u001b[0;31m# Backpropagation\u001b[0m\u001b[0;34m\u001b[0m\u001b[0;34m\u001b[0m\u001b[0;34m\u001b[0m\u001b[0m\n\u001b[1;32m     24\u001b[0m         \u001b[0mloss\u001b[0m\u001b[0;34m.\u001b[0m\u001b[0mbackward\u001b[0m\u001b[0;34m(\u001b[0m\u001b[0;34m)\u001b[0m\u001b[0;34m\u001b[0m\u001b[0;34m\u001b[0m\u001b[0m\n\u001b[0;32m---> 25\u001b[0;31m         \u001b[0moptimizer\u001b[0m\u001b[0;34m.\u001b[0m\u001b[0mstep\u001b[0m\u001b[0;34m(\u001b[0m\u001b[0;34m)\u001b[0m\u001b[0;34m\u001b[0m\u001b[0;34m\u001b[0m\u001b[0m\n\u001b[0m\u001b[1;32m     26\u001b[0m         \u001b[0moptimizer\u001b[0m\u001b[0;34m.\u001b[0m\u001b[0mzero_grad\u001b[0m\u001b[0;34m(\u001b[0m\u001b[0;34m)\u001b[0m\u001b[0;34m\u001b[0m\u001b[0;34m\u001b[0m\u001b[0m\n\u001b[1;32m     27\u001b[0m \u001b[0;34m\u001b[0m\u001b[0m\n",
      "\u001b[0;32m~/.local/share/virtualenvs/code-b8C0A6mP/lib/python3.7/site-packages/torch/optim/optimizer.py\u001b[0m in \u001b[0;36mwrapper\u001b[0;34m(*args, **kwargs)\u001b[0m\n\u001b[1;32m    138\u001b[0m                 \u001b[0mprofile_name\u001b[0m \u001b[0;34m=\u001b[0m \u001b[0;34m\"Optimizer.step#{}.step\"\u001b[0m\u001b[0;34m.\u001b[0m\u001b[0mformat\u001b[0m\u001b[0;34m(\u001b[0m\u001b[0mobj\u001b[0m\u001b[0;34m.\u001b[0m\u001b[0m__class__\u001b[0m\u001b[0;34m.\u001b[0m\u001b[0m__name__\u001b[0m\u001b[0;34m)\u001b[0m\u001b[0;34m\u001b[0m\u001b[0;34m\u001b[0m\u001b[0m\n\u001b[1;32m    139\u001b[0m                 \u001b[0;32mwith\u001b[0m \u001b[0mtorch\u001b[0m\u001b[0;34m.\u001b[0m\u001b[0mautograd\u001b[0m\u001b[0;34m.\u001b[0m\u001b[0mprofiler\u001b[0m\u001b[0;34m.\u001b[0m\u001b[0mrecord_function\u001b[0m\u001b[0;34m(\u001b[0m\u001b[0mprofile_name\u001b[0m\u001b[0;34m)\u001b[0m\u001b[0;34m:\u001b[0m\u001b[0;34m\u001b[0m\u001b[0;34m\u001b[0m\u001b[0m\n\u001b[0;32m--> 140\u001b[0;31m                     \u001b[0mout\u001b[0m \u001b[0;34m=\u001b[0m \u001b[0mfunc\u001b[0m\u001b[0;34m(\u001b[0m\u001b[0;34m*\u001b[0m\u001b[0margs\u001b[0m\u001b[0;34m,\u001b[0m \u001b[0;34m**\u001b[0m\u001b[0mkwargs\u001b[0m\u001b[0;34m)\u001b[0m\u001b[0;34m\u001b[0m\u001b[0;34m\u001b[0m\u001b[0m\n\u001b[0m\u001b[1;32m    141\u001b[0m                     \u001b[0mobj\u001b[0m\u001b[0;34m.\u001b[0m\u001b[0m_optimizer_step_code\u001b[0m\u001b[0;34m(\u001b[0m\u001b[0;34m)\u001b[0m\u001b[0;34m\u001b[0m\u001b[0;34m\u001b[0m\u001b[0m\n\u001b[1;32m    142\u001b[0m                     \u001b[0;32mreturn\u001b[0m \u001b[0mout\u001b[0m\u001b[0;34m\u001b[0m\u001b[0;34m\u001b[0m\u001b[0m\n",
      "\u001b[0;32m~/.local/share/virtualenvs/code-b8C0A6mP/lib/python3.7/site-packages/torch/optim/optimizer.py\u001b[0m in \u001b[0;36m_use_grad\u001b[0;34m(self, *args, **kwargs)\u001b[0m\n\u001b[1;32m     21\u001b[0m         \u001b[0;32mtry\u001b[0m\u001b[0;34m:\u001b[0m\u001b[0;34m\u001b[0m\u001b[0;34m\u001b[0m\u001b[0m\n\u001b[1;32m     22\u001b[0m             \u001b[0mtorch\u001b[0m\u001b[0;34m.\u001b[0m\u001b[0mset_grad_enabled\u001b[0m\u001b[0;34m(\u001b[0m\u001b[0mself\u001b[0m\u001b[0;34m.\u001b[0m\u001b[0mdefaults\u001b[0m\u001b[0;34m[\u001b[0m\u001b[0;34m'differentiable'\u001b[0m\u001b[0;34m]\u001b[0m\u001b[0;34m)\u001b[0m\u001b[0;34m\u001b[0m\u001b[0;34m\u001b[0m\u001b[0m\n\u001b[0;32m---> 23\u001b[0;31m             \u001b[0mret\u001b[0m \u001b[0;34m=\u001b[0m \u001b[0mfunc\u001b[0m\u001b[0;34m(\u001b[0m\u001b[0mself\u001b[0m\u001b[0;34m,\u001b[0m \u001b[0;34m*\u001b[0m\u001b[0margs\u001b[0m\u001b[0;34m,\u001b[0m \u001b[0;34m**\u001b[0m\u001b[0mkwargs\u001b[0m\u001b[0;34m)\u001b[0m\u001b[0;34m\u001b[0m\u001b[0;34m\u001b[0m\u001b[0m\n\u001b[0m\u001b[1;32m     24\u001b[0m         \u001b[0;32mfinally\u001b[0m\u001b[0;34m:\u001b[0m\u001b[0;34m\u001b[0m\u001b[0;34m\u001b[0m\u001b[0m\n\u001b[1;32m     25\u001b[0m             \u001b[0mtorch\u001b[0m\u001b[0;34m.\u001b[0m\u001b[0mset_grad_enabled\u001b[0m\u001b[0;34m(\u001b[0m\u001b[0mprev_grad\u001b[0m\u001b[0;34m)\u001b[0m\u001b[0;34m\u001b[0m\u001b[0;34m\u001b[0m\u001b[0m\n",
      "\u001b[0;32m~/.local/share/virtualenvs/code-b8C0A6mP/lib/python3.7/site-packages/torch/optim/adam.py\u001b[0m in \u001b[0;36mstep\u001b[0;34m(self, closure, grad_scaler)\u001b[0m\n\u001b[1;32m    250\u001b[0m                  \u001b[0mfused\u001b[0m\u001b[0;34m=\u001b[0m\u001b[0mgroup\u001b[0m\u001b[0;34m[\u001b[0m\u001b[0;34m'fused'\u001b[0m\u001b[0;34m]\u001b[0m\u001b[0;34m,\u001b[0m\u001b[0;34m\u001b[0m\u001b[0;34m\u001b[0m\u001b[0m\n\u001b[1;32m    251\u001b[0m                  \u001b[0mgrad_scale\u001b[0m\u001b[0;34m=\u001b[0m\u001b[0mgrad_scale\u001b[0m\u001b[0;34m,\u001b[0m\u001b[0;34m\u001b[0m\u001b[0;34m\u001b[0m\u001b[0m\n\u001b[0;32m--> 252\u001b[0;31m                  found_inf=found_inf)\n\u001b[0m\u001b[1;32m    253\u001b[0m \u001b[0;34m\u001b[0m\u001b[0m\n\u001b[1;32m    254\u001b[0m         \u001b[0;32mreturn\u001b[0m \u001b[0mloss\u001b[0m\u001b[0;34m\u001b[0m\u001b[0;34m\u001b[0m\u001b[0m\n",
      "\u001b[0;32m~/.local/share/virtualenvs/code-b8C0A6mP/lib/python3.7/site-packages/torch/optim/adam.py\u001b[0m in \u001b[0;36madam\u001b[0;34m(params, grads, exp_avgs, exp_avg_sqs, max_exp_avg_sqs, state_steps, foreach, capturable, differentiable, fused, grad_scale, found_inf, amsgrad, beta1, beta2, lr, weight_decay, eps, maximize)\u001b[0m\n\u001b[1;32m    314\u001b[0m          \u001b[0mdifferentiable\u001b[0m\u001b[0;34m=\u001b[0m\u001b[0mdifferentiable\u001b[0m\u001b[0;34m,\u001b[0m\u001b[0;34m\u001b[0m\u001b[0;34m\u001b[0m\u001b[0m\n\u001b[1;32m    315\u001b[0m          \u001b[0mgrad_scale\u001b[0m\u001b[0;34m=\u001b[0m\u001b[0mgrad_scale\u001b[0m\u001b[0;34m,\u001b[0m\u001b[0;34m\u001b[0m\u001b[0;34m\u001b[0m\u001b[0m\n\u001b[0;32m--> 316\u001b[0;31m          found_inf=found_inf)\n\u001b[0m\u001b[1;32m    317\u001b[0m \u001b[0;34m\u001b[0m\u001b[0m\n\u001b[1;32m    318\u001b[0m \u001b[0;34m\u001b[0m\u001b[0m\n",
      "\u001b[0;32m~/.local/share/virtualenvs/code-b8C0A6mP/lib/python3.7/site-packages/torch/optim/adam.py\u001b[0m in \u001b[0;36m_single_tensor_adam\u001b[0;34m(params, grads, exp_avgs, exp_avg_sqs, max_exp_avg_sqs, state_steps, grad_scale, found_inf, amsgrad, beta1, beta2, lr, weight_decay, eps, maximize, capturable, differentiable)\u001b[0m\n\u001b[1;32m    362\u001b[0m         \u001b[0;31m# Decay the first and second moment running average coefficient\u001b[0m\u001b[0;34m\u001b[0m\u001b[0;34m\u001b[0m\u001b[0;34m\u001b[0m\u001b[0m\n\u001b[1;32m    363\u001b[0m         \u001b[0mexp_avg\u001b[0m\u001b[0;34m.\u001b[0m\u001b[0mmul_\u001b[0m\u001b[0;34m(\u001b[0m\u001b[0mbeta1\u001b[0m\u001b[0;34m)\u001b[0m\u001b[0;34m.\u001b[0m\u001b[0madd_\u001b[0m\u001b[0;34m(\u001b[0m\u001b[0mgrad\u001b[0m\u001b[0;34m,\u001b[0m \u001b[0malpha\u001b[0m\u001b[0;34m=\u001b[0m\u001b[0;36m1\u001b[0m \u001b[0;34m-\u001b[0m \u001b[0mbeta1\u001b[0m\u001b[0;34m)\u001b[0m\u001b[0;34m\u001b[0m\u001b[0;34m\u001b[0m\u001b[0m\n\u001b[0;32m--> 364\u001b[0;31m         \u001b[0mexp_avg_sq\u001b[0m\u001b[0;34m.\u001b[0m\u001b[0mmul_\u001b[0m\u001b[0;34m(\u001b[0m\u001b[0mbeta2\u001b[0m\u001b[0;34m)\u001b[0m\u001b[0;34m.\u001b[0m\u001b[0maddcmul_\u001b[0m\u001b[0;34m(\u001b[0m\u001b[0mgrad\u001b[0m\u001b[0;34m,\u001b[0m \u001b[0mgrad\u001b[0m\u001b[0;34m.\u001b[0m\u001b[0mconj\u001b[0m\u001b[0;34m(\u001b[0m\u001b[0;34m)\u001b[0m\u001b[0;34m,\u001b[0m \u001b[0mvalue\u001b[0m\u001b[0;34m=\u001b[0m\u001b[0;36m1\u001b[0m \u001b[0;34m-\u001b[0m \u001b[0mbeta2\u001b[0m\u001b[0;34m)\u001b[0m\u001b[0;34m\u001b[0m\u001b[0;34m\u001b[0m\u001b[0m\n\u001b[0m\u001b[1;32m    365\u001b[0m \u001b[0;34m\u001b[0m\u001b[0m\n\u001b[1;32m    366\u001b[0m         \u001b[0;32mif\u001b[0m \u001b[0mcapturable\u001b[0m \u001b[0;32mor\u001b[0m \u001b[0mdifferentiable\u001b[0m\u001b[0;34m:\u001b[0m\u001b[0;34m\u001b[0m\u001b[0;34m\u001b[0m\u001b[0m\n",
      "\u001b[0;31mKeyboardInterrupt\u001b[0m: "
     ]
    }
   ],
   "source": [
    "model, history = train_model(\n",
    "  model, \n",
    "  train_dataset=train_ds, \n",
    "  val_dataset=val_ds,\n",
    "  n_epochs=30,\n",
    "  lr=3e-4,\n",
    "  batch_size=1\n",
    ")"
   ]
  },
  {
   "cell_type": "code",
   "execution_count": 9,
   "metadata": {},
   "outputs": [
    {
     "data": {
      "text/plain": [
       "[<matplotlib.lines.Line2D at 0x7fd5274bf5d0>]"
      ]
     },
     "execution_count": 9,
     "metadata": {},
     "output_type": "execute_result"
    },
    {
     "data": {
      "image/png": "[encoded data removed]",
      "text/plain": [
       "<Figure size 640x480 with 1 Axes>"
      ]
     },
     "metadata": {},
     "output_type": "display_data"
    }
   ],
   "source": [
    "plt.plot(history[\"train\"])\n",
    "plt.plot(history[\"val\"])"
   ]
  },
  {
   "cell_type": "code",
   "execution_count": 10,
   "metadata": {},
   "outputs": [],
   "source": [
    "torch.save(model.state_dict(), \"models/lstmae_180_embed32.pth\")"
   ]
  },
  {
   "cell_type": "code",
   "execution_count": 12,
   "metadata": {},
   "outputs": [
    {
     "data": {
      "text/plain": [
       "RecurrentAutoencoder(\n",
       "  (encoder): Encoder(\n",
       "    (rnn1): LSTM(1, 128, batch_first=True)\n",
       "    (rnn2): LSTM(128, 64, batch_first=True)\n",
       "  )\n",
       "  (decoder): Decoder(\n",
       "    (rnn1): LSTM(64, 64, batch_first=True)\n",
       "    (rnn2): LSTM(64, 128, batch_first=True)\n",
       "    (output_layer): Linear(in_features=128, out_features=1, bias=True)\n",
       "  )\n",
       ")"
      ]
     },
     "execution_count": 12,
     "metadata": {},
     "output_type": "execute_result"
    }
   ],
   "source": [
    "model.load_state_dict(torch.load(\"models/lstmae_5000.pth\", map_location=torch.device('cpu')))\n",
    "model"
   ]
  },
  {
   "cell_type": "code",
   "execution_count": 10,
   "metadata": {},
   "outputs": [],
   "source": [
    "model = model.to(device=\"cpu\")"
   ]
  },
  {
   "cell_type": "code",
   "execution_count": 12,
   "metadata": {},
   "outputs": [
    {
     "data": {
      "text/plain": [
       "(tensor([[0.5104],\n",
       "         [0.5096],\n",
       "         [0.5096],\n",
       "         [0.5078],\n",
       "         [0.5070],\n",
       "         [0.5070],\n",
       "         [0.5061],\n",
       "         [0.5035],\n",
       "         [0.5043],\n",
       "         [0.5052],\n",
       "         [0.5078],\n",
       "         [0.5087],\n",
       "         [0.5104],\n",
       "         [0.5104],\n",
       "         [0.5113],\n",
       "         [0.5104],\n",
       "         [0.5113],\n",
       "         [0.5104],\n",
       "         [0.5113],\n",
       "         [0.5130],\n",
       "         [0.5183],\n",
       "         [0.5200],\n",
       "         [0.5235],\n",
       "         [0.5261],\n",
       "         [0.5278],\n",
       "         [0.5278],\n",
       "         [0.5278],\n",
       "         [0.5287],\n",
       "         [0.5278],\n",
       "         [0.5270],\n",
       "         [0.5270],\n",
       "         [0.5287],\n",
       "         [0.5252],\n",
       "         [0.5261],\n",
       "         [0.5261],\n",
       "         [0.5261],\n",
       "         [0.5252],\n",
       "         [0.5226],\n",
       "         [0.5191],\n",
       "         [0.5165],\n",
       "         [0.5122],\n",
       "         [0.5113],\n",
       "         [0.5087],\n",
       "         [0.5070],\n",
       "         [0.5052],\n",
       "         [0.5043],\n",
       "         [0.5009],\n",
       "         [0.5009],\n",
       "         [0.5000],\n",
       "         [0.5035],\n",
       "         [0.5035],\n",
       "         [0.5009],\n",
       "         [0.4983],\n",
       "         [0.4991],\n",
       "         [0.4974],\n",
       "         [0.4983],\n",
       "         [0.4983],\n",
       "         [0.5000],\n",
       "         [0.5035],\n",
       "         [0.5035],\n",
       "         [0.5017],\n",
       "         [0.5009],\n",
       "         [0.5009],\n",
       "         [0.5000],\n",
       "         [0.4991],\n",
       "         [0.4991],\n",
       "         [0.4991],\n",
       "         [0.4991],\n",
       "         [0.4991],\n",
       "         [0.5017],\n",
       "         [0.5043],\n",
       "         [0.5043],\n",
       "         [0.5026],\n",
       "         [0.5035],\n",
       "         [0.5052],\n",
       "         [0.5017],\n",
       "         [0.5043],\n",
       "         [0.5070],\n",
       "         [0.5070],\n",
       "         [0.5104],\n",
       "         [0.5148],\n",
       "         [0.5226],\n",
       "         [0.5365],\n",
       "         [0.5565],\n",
       "         [0.5852],\n",
       "         [0.6157],\n",
       "         [0.6496],\n",
       "         [0.6887],\n",
       "         [0.7261],\n",
       "         [0.7574],\n",
       "         [0.7791],\n",
       "         [0.7800],\n",
       "         [0.7652],\n",
       "         [0.7235],\n",
       "         [0.6643],\n",
       "         [0.5930],\n",
       "         [0.5139],\n",
       "         [0.4383],\n",
       "         [0.3765],\n",
       "         [0.3400],\n",
       "         [0.3374],\n",
       "         [0.3591],\n",
       "         [0.3930],\n",
       "         [0.4339],\n",
       "         [0.4687],\n",
       "         [0.4965],\n",
       "         [0.5148],\n",
       "         [0.5243],\n",
       "         [0.5296],\n",
       "         [0.5278],\n",
       "         [0.5270],\n",
       "         [0.5226],\n",
       "         [0.5200],\n",
       "         [0.5217],\n",
       "         [0.5226],\n",
       "         [0.5243],\n",
       "         [0.5270],\n",
       "         [0.5278],\n",
       "         [0.5270],\n",
       "         [0.5304],\n",
       "         [0.5322],\n",
       "         [0.5322],\n",
       "         [0.5322],\n",
       "         [0.5322],\n",
       "         [0.5339],\n",
       "         [0.5330],\n",
       "         [0.5322],\n",
       "         [0.5322],\n",
       "         [0.5348],\n",
       "         [0.5348],\n",
       "         [0.5383],\n",
       "         [0.5426],\n",
       "         [0.5435],\n",
       "         [0.5426],\n",
       "         [0.5452],\n",
       "         [0.5461],\n",
       "         [0.5452],\n",
       "         [0.5452],\n",
       "         [0.5452],\n",
       "         [0.5478],\n",
       "         [0.5496],\n",
       "         [0.5522],\n",
       "         [0.5539],\n",
       "         [0.5574],\n",
       "         [0.5600],\n",
       "         [0.5591],\n",
       "         [0.5591],\n",
       "         [0.5626],\n",
       "         [0.5617],\n",
       "         [0.5626],\n",
       "         [0.5643],\n",
       "         [0.5670],\n",
       "         [0.5696],\n",
       "         [0.5739],\n",
       "         [0.5774],\n",
       "         [0.5800],\n",
       "         [0.5809],\n",
       "         [0.5843],\n",
       "         [0.5861],\n",
       "         [0.5887],\n",
       "         [0.5896],\n",
       "         [0.5930],\n",
       "         [0.5922],\n",
       "         [0.5965],\n",
       "         [0.6000],\n",
       "         [0.6009],\n",
       "         [0.6000],\n",
       "         [0.6052],\n",
       "         [0.6070],\n",
       "         [0.6087],\n",
       "         [0.6078],\n",
       "         [0.6087],\n",
       "         [0.6122],\n",
       "         [0.6113],\n",
       "         [0.6122],\n",
       "         [0.6122],\n",
       "         [0.6113],\n",
       "         [0.6130],\n",
       "         [0.6130],\n",
       "         [0.6139]]),\n",
       " ['N'])"
      ]
     },
     "execution_count": 12,
     "metadata": {},
     "output_type": "execute_result"
    }
   ],
   "source": [
    "train_ds.__getitem__(0)"
   ]
  },
  {
   "cell_type": "code",
   "execution_count": 11,
   "metadata": {},
   "outputs": [
    {
     "data": {
      "text/plain": [
       "[<matplotlib.lines.Line2D at 0x7fd61cb10110>]"
      ]
     },
     "execution_count": 11,
     "metadata": {},
     "output_type": "execute_result"
    },
    {
     "data": {
      "image/png": "[encoded data removed]",
      "text/plain": [
       "<Figure size 640x480 with 1 Axes>"
      ]
     },
     "metadata": {},
     "output_type": "display_data"
    }
   ],
   "source": [
    "plt.plot(model(test_normal_ds.__getitem__(12)[0]).cpu().detach().numpy().squeeze())\n",
    "plt.plot(test_normal_ds.__getitem__(12)[0].cpu().detach().numpy().squeeze())"
   ]
  },
  {
   "cell_type": "code",
   "execution_count": 12,
   "metadata": {},
   "outputs": [],
   "source": [
    "def predict(model, dataset):\n",
    "    predictions, losses = [], []\n",
    "    criterion = torch.nn.L1Loss(reduction='sum').to(device)\n",
    "    with torch.no_grad():\n",
    "        model = model.eval()\n",
    "        for seq_true, y in dataset:\n",
    "            seq_true = seq_true.to(device)\n",
    "            seq_pred = model(seq_true)\n",
    "\n",
    "            loss = criterion(seq_pred, seq_true)\n",
    "\n",
    "            predictions.append(seq_pred.cpu().numpy().flatten())\n",
    "            losses.append(loss.item())\n",
    "    return predictions, losses"
   ]
  },
  {
   "cell_type": "code",
   "execution_count": 13,
   "metadata": {},
   "outputs": [],
   "source": [
    "model = model.to(device)"
   ]
  },
  {
   "cell_type": "code",
   "execution_count": 15,
   "metadata": {},
   "outputs": [],
   "source": [
    "_, losses_test_normal = predict(model, test_normal_ds)"
   ]
  },
  {
   "cell_type": "code",
   "execution_count": 16,
   "metadata": {},
   "outputs": [
    {
     "data": {
      "text/plain": [
       "(array([4.830e+02, 1.763e+03, 1.754e+03, 1.480e+03, 1.035e+03, 6.710e+02,\n",
       "        4.810e+02, 3.120e+02, 2.160e+02, 1.490e+02, 8.000e+01, 8.400e+01,\n",
       "        5.800e+01, 4.100e+01, 3.400e+01, 3.100e+01, 2.100e+01, 2.100e+01,\n",
       "        1.700e+01, 6.000e+00, 9.000e+00, 8.000e+00, 3.000e+00, 5.000e+00,\n",
       "        2.000e+00, 1.000e+00, 2.000e+00, 3.000e+00, 5.000e+00, 1.000e+00,\n",
       "        2.000e+00, 1.000e+00, 0.000e+00, 1.000e+00, 1.000e+00, 0.000e+00,\n",
       "        2.000e+00, 2.000e+00, 0.000e+00, 0.000e+00, 3.000e+00, 0.000e+00,\n",
       "        1.000e+00, 0.000e+00, 0.000e+00, 0.000e+00, 0.000e+00, 0.000e+00,\n",
       "        0.000e+00, 0.000e+00, 0.000e+00, 1.000e+00, 1.000e+00, 0.000e+00,\n",
       "        0.000e+00, 0.000e+00, 0.000e+00, 0.000e+00, 0.000e+00, 2.000e+00,\n",
       "        1.000e+00, 0.000e+00, 0.000e+00, 0.000e+00, 0.000e+00, 1.000e+00,\n",
       "        0.000e+00, 0.000e+00, 0.000e+00, 0.000e+00, 0.000e+00, 1.000e+00,\n",
       "        0.000e+00, 0.000e+00, 0.000e+00, 0.000e+00, 0.000e+00, 0.000e+00,\n",
       "        0.000e+00, 0.000e+00, 0.000e+00, 0.000e+00, 0.000e+00, 0.000e+00,\n",
       "        0.000e+00, 0.000e+00, 0.000e+00, 0.000e+00, 0.000e+00, 0.000e+00,\n",
       "        0.000e+00, 0.000e+00, 0.000e+00, 0.000e+00, 0.000e+00, 0.000e+00,\n",
       "        0.000e+00, 0.000e+00, 0.000e+00, 1.000e+00]),\n",
       " array([ 0.37522677,  0.49979004,  0.62435332,  0.7489166 ,  0.87347987,\n",
       "         0.99804315,  1.12260642,  1.2471697 ,  1.37173298,  1.49629625,\n",
       "         1.62085953,  1.74542281,  1.86998608,  1.99454936,  2.11911264,\n",
       "         2.24367591,  2.36823919,  2.49280247,  2.61736574,  2.74192902,\n",
       "         2.8664923 ,  2.99105557,  3.11561885,  3.24018212,  3.3647454 ,\n",
       "         3.48930868,  3.61387195,  3.73843523,  3.86299851,  3.98756178,\n",
       "         4.11212506,  4.23668834,  4.36125161,  4.48581489,  4.61037817,\n",
       "         4.73494144,  4.85950472,  4.984068  ,  5.10863127,  5.23319455,\n",
       "         5.35775782,  5.4823211 ,  5.60688438,  5.73144765,  5.85601093,\n",
       "         5.98057421,  6.10513748,  6.22970076,  6.35426404,  6.47882731,\n",
       "         6.60339059,  6.72795387,  6.85251714,  6.97708042,  7.1016437 ,\n",
       "         7.22620697,  7.35077025,  7.47533352,  7.5998968 ,  7.72446008,\n",
       "         7.84902335,  7.97358663,  8.09814991,  8.22271318,  8.34727646,\n",
       "         8.47183974,  8.59640301,  8.72096629,  8.84552957,  8.97009284,\n",
       "         9.09465612,  9.2192194 ,  9.34378267,  9.46834595,  9.59290922,\n",
       "         9.7174725 ,  9.84203578,  9.96659905, 10.09116233, 10.21572561,\n",
       "        10.34028888, 10.46485216, 10.58941544, 10.71397871, 10.83854199,\n",
       "        10.96310527, 11.08766854, 11.21223182, 11.3367951 , 11.46135837,\n",
       "        11.58592165, 11.71048492, 11.8350482 , 11.95961148, 12.08417475,\n",
       "        12.20873803, 12.33330131, 12.45786458, 12.58242786, 12.70699114,\n",
       "        12.83155441]),\n",
       " <BarContainer object of 100 artists>)"
      ]
     },
     "execution_count": 16,
     "metadata": {},
     "output_type": "execute_result"
    },
    {
     "data": {
      "image/png": "[encoded data removed]",
      "text/plain": [
       "<Figure size 640x480 with 1 Axes>"
      ]
     },
     "metadata": {},
     "output_type": "display_data"
    }
   ],
   "source": [
    "plt.hist(losses_test_normal, bins=100)"
   ]
  },
  {
   "cell_type": "code",
   "execution_count": 17,
   "metadata": {},
   "outputs": [],
   "source": [
    "THRESHOLD = 2.5"
   ]
  },
  {
   "cell_type": "code",
   "execution_count": 18,
   "metadata": {},
   "outputs": [
    {
     "name": "stdout",
     "output_type": "stream",
     "text": [
      "Correct normal predictions: 8694/8797 or  0.9882914629987496\n"
     ]
    }
   ],
   "source": [
    "correct = sum(l <= THRESHOLD for l in losses_test_normal)\n",
    "print(f'Correct normal predictions: {correct}/{len(test_normal_ds)} or  {correct/len(test_normal_ds)}')"
   ]
  },
  {
   "cell_type": "code",
   "execution_count": 19,
   "metadata": {},
   "outputs": [],
   "source": [
    "_, losses_test_anomaly = predict(model, test_anomalie_ds)"
   ]
  },
  {
   "cell_type": "code",
   "execution_count": 20,
   "metadata": {},
   "outputs": [
    {
     "data": {
      "text/plain": [
       "(array([3.100e+03, 4.641e+03, 3.610e+03, 2.221e+03, 8.820e+02, 1.073e+03,\n",
       "        1.455e+03, 1.187e+03, 7.890e+02, 6.010e+02, 4.790e+02, 3.080e+02,\n",
       "        1.860e+02, 1.570e+02, 1.070e+02, 8.200e+01, 6.100e+01, 4.500e+01,\n",
       "        4.300e+01, 5.500e+01, 6.500e+01, 4.100e+01, 4.700e+01, 3.800e+01,\n",
       "        2.300e+01, 1.600e+01, 3.000e+00, 0.000e+00, 2.000e+00, 1.000e+00,\n",
       "        1.000e+00, 0.000e+00, 0.000e+00, 0.000e+00, 0.000e+00, 1.000e+00,\n",
       "        0.000e+00, 1.000e+00, 0.000e+00, 0.000e+00, 1.000e+00, 0.000e+00,\n",
       "        0.000e+00, 1.000e+00, 0.000e+00, 0.000e+00, 1.000e+00, 0.000e+00,\n",
       "        0.000e+00, 2.000e+00]),\n",
       " array([ 0.40483421,  1.39462159,  2.38440897,  3.37419635,  4.36398373,\n",
       "         5.35377111,  6.34355849,  7.33334587,  8.32313325,  9.31292063,\n",
       "        10.30270801, 11.29249539, 12.28228276, 13.27207014, 14.26185752,\n",
       "        15.2516449 , 16.24143228, 17.23121966, 18.22100704, 19.21079442,\n",
       "        20.2005818 , 21.19036918, 22.18015656, 23.16994394, 24.15973132,\n",
       "        25.1495187 , 26.13930608, 27.12909346, 28.11888084, 29.10866822,\n",
       "        30.0984556 , 31.08824298, 32.07803035, 33.06781773, 34.05760511,\n",
       "        35.04739249, 36.03717987, 37.02696725, 38.01675463, 39.00654201,\n",
       "        39.99632939, 40.98611677, 41.97590415, 42.96569153, 43.95547891,\n",
       "        44.94526629, 45.93505367, 46.92484105, 47.91462843, 48.90441581,\n",
       "        49.89420319]),\n",
       " <BarContainer object of 50 artists>)"
      ]
     },
     "execution_count": 20,
     "metadata": {},
     "output_type": "execute_result"
    },
    {
     "data": {
      "image/png": "[encoded data removed]",
      "text/plain": [
       "<Figure size 640x480 with 1 Axes>"
      ]
     },
     "metadata": {},
     "output_type": "display_data"
    }
   ],
   "source": [
    "plt.hist(losses_test_anomaly, bins=50)"
   ]
  },
  {
   "cell_type": "code",
   "execution_count": 21,
   "metadata": {},
   "outputs": [
    {
     "name": "stdout",
     "output_type": "stream",
     "text": [
      "Correct anomaly predictions: 13200/21326 or  0.6189627684516552\n"
     ]
    }
   ],
   "source": [
    "correct = sum(l > THRESHOLD for l in losses_test_anomaly)\n",
    "print(f'Correct anomaly predictions: {correct}/{len(test_anomalie_ds)} or  {correct/len(test_anomalie_ds)}')"
   ]
  },
  {
   "cell_type": "code",
   "execution_count": 22,
   "metadata": {},
   "outputs": [],
   "source": [
    "def find_threshold(loss_normal, loss_anomaly):\n",
    "    threshold_list = np.linspace(0,5,21)\n",
    "    corr_normal = []\n",
    "    corr_anomaly = []\n",
    "    for th in threshold_list:\n",
    "        corr_normal.append(sum(l <= th for l in loss_normal)/len(loss_normal))\n",
    "        corr_anomaly.append(sum(l > th for l in loss_anomaly)/len(loss_anomaly))\n",
    "    return corr_normal, corr_anomaly"
   ]
  },
  {
   "cell_type": "code",
   "execution_count": 34,
   "metadata": {},
   "outputs": [
    {
     "data": {
      "text/plain": [
       "[<matplotlib.lines.Line2D at 0x7fd4f238a550>]"
      ]
     },
     "execution_count": 34,
     "metadata": {},
     "output_type": "execute_result"
    },
    {
     "data": {
      "image/png": "[encoded data removed]",
      "text/plain": [
       "<Figure size 640x480 with 1 Axes>"
      ]
     },
     "metadata": {},
     "output_type": "display_data"
    }
   ],
   "source": [
    "p1, p2= find_threshold(losses_test_normal, losses_test_anomaly)\n",
    "plt.plot(np.linspace(0,5,21), p1, marker=\"o\")\n",
    "plt.plot(np.linspace(0,5,21), p2, marker=\"x\")"
   ]
  },
  {
   "cell_type": "code",
   "execution_count": 24,
   "metadata": {},
   "outputs": [],
   "source": [
    "def predict_classes(model, dataset, threshold=1.25):\n",
    "    predictions, losses = [], []\n",
    "    criterion = torch.nn.L1Loss(reduction='sum').to(device)\n",
    "    with torch.no_grad():\n",
    "        model = model.eval()\n",
    "        for seq_true, y in dataset:\n",
    "            seq_true = seq_true.to(device)\n",
    "            seq_pred = model(seq_true)\n",
    "\n",
    "            loss = criterion(seq_pred, seq_true)\n",
    "            pred = \"N\" if loss <= threshold else \"A\"\n",
    "            predictions.append(pred)\n",
    "            losses.append(loss.item())\n",
    "    return predictions"
   ]
  },
  {
   "cell_type": "code",
   "execution_count": 31,
   "metadata": {},
   "outputs": [],
   "source": [
    "from sklearn import metrics\n",
    "    \n",
    "pred_normal = predict_classes(model, test_normal_ds, threshold=1.2)\n",
    "pred_anomaly = predict_classes(model, test_anomalie_ds, threshold=1.2)"
   ]
  },
  {
   "cell_type": "code",
   "execution_count": 32,
   "metadata": {},
   "outputs": [
    {
     "name": "stdout",
     "output_type": "stream",
     "text": [
      "Acc: 0.8808883577332935\n",
      "Precision: 0.7657381899806143\n",
      "Recall: 0.8531317494600432\n",
      "F1: 0.807076029680611\n"
     ]
    }
   ],
   "source": [
    "print(f\"Acc: {metrics.accuracy_score(['N']*len(pred_normal)+['A']*len(pred_anomaly), pred_normal+pred_anomaly)}\")\n",
    "print(f\"Precision: {metrics.precision_score(['N']*len(pred_normal)+['A']*len(pred_anomaly), pred_normal+pred_anomaly, pos_label='N')}\")\n",
    "print(f\"Recall: {metrics.recall_score(['N']*len(pred_normal)+['A']*len(pred_anomaly), pred_normal+pred_anomaly, pos_label='N')}\")\n",
    "print(f\"F1: {metrics.f1_score(['N']*len(pred_normal)+['A']*len(pred_anomaly), pred_normal+pred_anomaly, pos_label='N')}\")"
   ]
  }
 ],
 "metadata": {
  "kernelspec": {
   "display_name": "code-b8C0A6mP",
   "language": "python",
   "name": "python3"
  },
  "language_info": {
   "codemirror_mode": {
    "name": "ipython",
    "version": 3
   },
   "file_extension": ".py",
   "mimetype": "text/x-python",
   "name": "python",
   "nbconvert_exporter": "python",
   "pygments_lexer": "ipython3",
   "version": "3.7.17"
  }
 },
 "nbformat": 4,
 "nbformat_minor": 2
}
