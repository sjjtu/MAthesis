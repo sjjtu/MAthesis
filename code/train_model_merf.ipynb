{
 "cells": [
  {
   "cell_type": "code",
   "execution_count": 1,
   "metadata": {},
   "outputs": [
    {
     "name": "stderr",
     "output_type": "stream",
     "text": [
      "/home/user1-asd-arch/.local/share/virtualenvs/code-b8C0A6mP/lib/python3.7/site-packages/tqdm/auto.py:21: TqdmWarning: IProgress not found. Please update jupyter and ipywidgets. See https://ipywidgets.readthedocs.io/en/stable/user_install.html\n",
      "  from .autonotebook import tqdm as notebook_tqdm\n"
     ]
    }
   ],
   "source": [
    "import pandas as pd\n",
    "import numpy as np\n",
    "from matplotlib import pyplot as plt\n",
    "\n",
    "from util.TrainRoutine import AutoEncTrainRoutine\n",
    "from util.DPMERFGenerator import DPMERFGenerator\n",
    "from util.Evaluator import Evaluator"
   ]
  },
  {
   "cell_type": "markdown",
   "metadata": {},
   "source": [
    "We want to use the DPMERF algorithm on time series data. But we will not work on time series directly, because it does not model the temporal relation correctly. Instead we will train an AE first and use DPMERF on the encoding space, where there is no notion of time and ordering."
   ]
  },
  {
   "cell_type": "code",
   "execution_count": 2,
   "metadata": {},
   "outputs": [],
   "source": [
    "emb_dim = 32"
   ]
  },
  {
   "cell_type": "code",
   "execution_count": 3,
   "metadata": {},
   "outputs": [
    {
     "name": "stdout",
     "output_type": "stream",
     "text": [
      "------------------------------\n",
      "Initialising Autoencoder with:\n",
      "RecurrentAutoencoder(\n",
      "  (encoder): Encoder(\n",
      "    (rnn1): LSTM(1, 64, batch_first=True)\n",
      "    (rnn2): LSTM(64, 32, batch_first=True)\n",
      "  )\n",
      "  (decoder): Decoder(\n",
      "    (rnn1): LSTM(32, 32, batch_first=True)\n",
      "    (rnn2): LSTM(32, 64, batch_first=True)\n",
      "    (output_layer): Linear(in_features=64, out_features=1, bias=True)\n",
      "  )\n",
      ")\n",
      "Training on cuda\n",
      "------------------------------\n"
     ]
    }
   ],
   "source": [
    "ae = AutoEncTrainRoutine(emb_dim=emb_dim)"
   ]
  },
  {
   "cell_type": "code",
   "execution_count": 8,
   "metadata": {},
   "outputs": [
    {
     "name": "stdout",
     "output_type": "stream",
     "text": [
      "loss: 57.617168  [    1/71253]\n",
      "loss: 16.528322  [10001/71253]\n",
      "loss: 16.183067  [20001/71253]\n",
      "loss: 4.896627  [30001/71253]\n",
      "loss: 4.366556  [40001/71253]\n",
      "loss: 4.034032  [50001/71253]\n",
      "loss: 3.565529  [60001/71253]\n",
      "loss: 4.367525  [70001/71253]\n",
      "Epoch 1: train loss = 8.063948563168701, val loss = 2.998670992405013\n",
      "loss: 9.909414  [    1/71253]\n",
      "loss: 3.168758  [10001/71253]\n",
      "loss: 4.565748  [20001/71253]\n",
      "loss: 2.407732  [30001/71253]\n",
      "loss: 4.215288  [40001/71253]\n",
      "loss: 1.380625  [50001/71253]\n",
      "loss: 1.437840  [60001/71253]\n",
      "loss: 1.518358  [70001/71253]\n",
      "Epoch 2: train loss = 2.386712470100702, val loss = 2.279514656234914\n",
      "loss: 7.683027  [    1/71253]\n",
      "loss: 1.582472  [10001/71253]\n",
      "loss: 1.132472  [20001/71253]\n",
      "loss: 1.474593  [30001/71253]\n",
      "loss: 2.981292  [40001/71253]\n",
      "loss: 1.474414  [50001/71253]\n",
      "loss: 1.352719  [60001/71253]\n",
      "loss: 2.407429  [70001/71253]\n",
      "Epoch 3: train loss = 1.6507503232506653, val loss = 1.4320008032443579\n",
      "loss: 0.761469  [    1/71253]\n",
      "loss: 1.555403  [10001/71253]\n",
      "loss: 1.238839  [20001/71253]\n",
      "loss: 3.558896  [30001/71253]\n",
      "loss: 1.566991  [40001/71253]\n",
      "loss: 1.475737  [50001/71253]\n",
      "loss: 0.970349  [60001/71253]\n",
      "loss: 1.845901  [70001/71253]\n",
      "Epoch 4: train loss = 1.3727234456127018, val loss = 1.4446785378054134\n",
      "loss: 0.670081  [    1/71253]\n",
      "loss: 1.042863  [10001/71253]\n",
      "loss: 0.705049  [20001/71253]\n",
      "loss: 1.115627  [30001/71253]\n",
      "loss: 0.865424  [40001/71253]\n",
      "loss: 0.536043  [50001/71253]\n",
      "loss: 0.909322  [60001/71253]\n",
      "loss: 1.492747  [70001/71253]\n",
      "Epoch 5: train loss = 1.1863844665737617, val loss = 1.0442706858774544\n",
      "loss: 0.811098  [    1/71253]\n",
      "loss: 0.695892  [10001/71253]\n",
      "loss: 0.676721  [20001/71253]\n",
      "loss: 0.917393  [30001/71253]\n",
      "loss: 0.807811  [40001/71253]\n",
      "loss: 1.200370  [50001/71253]\n",
      "loss: 0.518099  [60001/71253]\n",
      "loss: 1.088561  [70001/71253]\n",
      "Epoch 6: train loss = 1.074854102315962, val loss = 1.1111208529755696\n",
      "loss: 0.961928  [    1/71253]\n",
      "loss: 0.994377  [10001/71253]\n",
      "loss: 0.752216  [20001/71253]\n",
      "loss: 0.726362  [30001/71253]\n",
      "loss: 0.730037  [40001/71253]\n",
      "loss: 0.785565  [50001/71253]\n",
      "loss: 0.780970  [60001/71253]\n",
      "loss: 0.706016  [70001/71253]\n",
      "Epoch 7: train loss = 1.0088840157921644, val loss = 0.9463743317169383\n",
      "loss: 0.906128  [    1/71253]\n",
      "loss: 1.127794  [10001/71253]\n",
      "loss: 0.645637  [20001/71253]\n",
      "loss: 1.228222  [30001/71253]\n",
      "loss: 0.859259  [40001/71253]\n",
      "loss: 0.845628  [50001/71253]\n",
      "loss: 0.571821  [60001/71253]\n",
      "loss: 0.854020  [70001/71253]\n",
      "Epoch 8: train loss = 0.9674380917156001, val loss = 1.0051022201708755\n",
      "loss: 2.976560  [    1/71253]\n",
      "loss: 1.110138  [10001/71253]\n",
      "loss: 0.881768  [20001/71253]\n",
      "loss: 1.373854  [30001/71253]\n",
      "loss: 0.802636  [40001/71253]\n",
      "loss: 2.989927  [50001/71253]\n",
      "loss: 1.167115  [60001/71253]\n",
      "loss: 0.958607  [70001/71253]\n",
      "Epoch 9: train loss = 0.931618872896679, val loss = 0.8874183219885037\n",
      "loss: 0.917381  [    1/71253]\n",
      "loss: 0.726184  [10001/71253]\n",
      "loss: 0.515131  [20001/71253]\n",
      "loss: 0.539036  [30001/71253]\n",
      "loss: 0.665042  [40001/71253]\n",
      "loss: 1.034658  [50001/71253]\n",
      "loss: 0.497214  [60001/71253]\n",
      "loss: 0.887192  [70001/71253]\n",
      "Epoch 10: train loss = 0.9059966917208815, val loss = 0.8659321811463261\n",
      "loss: 0.538471  [    1/71253]\n",
      "loss: 1.547261  [10001/71253]\n",
      "loss: 1.054598  [20001/71253]\n",
      "loss: 0.787960  [30001/71253]\n",
      "loss: 0.524774  [40001/71253]\n",
      "loss: 0.798834  [50001/71253]\n",
      "loss: 0.758840  [60001/71253]\n",
      "loss: 0.699907  [70001/71253]\n",
      "Epoch 11: train loss = 0.8810182983035608, val loss = 0.8675973104215626\n",
      "loss: 0.507072  [    1/71253]\n",
      "loss: 0.850740  [10001/71253]\n",
      "loss: 0.768563  [20001/71253]\n",
      "loss: 0.419596  [30001/71253]\n",
      "loss: 1.115353  [40001/71253]\n",
      "loss: 0.456518  [50001/71253]\n",
      "loss: 0.743564  [60001/71253]\n",
      "loss: 0.531476  [70001/71253]\n",
      "Epoch 12: train loss = 0.8608788202041081, val loss = 0.8533349504567782\n",
      "loss: 1.097364  [    1/71253]\n",
      "loss: 1.126957  [10001/71253]\n",
      "loss: 0.672153  [20001/71253]\n",
      "loss: 0.578191  [30001/71253]\n",
      "loss: 0.871548  [40001/71253]\n",
      "loss: 0.530770  [50001/71253]\n",
      "loss: 0.700589  [60001/71253]\n",
      "loss: 0.441314  [70001/71253]\n",
      "Epoch 13: train loss = 0.8393697854530742, val loss = 0.7839928362880821\n",
      "loss: 1.043053  [    1/71253]\n",
      "loss: 0.683986  [10001/71253]\n",
      "loss: 0.866926  [20001/71253]\n",
      "loss: 0.692469  [30001/71253]\n",
      "loss: 0.600658  [40001/71253]\n",
      "loss: 0.616255  [50001/71253]\n",
      "loss: 0.511348  [60001/71253]\n",
      "loss: 1.009682  [70001/71253]\n",
      "Epoch 14: train loss = 0.8206217407464175, val loss = 0.7942059036268071\n",
      "loss: 0.779243  [    1/71253]\n",
      "loss: 0.819727  [10001/71253]\n",
      "loss: 1.573963  [20001/71253]\n",
      "loss: 0.921546  [30001/71253]\n",
      "loss: 0.699587  [40001/71253]\n",
      "loss: 1.230816  [50001/71253]\n",
      "loss: 0.741344  [60001/71253]\n",
      "loss: 0.702705  [70001/71253]\n",
      "Epoch 15: train loss = 0.8010663758396237, val loss = 0.7921111867430235\n",
      "loss: 0.815318  [    1/71253]\n",
      "loss: 0.722281  [10001/71253]\n",
      "loss: 0.706366  [20001/71253]\n",
      "loss: 0.564036  [30001/71253]\n",
      "loss: 0.623066  [40001/71253]\n",
      "loss: 0.537072  [50001/71253]\n",
      "loss: 0.463542  [60001/71253]\n",
      "loss: 0.699270  [70001/71253]\n",
      "Epoch 16: train loss = 0.782183629878253, val loss = 0.8121817394936738\n",
      "loss: 1.164286  [    1/71253]\n",
      "loss: 0.662557  [10001/71253]\n",
      "loss: 0.508498  [20001/71253]\n",
      "loss: 0.453626  [30001/71253]\n",
      "loss: 0.995423  [40001/71253]\n",
      "loss: 0.585502  [50001/71253]\n",
      "loss: 0.863659  [60001/71253]\n",
      "loss: 0.908075  [70001/71253]\n",
      "Epoch 17: train loss = 0.7601143470623986, val loss = 0.7179417108256397\n",
      "loss: 1.161644  [    1/71253]\n",
      "loss: 0.425133  [10001/71253]\n",
      "loss: 0.578442  [20001/71253]\n",
      "loss: 0.643849  [30001/71253]\n",
      "loss: 0.870844  [40001/71253]\n",
      "loss: 0.878678  [50001/71253]\n",
      "loss: 0.954325  [60001/71253]\n",
      "loss: 0.732477  [70001/71253]\n",
      "Epoch 18: train loss = 0.7437720825340453, val loss = 0.7473033120736656\n",
      "loss: 0.913259  [    1/71253]\n",
      "loss: 0.487882  [10001/71253]\n",
      "loss: 0.969339  [20001/71253]\n",
      "loss: 0.506617  [30001/71253]\n",
      "loss: 0.605977  [40001/71253]\n",
      "loss: 0.490563  [50001/71253]\n",
      "loss: 0.890483  [60001/71253]\n",
      "loss: 0.596108  [70001/71253]\n",
      "Epoch 19: train loss = 0.7274117174591815, val loss = 0.6948427042257428\n",
      "loss: 1.084910  [    1/71253]\n",
      "loss: 1.479525  [10001/71253]\n",
      "loss: 0.376078  [20001/71253]\n",
      "loss: 0.635866  [30001/71253]\n",
      "loss: 0.784415  [40001/71253]\n",
      "loss: 0.496024  [50001/71253]\n",
      "loss: 0.502701  [60001/71253]\n",
      "loss: 0.577511  [70001/71253]\n",
      "Epoch 20: train loss = 0.7137597917794375, val loss = 0.6821683124818113\n",
      "loss: 0.473650  [    1/71253]\n",
      "loss: 0.374339  [10001/71253]\n",
      "loss: 0.806854  [20001/71253]\n",
      "loss: 0.883065  [30001/71253]\n",
      "loss: 0.492882  [40001/71253]\n",
      "loss: 0.752066  [50001/71253]\n",
      "loss: 0.426798  [60001/71253]\n",
      "loss: 0.701420  [70001/71253]\n",
      "Epoch 21: train loss = 0.6994790836668663, val loss = 0.7797610114457241\n",
      "loss: 2.422001  [    1/71253]\n",
      "loss: 0.546419  [10001/71253]\n",
      "loss: 0.405816  [20001/71253]\n",
      "loss: 1.171876  [30001/71253]\n",
      "loss: 0.398108  [40001/71253]\n",
      "loss: 0.699476  [50001/71253]\n",
      "loss: 0.716288  [60001/71253]\n",
      "loss: 0.451879  [70001/71253]\n",
      "Epoch 22: train loss = 0.6873276272889209, val loss = 0.7610207061201191\n",
      "loss: 0.607013  [    1/71253]\n",
      "loss: 0.469145  [10001/71253]\n",
      "loss: 0.373624  [20001/71253]\n",
      "loss: 1.506756  [30001/71253]\n",
      "loss: 0.586564  [40001/71253]\n",
      "loss: 0.440685  [50001/71253]\n",
      "loss: 1.461830  [60001/71253]\n",
      "loss: 0.559114  [70001/71253]\n",
      "Epoch 23: train loss = 0.672579177960649, val loss = 0.6556526799640381\n",
      "loss: 0.488551  [    1/71253]\n",
      "loss: 0.499354  [10001/71253]\n",
      "loss: 1.505748  [20001/71253]\n",
      "loss: 1.169780  [30001/71253]\n",
      "loss: 0.571179  [40001/71253]\n",
      "loss: 1.765557  [50001/71253]\n",
      "loss: 0.564099  [60001/71253]\n",
      "loss: 0.665561  [70001/71253]\n",
      "Epoch 24: train loss = 0.6747804773799455, val loss = 0.7589208805055202\n",
      "loss: 0.447196  [    1/71253]\n",
      "loss: 0.939921  [10001/71253]\n",
      "loss: 0.534103  [20001/71253]\n",
      "loss: 0.447987  [30001/71253]\n",
      "loss: 0.481412  [40001/71253]\n",
      "loss: 0.760009  [50001/71253]\n",
      "loss: 0.732129  [60001/71253]\n",
      "loss: 0.434000  [70001/71253]\n",
      "Epoch 25: train loss = 0.6463817209480082, val loss = 0.6093243423639508\n",
      "loss: 0.635457  [    1/71253]\n",
      "loss: 0.963555  [10001/71253]\n",
      "loss: 0.547349  [20001/71253]\n",
      "loss: 0.660464  [30001/71253]\n",
      "loss: 1.017305  [40001/71253]\n",
      "loss: 0.532224  [50001/71253]\n",
      "loss: 0.938708  [60001/71253]\n",
      "loss: 0.452117  [70001/71253]\n",
      "Epoch 26: train loss = 0.6353855478129999, val loss = 0.6128361929686993\n",
      "loss: 1.082744  [    1/71253]\n",
      "loss: 0.658175  [10001/71253]\n",
      "loss: 0.527105  [20001/71253]\n",
      "loss: 0.528650  [30001/71253]\n",
      "loss: 0.428961  [40001/71253]\n",
      "loss: 0.633578  [50001/71253]\n",
      "loss: 0.368526  [60001/71253]\n",
      "loss: 0.339566  [70001/71253]\n",
      "Epoch 27: train loss = 0.6264937929939277, val loss = 0.6444021614664099\n",
      "loss: 0.903284  [    1/71253]\n",
      "loss: 0.649381  [10001/71253]\n",
      "loss: 0.383603  [20001/71253]\n",
      "loss: 0.445758  [30001/71253]\n",
      "loss: 0.405537  [40001/71253]\n",
      "loss: 0.950750  [50001/71253]\n",
      "loss: 0.616479  [60001/71253]\n",
      "loss: 0.462083  [70001/71253]\n",
      "Epoch 28: train loss = 0.6181212272003836, val loss = 0.7529052547897827\n",
      "loss: 1.013533  [    1/71253]\n",
      "loss: 0.637933  [10001/71253]\n",
      "loss: 0.488904  [20001/71253]\n",
      "loss: 0.480921  [30001/71253]\n",
      "loss: 0.629773  [40001/71253]\n",
      "loss: 0.334085  [50001/71253]\n",
      "loss: 0.580104  [60001/71253]\n",
      "loss: 0.407099  [70001/71253]\n",
      "Epoch 29: train loss = 0.6102444273718931, val loss = 0.5892546852863807\n",
      "loss: 0.611914  [    1/71253]\n",
      "loss: 0.794814  [10001/71253]\n",
      "loss: 0.995543  [20001/71253]\n",
      "loss: 0.425424  [30001/71253]\n",
      "loss: 0.683357  [40001/71253]\n",
      "loss: 0.393969  [50001/71253]\n",
      "loss: 0.521784  [60001/71253]\n",
      "loss: 0.587364  [70001/71253]\n",
      "Epoch 30: train loss = 0.6052098468952178, val loss = 0.7065858771950646\n"
     ]
    }
   ],
   "source": [
    "model, history = ae.train_model()"
   ]
  },
  {
   "cell_type": "code",
   "execution_count": 9,
   "metadata": {},
   "outputs": [],
   "source": [
    "ae.save_model(f\"lstmae_180_embed{emb_dim}.pth\")"
   ]
  },
  {
   "cell_type": "code",
   "execution_count": 4,
   "metadata": {},
   "outputs": [],
   "source": [
    "ae.load_model(f\"lstmae_180_embed{emb_dim}.pth\")"
   ]
  },
  {
   "cell_type": "code",
   "execution_count": 10,
   "metadata": {},
   "outputs": [
    {
     "data": {
      "text/plain": [
       "[<matplotlib.lines.Line2D at 0x7f54a6957d10>]"
      ]
     },
     "execution_count": 10,
     "metadata": {},
     "output_type": "execute_result"
    },
    {
     "data": {
      "image/png": "[encoded data removed]",
      "text/plain": [
       "<Figure size 640x480 with 1 Axes>"
      ]
     },
     "metadata": {},
     "output_type": "display_data"
    }
   ],
   "source": [
    "plt.plot(history[\"train\"])\n",
    "plt.plot(history[\"val\"])"
   ]
  },
  {
   "cell_type": "code",
   "execution_count": 14,
   "metadata": {},
   "outputs": [],
   "source": [
    "ae.encode_train_data(f\"data/normal_training_encoded_embed{emb_dim}.csv\")"
   ]
  },
  {
   "cell_type": "code",
   "execution_count": 5,
   "metadata": {},
   "outputs": [],
   "source": [
    "dpmerfgen_npriv = DPMERFGenerator(path_2_data=f\"data/normal_training_encoded_embed{emb_dim}.csv\", input_size=20)"
   ]
  },
  {
   "cell_type": "code",
   "execution_count": 6,
   "metadata": {},
   "outputs": [
    {
     "name": "stdout",
     "output_type": "stream",
     "text": [
      "minibatch:  7125\n",
      "total number of datapoints in the training data is 71253\n",
      "random freq (1000, 32)\n",
      "Starting Training\n",
      "epoch # and running loss are  [0, 6.278317451477051]\n",
      "epoch # and running loss are  [100, 0.006572778103873134]\n",
      "epoch # and running loss are  [200, 0.0025206362770404667]\n",
      "epoch # and running loss are  [300, 0.0013730844511883333]\n",
      "epoch # and running loss are  [400, 0.0016536072216695175]\n",
      "epoch # and running loss are  [500, 0.0014626558258896694]\n",
      "epoch # and running loss are  [600, 0.0015866786052356474]\n",
      "epoch # and running loss are  [700, 0.0011191413941560313]\n",
      "epoch # and running loss are  [800, 0.0012977378064533696]\n",
      "epoch # and running loss are  [900, 0.0017134188383352011]\n",
      "epoch # and running loss are  [1000, 0.001185176457511261]\n",
      "epoch # and running loss are  [1100, 0.0012259698924026452]\n",
      "epoch # and running loss are  [1200, 0.0009458961394557264]\n",
      "epoch # and running loss are  [1300, 0.002110534594976343]\n",
      "epoch # and running loss are  [1400, 0.0010077372935484163]\n",
      "epoch # and running loss are  [1500, 0.0009434134917682968]\n",
      "epoch # and running loss are  [1600, 0.0008055340440478176]\n",
      "epoch # and running loss are  [1700, 0.001372078972053714]\n",
      "epoch # and running loss are  [1800, 0.0012391075142659247]\n",
      "epoch # and running loss are  [1900, 0.0012384450674289837]\n"
     ]
    }
   ],
   "source": [
    "dpmerfgen_npriv.train_generator(mini_batch_size=0.1, lr=1e-2)"
   ]
  },
  {
   "cell_type": "code",
   "execution_count": 7,
   "metadata": {},
   "outputs": [],
   "source": [
    "dpmerfgen_npriv.generate(fname=f\"enc_gen_embed{emb_dim}.csv\")"
   ]
  },
  {
   "cell_type": "code",
   "execution_count": 8,
   "metadata": {},
   "outputs": [],
   "source": [
    "decoded_gen_embed = ae.decode_data(path_encoded_data=f\"data/generated/enc_gen_embed{emb_dim}.csv\")\n",
    "pd.DataFrame(decoded_gen_embed).to_csv(f\"data/generated/normal_train_180_embed{emb_dim}_dpmerf.csv\")"
   ]
  },
  {
   "cell_type": "code",
   "execution_count": 9,
   "metadata": {},
   "outputs": [
    {
     "data": {
      "text/plain": [
       "[<matplotlib.lines.Line2D at 0x7fe9acea6950>]"
      ]
     },
     "execution_count": 9,
     "metadata": {},
     "output_type": "execute_result"
    },
    {
     "data": {
      "image/png": "[encoded data removed]",
      "text/plain": [
       "<Figure size 640x480 with 1 Axes>"
      ]
     },
     "metadata": {},
     "output_type": "display_data"
    }
   ],
   "source": [
    "plt.plot(decoded_gen_embed[30])"
   ]
  },
  {
   "cell_type": "code",
   "execution_count": 10,
   "metadata": {},
   "outputs": [
    {
     "name": "stdout",
     "output_type": "stream",
     "text": [
      "------------------------------\n",
      "Initialising Autoencoder with:\n",
      "RecurrentAutoencoder(\n",
      "  (encoder): Encoder(\n",
      "    (rnn1): LSTM(1, 64, batch_first=True)\n",
      "    (rnn2): LSTM(64, 32, batch_first=True)\n",
      "  )\n",
      "  (decoder): Decoder(\n",
      "    (rnn1): LSTM(32, 32, batch_first=True)\n",
      "    (rnn2): LSTM(32, 64, batch_first=True)\n",
      "    (output_layer): Linear(in_features=64, out_features=1, bias=True)\n",
      "  )\n",
      ")\n",
      "Training on cuda\n",
      "------------------------------\n"
     ]
    }
   ],
   "source": [
    "ae_gen = AutoEncTrainRoutine(training_data_path=f\"data/generated/normal_train_180_embed{emb_dim}_dpmerf.csv\")"
   ]
  },
  {
   "cell_type": "code",
   "execution_count": 11,
   "metadata": {},
   "outputs": [
    {
     "name": "stdout",
     "output_type": "stream",
     "text": [
      "loss: 95.131485  [    1/71253]\n",
      "loss: 6.511769  [10001/71253]\n",
      "loss: 7.196774  [20001/71253]\n",
      "loss: 4.546294  [30001/71253]\n",
      "loss: 1.387733  [40001/71253]\n",
      "loss: 2.698795  [50001/71253]\n",
      "loss: 3.564476  [60001/71253]\n",
      "loss: 4.130425  [70001/71253]\n",
      "Epoch 1: train loss = 7.155234150475269, val loss = 4.313582387287287\n",
      "loss: 2.526373  [    1/71253]\n",
      "loss: 1.826844  [10001/71253]\n",
      "loss: 1.432770  [20001/71253]\n",
      "loss: 3.726527  [30001/71253]\n",
      "loss: 0.632266  [40001/71253]\n",
      "loss: 0.492945  [50001/71253]\n",
      "loss: 0.424895  [60001/71253]\n",
      "loss: 2.088855  [70001/71253]\n",
      "Epoch 2: train loss = 2.6163525607798115, val loss = 3.9284857816393854\n",
      "loss: 1.017093  [    1/71253]\n",
      "loss: 0.929748  [10001/71253]\n",
      "loss: 1.554204  [20001/71253]\n",
      "loss: 1.787135  [30001/71253]\n",
      "loss: 0.750675  [40001/71253]\n",
      "loss: 1.286523  [50001/71253]\n",
      "loss: 2.031714  [60001/71253]\n",
      "loss: 1.464804  [70001/71253]\n",
      "Epoch 3: train loss = 1.9087110217966257, val loss = 3.90355820519119\n",
      "loss: 0.815239  [    1/71253]\n",
      "loss: 1.132504  [10001/71253]\n",
      "loss: 0.739760  [20001/71253]\n",
      "loss: 2.117181  [30001/71253]\n",
      "loss: 0.349382  [40001/71253]\n",
      "loss: 0.733722  [50001/71253]\n",
      "loss: 2.352596  [60001/71253]\n",
      "loss: 0.241763  [70001/71253]\n",
      "Epoch 4: train loss = 1.5329358586907, val loss = 3.7327623759429542\n",
      "loss: 0.478284  [    1/71253]\n",
      "loss: 0.353415  [10001/71253]\n",
      "loss: 1.658864  [20001/71253]\n",
      "loss: 1.094678  [30001/71253]\n",
      "loss: 4.034828  [40001/71253]\n",
      "loss: 6.470260  [50001/71253]\n",
      "loss: 0.529847  [60001/71253]\n",
      "loss: 2.046268  [70001/71253]\n",
      "Epoch 5: train loss = 1.324093701745447, val loss = 3.7013935702080136\n",
      "loss: 1.613661  [    1/71253]\n",
      "loss: 0.296649  [10001/71253]\n",
      "loss: 0.734721  [20001/71253]\n",
      "loss: 0.997208  [30001/71253]\n",
      "loss: 0.376180  [40001/71253]\n",
      "loss: 1.355840  [50001/71253]\n",
      "loss: 1.529803  [60001/71253]\n",
      "loss: 0.309021  [70001/71253]\n",
      "Epoch 6: train loss = 1.1655833845576686, val loss = 3.542553262853297\n",
      "loss: 0.923656  [    1/71253]\n",
      "loss: 1.351796  [10001/71253]\n",
      "loss: 0.179230  [20001/71253]\n",
      "loss: 0.295071  [30001/71253]\n",
      "loss: 0.955017  [40001/71253]\n",
      "loss: 0.711147  [50001/71253]\n",
      "loss: 0.347056  [60001/71253]\n",
      "loss: 0.202311  [70001/71253]\n",
      "Epoch 7: train loss = 1.0371948835364262, val loss = 3.4729414668670957\n",
      "loss: 1.147506  [    1/71253]\n",
      "loss: 0.231355  [10001/71253]\n",
      "loss: 0.608945  [20001/71253]\n",
      "loss: 1.272236  [30001/71253]\n",
      "loss: 0.356367  [40001/71253]\n",
      "loss: 0.415952  [50001/71253]\n",
      "loss: 0.243137  [60001/71253]\n",
      "loss: 0.513444  [70001/71253]\n",
      "Epoch 8: train loss = 0.9351376265238462, val loss = 3.291126309349911\n",
      "loss: 3.974551  [    1/71253]\n",
      "loss: 0.763535  [10001/71253]\n",
      "loss: 0.449613  [20001/71253]\n",
      "loss: 0.236310  [30001/71253]\n",
      "loss: 0.956708  [40001/71253]\n",
      "loss: 0.168901  [50001/71253]\n",
      "loss: 0.363561  [60001/71253]\n",
      "loss: 0.787505  [70001/71253]\n",
      "Epoch 9: train loss = 0.8502040975180722, val loss = 3.3737669121469325\n",
      "loss: 1.361027  [    1/71253]\n",
      "loss: 0.199698  [10001/71253]\n",
      "loss: 0.713055  [20001/71253]\n",
      "loss: 1.266206  [30001/71253]\n",
      "loss: 0.805852  [40001/71253]\n",
      "loss: 1.344178  [50001/71253]\n",
      "loss: 2.886098  [60001/71253]\n",
      "loss: 1.163848  [70001/71253]\n",
      "Epoch 10: train loss = 0.7834620979413359, val loss = 3.1822131729300622\n",
      "loss: 0.590843  [    1/71253]\n",
      "loss: 0.872908  [10001/71253]\n",
      "loss: 0.694472  [20001/71253]\n",
      "loss: 0.320448  [30001/71253]\n",
      "loss: 0.185729  [40001/71253]\n",
      "loss: 0.755646  [50001/71253]\n",
      "loss: 0.359862  [60001/71253]\n",
      "loss: 0.568702  [70001/71253]\n",
      "Epoch 11: train loss = 0.7301520799691422, val loss = 3.032191950825014\n",
      "loss: 0.139736  [    1/71253]\n",
      "loss: 1.333205  [10001/71253]\n",
      "loss: 0.588307  [20001/71253]\n",
      "loss: 0.921409  [30001/71253]\n",
      "loss: 0.871154  [40001/71253]\n",
      "loss: 0.834591  [50001/71253]\n",
      "loss: 0.344341  [60001/71253]\n",
      "loss: 2.664915  [70001/71253]\n",
      "Epoch 12: train loss = 0.6902572161066067, val loss = 3.032487713144897\n",
      "loss: 0.562488  [    1/71253]\n",
      "loss: 0.545638  [10001/71253]\n",
      "loss: 0.506525  [20001/71253]\n",
      "loss: 0.922571  [30001/71253]\n",
      "loss: 0.280296  [40001/71253]\n",
      "loss: 1.667486  [50001/71253]\n",
      "loss: 0.338351  [60001/71253]\n",
      "loss: 0.319049  [70001/71253]\n",
      "Epoch 13: train loss = 0.6510794515613706, val loss = 3.0056179280788737\n",
      "loss: 0.152217  [    1/71253]\n",
      "loss: 0.144298  [10001/71253]\n",
      "loss: 0.360816  [20001/71253]\n",
      "loss: 0.565093  [30001/71253]\n",
      "loss: 0.265486  [40001/71253]\n",
      "loss: 0.366867  [50001/71253]\n",
      "loss: 0.252404  [60001/71253]\n",
      "loss: 0.473634  [70001/71253]\n",
      "Epoch 14: train loss = 0.6216559904744837, val loss = 2.9075289699548903\n",
      "loss: 3.536167  [    1/71253]\n",
      "loss: 0.145784  [10001/71253]\n",
      "loss: 0.410913  [20001/71253]\n",
      "loss: 0.220309  [30001/71253]\n",
      "loss: 0.287342  [40001/71253]\n",
      "loss: 0.466897  [50001/71253]\n",
      "loss: 0.190569  [60001/71253]\n",
      "loss: 1.762027  [70001/71253]\n",
      "Epoch 15: train loss = 0.5915007139229148, val loss = 2.8660359369832236\n",
      "loss: 0.859740  [    1/71253]\n",
      "loss: 0.199706  [10001/71253]\n",
      "loss: 0.187879  [20001/71253]\n",
      "loss: 0.232399  [30001/71253]\n",
      "loss: 0.719723  [40001/71253]\n",
      "loss: 0.860276  [50001/71253]\n",
      "loss: 1.041131  [60001/71253]\n",
      "loss: 0.351546  [70001/71253]\n",
      "Epoch 16: train loss = 0.5671355942775497, val loss = 2.8562926340581916\n",
      "loss: 0.176736  [    1/71253]\n",
      "loss: 1.165675  [10001/71253]\n",
      "loss: 0.380749  [20001/71253]\n",
      "loss: 0.184497  [30001/71253]\n",
      "loss: 0.110314  [40001/71253]\n",
      "loss: 0.176911  [50001/71253]\n",
      "loss: 0.738326  [60001/71253]\n",
      "loss: 0.126137  [70001/71253]\n",
      "Epoch 17: train loss = 0.5451753633748124, val loss = 2.8285739534384193\n",
      "loss: 3.626724  [    1/71253]\n",
      "loss: 0.189956  [10001/71253]\n",
      "loss: 0.320602  [20001/71253]\n",
      "loss: 0.735164  [30001/71253]\n",
      "loss: 0.481300  [40001/71253]\n",
      "loss: 0.183917  [50001/71253]\n",
      "loss: 0.234921  [60001/71253]\n",
      "loss: 0.152621  [70001/71253]\n",
      "Epoch 18: train loss = 0.5249102212071541, val loss = 2.796557632456768\n",
      "loss: 1.190826  [    1/71253]\n",
      "loss: 0.224621  [10001/71253]\n",
      "loss: 0.168173  [20001/71253]\n",
      "loss: 0.412990  [30001/71253]\n",
      "loss: 0.345295  [40001/71253]\n",
      "loss: 0.266486  [50001/71253]\n",
      "loss: 0.094898  [60001/71253]\n",
      "loss: 0.478360  [70001/71253]\n",
      "Epoch 19: train loss = 0.5114860074315716, val loss = 2.7113896783372615\n",
      "loss: 0.320409  [    1/71253]\n",
      "loss: 1.789794  [10001/71253]\n",
      "loss: 0.258145  [20001/71253]\n",
      "loss: 0.430684  [30001/71253]\n",
      "loss: 0.656392  [40001/71253]\n",
      "loss: 0.250398  [50001/71253]\n",
      "loss: 0.762331  [60001/71253]\n",
      "loss: 0.376437  [70001/71253]\n",
      "Epoch 20: train loss = 0.494848709954017, val loss = 2.7383909765654484\n"
     ]
    }
   ],
   "source": [
    "model, history = ae_gen.train_model()"
   ]
  },
  {
   "cell_type": "code",
   "execution_count": 12,
   "metadata": {},
   "outputs": [
    {
     "data": {
      "text/plain": [
       "[<matplotlib.lines.Line2D at 0x7fe7b6faacd0>]"
      ]
     },
     "execution_count": 12,
     "metadata": {},
     "output_type": "execute_result"
    },
    {
     "data": {
      "image/png": "[encoded data removed]",
      "text/plain": [
       "<Figure size 640x480 with 1 Axes>"
      ]
     },
     "metadata": {},
     "output_type": "display_data"
    }
   ],
   "source": [
    "plt.plot(history[\"train\"])\n",
    "plt.plot(history[\"val\"])"
   ]
  },
  {
   "cell_type": "code",
   "execution_count": 13,
   "metadata": {},
   "outputs": [],
   "source": [
    "ae_gen.save_model(f\"dpmerf_embed{emb_dim}.pth\")"
   ]
  },
  {
   "cell_type": "code",
   "execution_count": 14,
   "metadata": {},
   "outputs": [
    {
     "name": "stderr",
     "output_type": "stream",
     "text": [
      "/home/user1-asd-arch/.local/share/virtualenvs/code-b8C0A6mP/lib/python3.7/site-packages/torch/nn/modules/loss.py:101: UserWarning: Using a target size (torch.Size([180, 1])) that is different to the input size (torch.Size([1, 180, 1])). This will likely lead to incorrect results due to broadcasting. Please ensure they have the same size.\n",
      "  return F.l1_loss(input, target, reduction=self.reduction)\n"
     ]
    }
   ],
   "source": [
    "evaluator = Evaluator(ae_gen.test_normal_ds, ae_gen.test_anomalie_ds, ae_gen.model)"
   ]
  },
  {
   "cell_type": "code",
   "execution_count": 15,
   "metadata": {},
   "outputs": [
    {
     "data": {
      "image/png": "[encoded data removed]",
      "text/plain": [
       "<Figure size 640x480 with 2 Axes>"
      ]
     },
     "metadata": {},
     "output_type": "display_data"
    }
   ],
   "source": [
    "plt.figure()\n",
    "\n",
    "plt.subplot(2,1,1)\n",
    "plt.hist(evaluator.loss_normal, bins=100)\n",
    "plt.title(\"Normal\")\n",
    "\n",
    "plt.subplot(2,1,2)\n",
    "plt.hist(evaluator.loss_anomaly, bins=100)\n",
    "plt.title(\"Anomaly\")\n",
    "\n",
    "plt.show()"
   ]
  },
  {
   "cell_type": "code",
   "execution_count": 16,
   "metadata": {},
   "outputs": [
    {
     "data": {
      "image/png": "[encoded data removed]",
      "text/plain": [
       "<Figure size 640x480 with 1 Axes>"
      ]
     },
     "metadata": {},
     "output_type": "display_data"
    }
   ],
   "source": [
    "corr_normal, corr_anomaly = evaluator.find_threshold()\n",
    "plt.plot(np.linspace(0,5,21), corr_normal, marker=\"o\")\n",
    "plt.plot(np.linspace(0,5,21), corr_anomaly, marker=\"x\")\n",
    "plt.xlabel(\"Threshold\")\n",
    "plt.ylabel(\"Percentage correct\")\n",
    "plt.legend([\"Anomaly\", \"Normal\"])\n",
    "plt.show()"
   ]
  },
  {
   "cell_type": "code",
   "execution_count": 17,
   "metadata": {},
   "outputs": [],
   "source": [
    "predictions_normal, predictions_anomaly = evaluator.predict_class(3.75)\n"
   ]
  },
  {
   "cell_type": "code",
   "execution_count": 18,
   "metadata": {},
   "outputs": [
    {
     "name": "stdout",
     "output_type": "stream",
     "text": [
      "Acc: 0.8154413682602377\n",
      "Precision: 0.6766219444954972\n",
      "Recall: 0.83698988291463\n",
      "F1: 0.7483103816250826\n"
     ]
    }
   ],
   "source": [
    "evaluator.evaluate(predictions_normal, predictions_anomaly)"
   ]
  }
 ],
 "metadata": {
  "kernelspec": {
   "display_name": "code-b8C0A6mP",
   "language": "python",
   "name": "python3"
  },
  "language_info": {
   "codemirror_mode": {
    "name": "ipython",
    "version": 3
   },
   "file_extension": ".py",
   "mimetype": "text/x-python",
   "name": "python",
   "nbconvert_exporter": "python",
   "pygments_lexer": "ipython3",
   "version": "3.7.17"
  }
 },
 "nbformat": 4,
 "nbformat_minor": 2
}
