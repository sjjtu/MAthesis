{
 "cells": [
  {
   "cell_type": "code",
   "execution_count": 1,
   "metadata": {},
   "outputs": [
    {
     "name": "stderr",
     "output_type": "stream",
     "text": [
      "/home/user1-asd-arch/.local/share/virtualenvs/code-b8C0A6mP/lib/python3.7/site-packages/tqdm/auto.py:21: TqdmWarning: IProgress not found. Please update jupyter and ipywidgets. See https://ipywidgets.readthedocs.io/en/stable/user_install.html\n",
      "  from .autonotebook import tqdm as notebook_tqdm\n"
     ]
    }
   ],
   "source": [
    "import pandas as pd\n",
    "import numpy as np\n",
    "from matplotlib import pyplot as plt\n",
    "\n",
    "from util.TrainRoutine import AutoEncTrainRoutine\n",
    "from util.DPMERFGenerator import DPMERFGenerator\n",
    "from util.Evaluator import Evaluator"
   ]
  },
  {
   "cell_type": "markdown",
   "metadata": {},
   "source": [
    "We want to use the DPMERF algorithm on time series data. But we will not work on time series directly, because it does not model the temporal relation correctly. Instead we will train an AE first and use DPMERF on the encoding space, where there is no notion of time and ordering."
   ]
  },
  {
   "cell_type": "code",
   "execution_count": 2,
   "metadata": {},
   "outputs": [],
   "source": [
    "emb_dim = 32"
   ]
  },
  {
   "cell_type": "code",
   "execution_count": 3,
   "metadata": {},
   "outputs": [
    {
     "name": "stdout",
     "output_type": "stream",
     "text": [
      "------------------------------\n",
      "Initialising Autoencoder with:\n",
      "RecurrentAutoencoder(\n",
      "  (encoder): Encoder(\n",
      "    (rnn1): LSTM(1, 64, batch_first=True)\n",
      "    (rnn2): LSTM(64, 32, batch_first=True)\n",
      "  )\n",
      "  (decoder): Decoder(\n",
      "    (rnn1): LSTM(32, 32, batch_first=True)\n",
      "    (rnn2): LSTM(32, 64, batch_first=True)\n",
      "    (output_layer): Linear(in_features=64, out_features=1, bias=True)\n",
      "  )\n",
      ")\n",
      "Training on cuda\n",
      "------------------------------\n"
     ]
    }
   ],
   "source": [
    "ae = AutoEncTrainRoutine(emb_dim=emb_dim)"
   ]
  },
  {
   "cell_type": "code",
   "execution_count": null,
   "metadata": {},
   "outputs": [],
   "source": [
    "model, history = ae.train_model()"
   ]
  },
  {
   "cell_type": "code",
   "execution_count": null,
   "metadata": {},
   "outputs": [],
   "source": [
    "ae.save_model(f\"lstmae_180_embed{emb_dim}.pth\")"
   ]
  },
  {
   "cell_type": "code",
   "execution_count": 4,
   "metadata": {},
   "outputs": [
    {
     "name": "stdout",
     "output_type": "stream",
     "text": [
      "loading AE model from models/lstmae_180_embed32.pth\n"
     ]
    }
   ],
   "source": [
    "ae.load_model(f\"lstmae_180_embed{emb_dim}.pth\")"
   ]
  },
  {
   "cell_type": "code",
   "execution_count": null,
   "metadata": {},
   "outputs": [],
   "source": [
    "plt.plot(history[\"train\"])\n",
    "plt.plot(history[\"val\"])"
   ]
  },
  {
   "cell_type": "code",
   "execution_count": 5,
   "metadata": {},
   "outputs": [
    {
     "name": "stdout",
     "output_type": "stream",
     "text": [
      "saving encoded training data in data/normal_training_encoded_embed32.csv\n"
     ]
    },
    {
     "data": {
      "text/plain": [
       "array([[ 0.0017655 ,  0.0117736 ,  0.00665318, ..., -0.01667845,\n",
       "        -0.01867547, -0.01862446],\n",
       "       [ 0.12170709,  0.09850525,  0.10154928, ...,  0.04912138,\n",
       "         0.05809647,  0.0795287 ],\n",
       "       [ 0.03858255,  0.04192922,  0.04189727, ...,  0.04460893,\n",
       "         0.04526051,  0.03903734],\n",
       "       ...,\n",
       "       [ 0.18670821,  0.13367577,  0.1391294 , ...,  0.12226385,\n",
       "         0.11944252,  0.10852771],\n",
       "       [ 0.04104304,  0.07378402,  0.0562855 , ...,  0.02511665,\n",
       "         0.01644596,  0.011526  ],\n",
       "       [ 0.0239025 ,  0.02184634,  0.01873173, ...,  0.0328071 ,\n",
       "         0.02557669,  0.02134343]], dtype=float32)"
      ]
     },
     "execution_count": 5,
     "metadata": {},
     "output_type": "execute_result"
    }
   ],
   "source": [
    "ae.encode_train_data(\"data/normal_train_180.csv\", f\"data/normal_training_encoded_embed{emb_dim}.csv\")"
   ]
  },
  {
   "cell_type": "code",
   "execution_count": 7,
   "metadata": {},
   "outputs": [],
   "source": [
    "dpmerfgen_npriv = DPMERFGenerator(input_size=20)"
   ]
  },
  {
   "cell_type": "code",
   "execution_count": 8,
   "metadata": {},
   "outputs": [
    {
     "ename": "TypeError",
     "evalue": "train_generator() missing 1 required positional argument: 'data'",
     "output_type": "error",
     "traceback": [
      "\u001b[0;31m---------------------------------------------------------------------------\u001b[0m",
      "\u001b[0;31mTypeError\u001b[0m                                 Traceback (most recent call last)",
      "\u001b[0;32m/tmp/ipykernel_12362/2676864761.py\u001b[0m in \u001b[0;36m<module>\u001b[0;34m\u001b[0m\n\u001b[0;32m----> 1\u001b[0;31m \u001b[0mdpmerfgen_npriv\u001b[0m\u001b[0;34m.\u001b[0m\u001b[0mtrain_generator\u001b[0m\u001b[0;34m(\u001b[0m\u001b[0mmini_batch_size\u001b[0m\u001b[0;34m=\u001b[0m\u001b[0;36m0.1\u001b[0m\u001b[0;34m,\u001b[0m \u001b[0mlr\u001b[0m\u001b[0;34m=\u001b[0m\u001b[0;36m1e-2\u001b[0m\u001b[0;34m)\u001b[0m\u001b[0;34m\u001b[0m\u001b[0;34m\u001b[0m\u001b[0m\n\u001b[0m",
      "\u001b[0;31mTypeError\u001b[0m: train_generator() missing 1 required positional argument: 'data'"
     ]
    }
   ],
   "source": [
    "dpmerfgen_npriv.train_generator(mini_batch_size=0.1, lr=1e-2)"
   ]
  },
  {
   "cell_type": "code",
   "execution_count": null,
   "metadata": {},
   "outputs": [],
   "source": [
    "dpmerfgen_npriv.generate(fname=f\"enc_gen_embed{emb_dim}.csv\")"
   ]
  },
  {
   "cell_type": "code",
   "execution_count": null,
   "metadata": {},
   "outputs": [],
   "source": [
    "decoded_gen_embed = ae.decode_data(path_encoded_data=f\"data/generated/enc_gen_embed{emb_dim}.csv\")\n",
    "pd.DataFrame(decoded_gen_embed).to_csv(f\"data/generated/normal_train_180_embed{emb_dim}_dpmerf.csv\")"
   ]
  },
  {
   "cell_type": "code",
   "execution_count": null,
   "metadata": {},
   "outputs": [],
   "source": [
    "plt.plot(decoded_gen_embed[30])"
   ]
  },
  {
   "cell_type": "code",
   "execution_count": null,
   "metadata": {},
   "outputs": [],
   "source": [
    "ae_gen = AutoEncTrainRoutine(training_data_path=f\"data/generated/normal_train_180_embed{emb_dim}_dpmerf.csv\")"
   ]
  },
  {
   "cell_type": "code",
   "execution_count": null,
   "metadata": {},
   "outputs": [],
   "source": [
    "model, history = ae_gen.train_model()"
   ]
  },
  {
   "cell_type": "code",
   "execution_count": null,
   "metadata": {},
   "outputs": [],
   "source": [
    "plt.plot(history[\"train\"])\n",
    "plt.plot(history[\"val\"])"
   ]
  },
  {
   "cell_type": "code",
   "execution_count": null,
   "metadata": {},
   "outputs": [],
   "source": [
    "ae_gen.save_model(f\"dpmerf_embed{emb_dim}.pth\")"
   ]
  },
  {
   "cell_type": "code",
   "execution_count": null,
   "metadata": {},
   "outputs": [],
   "source": [
    "evaluator = Evaluator(ae_gen.test_normal_ds, ae_gen.test_anomalie_ds, ae_gen.model)"
   ]
  },
  {
   "cell_type": "code",
   "execution_count": null,
   "metadata": {},
   "outputs": [],
   "source": [
    "plt.figure()\n",
    "\n",
    "plt.subplot(2,1,1)\n",
    "plt.hist(evaluator.loss_normal, bins=100)\n",
    "plt.title(\"Normal\")\n",
    "\n",
    "plt.subplot(2,1,2)\n",
    "plt.hist(evaluator.loss_anomaly, bins=100)\n",
    "plt.title(\"Anomaly\")\n",
    "\n",
    "plt.show()"
   ]
  },
  {
   "cell_type": "code",
   "execution_count": null,
   "metadata": {},
   "outputs": [],
   "source": [
    "corr_normal, corr_anomaly = evaluator.find_threshold()\n",
    "plt.plot(np.linspace(0,5,21), corr_normal, marker=\"o\")\n",
    "plt.plot(np.linspace(0,5,21), corr_anomaly, marker=\"x\")\n",
    "plt.xlabel(\"Threshold\")\n",
    "plt.ylabel(\"Percentage correct\")\n",
    "plt.legend([\"Anomaly\", \"Normal\"])\n",
    "plt.show()"
   ]
  },
  {
   "cell_type": "code",
   "execution_count": null,
   "metadata": {},
   "outputs": [],
   "source": [
    "predictions_normal, predictions_anomaly = evaluator.predict_class(3.75)\n"
   ]
  },
  {
   "cell_type": "code",
   "execution_count": null,
   "metadata": {},
   "outputs": [],
   "source": [
    "evaluator.evaluate(predictions_normal, predictions_anomaly)"
   ]
  }
 ],
 "metadata": {
  "kernelspec": {
   "display_name": "code-b8C0A6mP",
   "language": "python",
   "name": "python3"
  },
  "language_info": {
   "codemirror_mode": {
    "name": "ipython",
    "version": 3
   },
   "file_extension": ".py",
   "mimetype": "text/x-python",
   "name": "python",
   "nbconvert_exporter": "python",
   "pygments_lexer": "ipython3",
   "version": "3.7.17"
  }
 },
 "nbformat": 4,
 "nbformat_minor": 2
}
