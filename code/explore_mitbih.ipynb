{
 "cells": [
  {
   "cell_type": "code",
   "execution_count": 1,
   "metadata": {},
   "outputs": [
    {
     "ename": "ModuleNotFoundError",
     "evalue": "No module named 'wfdb'",
     "output_type": "error",
     "traceback": [
      "\u001b[0;31m---------------------------------------------------------------------------\u001b[0m",
      "\u001b[0;31mModuleNotFoundError\u001b[0m                       Traceback (most recent call last)",
      "\u001b[0;32m/tmp/ipykernel_29104/2651759532.py\u001b[0m in \u001b[0;36m<module>\u001b[0;34m\u001b[0m\n\u001b[0;32m----> 1\u001b[0;31m \u001b[0;32mimport\u001b[0m \u001b[0mwfdb\u001b[0m\u001b[0;34m\u001b[0m\u001b[0;34m\u001b[0m\u001b[0m\n\u001b[0m",
      "\u001b[0;31mModuleNotFoundError\u001b[0m: No module named 'wfdb'"
     ]
    }
   ],
   "source": [
    "import wfdb"
   ]
  },
  {
   "cell_type": "code",
   "execution_count": 7,
   "metadata": {},
   "outputs": [
    {
     "data": {
      "text/plain": [
       "{'__name__': 'wfdb',\n",
       " '__doc__': None,\n",
       " '__package__': 'wfdb',\n",
       " '__loader__': <_frozen_importlib_external._NamespaceLoader at 0x7fd206091410>,\n",
       " '__spec__': ModuleSpec(name='wfdb', loader=<_frozen_importlib_external._NamespaceLoader object at 0x7fd206091410>, submodule_search_locations=_NamespacePath(['/home/asd/Projekte/MAthesis/code/wfdb', '/home/asd/Projekte/MAthesis/code/wfdb'])),\n",
       " '__file__': None,\n",
       " '__path__': _NamespacePath(['/home/asd/Projekte/MAthesis/code/wfdb', '/home/asd/Projekte/MAthesis/code/wfdb'])}"
      ]
     },
     "execution_count": 7,
     "metadata": {},
     "output_type": "execute_result"
    }
   ],
   "source": [
    "wfdb.__dict__"
   ]
  }
 ],
 "metadata": {
  "kernelspec": {
   "display_name": "code-PqMeiIRG",
   "language": "python",
   "name": "python3"
  },
  "language_info": {
   "codemirror_mode": {
    "name": "ipython",
    "version": 3
   },
   "file_extension": ".py",
   "mimetype": "text/x-python",
   "name": "python",
   "nbconvert_exporter": "python",
   "pygments_lexer": "ipython3",
   "version": "3.7.7"
  }
 },
 "nbformat": 4,
 "nbformat_minor": 2
}
