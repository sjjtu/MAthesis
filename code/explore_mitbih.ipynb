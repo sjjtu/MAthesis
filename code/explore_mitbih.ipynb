{
 "cells": [
  {
   "cell_type": "code",
   "execution_count": 4,
   "metadata": {},
   "outputs": [],
   "source": [
    "import wfdb\n",
    "import pandas as pd"
   ]
  },
  {
   "cell_type": "markdown",
   "metadata": {},
   "source": [
    "Download data if it is not in data folder"
   ]
  },
  {
   "cell_type": "code",
   "execution_count": 14,
   "metadata": {},
   "outputs": [
    {
     "name": "stdout",
     "output_type": "stream",
     "text": [
      "Generating record list for: 100\n",
      "Generating record list for: 101\n",
      "Generating record list for: 102\n",
      "Generating record list for: 103\n",
      "Generating record list for: 104\n",
      "Generating record list for: 105\n",
      "Generating record list for: 106\n",
      "Generating record list for: 107\n",
      "Generating record list for: 108\n",
      "Generating record list for: 109\n",
      "Generating record list for: 111\n",
      "Generating record list for: 112\n",
      "Generating record list for: 113\n",
      "Generating record list for: 114\n",
      "Generating record list for: 115\n",
      "Generating record list for: 116\n",
      "Generating record list for: 117\n",
      "Generating record list for: 118\n",
      "Generating record list for: 119\n",
      "Generating record list for: 121\n",
      "Generating record list for: 122\n",
      "Generating record list for: 123\n",
      "Generating record list for: 124\n",
      "Generating record list for: 200\n",
      "Generating record list for: 201\n",
      "Generating record list for: 202\n",
      "Generating record list for: 203\n",
      "Generating record list for: 205\n",
      "Generating record list for: 207\n",
      "Generating record list for: 208\n",
      "Generating record list for: 209\n",
      "Generating record list for: 210\n",
      "Generating record list for: 212\n",
      "Generating record list for: 213\n",
      "Generating record list for: 214\n",
      "Generating record list for: 215\n",
      "Generating record list for: 217\n",
      "Generating record list for: 219\n",
      "Generating record list for: 220\n",
      "Generating record list for: 221\n",
      "Generating record list for: 222\n",
      "Generating record list for: 223\n",
      "Generating record list for: 228\n",
      "Generating record list for: 230\n",
      "Generating record list for: 231\n",
      "Generating record list for: 232\n",
      "Generating record list for: 233\n",
      "Generating record list for: 234\n",
      "Generating list of all files for: 100\n",
      "Generating list of all files for: 101\n",
      "Generating list of all files for: 102\n",
      "Generating list of all files for: 103\n",
      "Generating list of all files for: 104\n",
      "Generating list of all files for: 105\n",
      "Generating list of all files for: 106\n",
      "Generating list of all files for: 107\n",
      "Generating list of all files for: 108\n",
      "Generating list of all files for: 109\n",
      "Generating list of all files for: 111\n",
      "Generating list of all files for: 112\n",
      "Generating list of all files for: 113\n",
      "Generating list of all files for: 114\n",
      "Generating list of all files for: 115\n",
      "Generating list of all files for: 116\n",
      "Generating list of all files for: 117\n",
      "Generating list of all files for: 118\n",
      "Generating list of all files for: 119\n",
      "Generating list of all files for: 121\n",
      "Generating list of all files for: 122\n",
      "Generating list of all files for: 123\n",
      "Generating list of all files for: 124\n",
      "Generating list of all files for: 200\n",
      "Generating list of all files for: 201\n",
      "Generating list of all files for: 202\n",
      "Generating list of all files for: 203\n",
      "Generating list of all files for: 205\n",
      "Generating list of all files for: 207\n",
      "Generating list of all files for: 208\n",
      "Generating list of all files for: 209\n",
      "Generating list of all files for: 210\n",
      "Generating list of all files for: 212\n",
      "Generating list of all files for: 213\n",
      "Generating list of all files for: 214\n",
      "Generating list of all files for: 215\n",
      "Generating list of all files for: 217\n",
      "Generating list of all files for: 219\n",
      "Generating list of all files for: 220\n",
      "Generating list of all files for: 221\n",
      "Generating list of all files for: 222\n",
      "Generating list of all files for: 223\n",
      "Generating list of all files for: 228\n",
      "Generating list of all files for: 230\n",
      "Generating list of all files for: 231\n",
      "Generating list of all files for: 232\n",
      "Generating list of all files for: 233\n",
      "Generating list of all files for: 234\n",
      "Downloading files...\n",
      "Finished downloading files\n"
     ]
    }
   ],
   "source": [
    "wfdb.dl_database(\"mitdb\", \"data/mit-bih\")"
   ]
  }
 ],
 "metadata": {
  "kernelspec": {
   "display_name": "code-PqMeiIRG",
   "language": "python",
   "name": "python3"
  },
  "language_info": {
   "codemirror_mode": {
    "name": "ipython",
    "version": 3
   },
   "file_extension": ".py",
   "mimetype": "text/x-python",
   "name": "python",
   "nbconvert_exporter": "python",
   "pygments_lexer": "ipython3",
   "version": "3.7.17"
  }
 },
 "nbformat": 4,
 "nbformat_minor": 2
}
