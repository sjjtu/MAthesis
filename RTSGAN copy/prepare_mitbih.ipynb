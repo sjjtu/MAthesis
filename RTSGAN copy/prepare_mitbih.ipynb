{
 "cells": [
  {
   "cell_type": "code",
   "execution_count": 1,
   "metadata": {},
   "outputs": [],
   "source": [
    "# Copyright (c) Microsoft Corporation. All rights reserved.\n",
    "# Licensed under the MIT License."
   ]
  },
  {
   "cell_type": "code",
   "execution_count": 1,
   "metadata": {},
   "outputs": [
    {
     "name": "stdout",
     "output_type": "stream",
     "text": [
      "t_0 1 None continuous\n",
      "t_1 1 None continuous\n",
      "t_2 1 None continuous\n",
      "t_3 1 None continuous\n",
      "t_4 1 None continuous\n",
      "t_5 1 None continuous\n",
      "t_6 1 None continuous\n",
      "t_7 1 None continuous\n",
      "t_8 1 None continuous\n",
      "t_9 1 None continuous\n",
      "t_10 1 None continuous\n",
      "t_11 1 None continuous\n",
      "t_12 1 None continuous\n",
      "t_13 1 None continuous\n",
      "t_14 1 None continuous\n",
      "t_15 1 None continuous\n",
      "t_16 1 None continuous\n",
      "t_17 1 None continuous\n",
      "t_18 1 None continuous\n",
      "t_19 1 None continuous\n",
      "t_20 1 None continuous\n",
      "t_21 1 None continuous\n",
      "t_22 1 None continuous\n",
      "t_23 1 None continuous\n",
      "t_24 1 None continuous\n",
      "t_25 1 None continuous\n",
      "t_26 1 None continuous\n",
      "t_27 1 None continuous\n",
      "t_28 1 None continuous\n",
      "t_29 1 None continuous\n",
      "t_30 1 None continuous\n",
      "t_31 1 None continuous\n",
      "t_32 1 None continuous\n",
      "t_33 1 None continuous\n",
      "t_34 1 None continuous\n",
      "t_35 1 None continuous\n",
      "t_36 1 None continuous\n",
      "t_37 1 None continuous\n",
      "t_38 1 None continuous\n",
      "t_39 1 None continuous\n",
      "t_40 1 None continuous\n",
      "t_41 1 None continuous\n",
      "t_42 1 None continuous\n",
      "t_43 1 None continuous\n",
      "t_44 1 None continuous\n",
      "t_45 1 None continuous\n",
      "t_46 1 None continuous\n",
      "t_47 1 None continuous\n",
      "t_48 1 None continuous\n",
      "t_49 1 None continuous\n",
      "t_50 1 None continuous\n",
      "t_51 1 None continuous\n",
      "t_52 1 None continuous\n",
      "t_53 1 None continuous\n",
      "t_54 1 None continuous\n",
      "t_55 1 None continuous\n",
      "t_56 1 None continuous\n",
      "t_57 1 None continuous\n",
      "t_58 1 None continuous\n",
      "t_59 1 None continuous\n",
      "t_60 1 None continuous\n",
      "t_61 1 None continuous\n",
      "t_62 1 None continuous\n",
      "t_63 1 None continuous\n",
      "t_64 1 None continuous\n",
      "t_65 1 None continuous\n",
      "t_66 1 None continuous\n",
      "t_67 1 None continuous\n",
      "t_68 1 None continuous\n",
      "t_69 1 None continuous\n",
      "t_70 1 None continuous\n",
      "t_71 1 None continuous\n",
      "t_72 1 None continuous\n",
      "t_73 1 None continuous\n",
      "t_74 1 None continuous\n",
      "t_75 1 None continuous\n",
      "t_76 1 None continuous\n",
      "t_77 1 None continuous\n",
      "t_78 1 None continuous\n",
      "t_79 1 None continuous\n",
      "t_80 1 None continuous\n",
      "t_81 1 None continuous\n",
      "t_82 1 None continuous\n",
      "t_83 1 None continuous\n",
      "t_84 1 None continuous\n",
      "t_85 1 None continuous\n",
      "t_86 1 None continuous\n",
      "t_87 1 None continuous\n",
      "t_88 1 None continuous\n",
      "t_89 1 None continuous\n",
      "t_90 1 None continuous\n",
      "t_91 1 None continuous\n",
      "t_92 1 None continuous\n",
      "t_93 1 None continuous\n",
      "t_94 1 None continuous\n",
      "t_95 1 None continuous\n",
      "t_96 1 None continuous\n",
      "t_97 1 None continuous\n",
      "t_98 1 None continuous\n",
      "t_99 1 None continuous\n",
      "t_100 1 None continuous\n",
      "t_101 1 None continuous\n",
      "t_102 1 None continuous\n",
      "t_103 1 None continuous\n",
      "t_104 1 None continuous\n",
      "t_105 1 None continuous\n",
      "t_106 1 None continuous\n",
      "t_107 1 None continuous\n",
      "t_108 1 None continuous\n",
      "t_109 1 None continuous\n",
      "t_110 1 None continuous\n",
      "t_111 1 None continuous\n",
      "t_112 1 None continuous\n",
      "t_113 1 None continuous\n",
      "t_114 1 None continuous\n",
      "t_115 1 None continuous\n",
      "t_116 1 None continuous\n",
      "t_117 1 None continuous\n",
      "t_118 1 None continuous\n",
      "t_119 1 None continuous\n",
      "t_120 1 None continuous\n",
      "t_121 1 None continuous\n",
      "t_122 1 None continuous\n",
      "t_123 1 None continuous\n",
      "t_124 1 None continuous\n",
      "t_125 1 None continuous\n",
      "t_126 1 None continuous\n",
      "t_127 1 None continuous\n",
      "t_128 1 None continuous\n",
      "t_129 1 None continuous\n",
      "t_130 1 None continuous\n",
      "t_131 1 None continuous\n",
      "t_132 1 None continuous\n",
      "t_133 1 None continuous\n",
      "t_134 1 None continuous\n",
      "t_135 1 None continuous\n",
      "t_136 1 None continuous\n",
      "t_137 1 None continuous\n",
      "t_138 1 None continuous\n",
      "t_139 1 None continuous\n",
      "t_140 1 None continuous\n",
      "t_141 1 None continuous\n",
      "t_142 1 None continuous\n",
      "t_143 1 None continuous\n",
      "t_144 1 None continuous\n",
      "t_145 1 None continuous\n",
      "t_146 1 None continuous\n",
      "t_147 1 None continuous\n",
      "t_148 1 None continuous\n",
      "t_149 1 None continuous\n",
      "t_150 1 None continuous\n",
      "t_151 1 None continuous\n",
      "t_152 1 None continuous\n",
      "t_153 1 None continuous\n",
      "t_154 1 None continuous\n",
      "t_155 1 None continuous\n",
      "t_156 1 None continuous\n",
      "t_157 1 None continuous\n",
      "t_158 1 None continuous\n",
      "t_159 1 None continuous\n",
      "t_160 1 None continuous\n",
      "t_161 1 None continuous\n",
      "t_162 1 None continuous\n",
      "t_163 1 None continuous\n",
      "t_164 1 None continuous\n",
      "t_165 1 None continuous\n",
      "t_166 1 None continuous\n",
      "t_167 1 None continuous\n",
      "t_168 1 None continuous\n",
      "t_169 1 None continuous\n",
      "t_170 1 None continuous\n",
      "t_171 1 None continuous\n",
      "t_172 1 None continuous\n",
      "t_173 1 None continuous\n",
      "t_174 1 None continuous\n",
      "t_175 1 None continuous\n",
      "t_176 1 None continuous\n",
      "t_177 1 None continuous\n",
      "t_178 1 None continuous\n",
      "t_179 1 None continuous\n"
     ]
    },
    {
     "name": "stderr",
     "output_type": "stream",
     "text": [
      "/home/user1-asd-arch/.local/share/virtualenvs/code-b8C0A6mP/lib/python3.7/site-packages/tqdm/auto.py:21: TqdmWarning: IProgress not found. Please update jupyter and ipywidgets. See https://ipywidgets.readthedocs.io/en/stable/user_install.html\n",
      "  from .autonotebook import tqdm as notebook_tqdm\n"
     ]
    },
    {
     "name": "stdout",
     "output_type": "stream",
     "text": [
      "1 71253\n"
     ]
    }
   ],
   "source": [
    "import numpy as np\n",
    "import pandas as pd \n",
    "from stock_energy.missingprocessor import Processor\n",
    "import matplotlib.pyplot as plt \n",
    "import pickle\n",
    "\n",
    "data_path = \"../code/data/normal_train_180.csv\"\n",
    "loc=\"mitbih\"\n",
    "seq_len = 180\n",
    "df = pd.read_csv('{}'.format(data_path), sep = \",\", index_col=0)\n",
    "types = [\"continuous\" for i in range(len(df.columns))]\n",
    "\n",
    "P = Processor(types)\n",
    "# Flip the data to make chronological data\n",
    "ori_data = P.fit_transform(df)\n",
    "ori_data = np.expand_dims(ori_data, axis=-1)   \n",
    "temp_data = [seq for seq in ori_data]\n",
    "P.dim = 1\n",
    "\n",
    "from fastNLP import DataSet\n",
    "dataset = DataSet({\"seq_len\": [seq_len] * len(temp_data), \"dyn\": temp_data, \"sta\":[0]*len(temp_data)})\n",
    "dic = {\n",
    "    \"train_set\": dataset,\n",
    "    \"dynamic_processor\": P,\n",
    "    \"static_processor\": Processor([])\n",
    "}\n",
    "print(P.dim, len(temp_data))\n",
    "from utils.general import make_sure_path_exists\n",
    "make_sure_path_exists(\"./data\")\n"
   ]
  },
  {
   "cell_type": "code",
   "execution_count": 3,
   "metadata": {},
   "outputs": [
    {
     "data": {
      "text/plain": [
       "(180, 1)"
      ]
     },
     "execution_count": 3,
     "metadata": {},
     "output_type": "execute_result"
    }
   ],
   "source": [
    "temp_data[0].shape"
   ]
  },
  {
   "cell_type": "code",
   "execution_count": 12,
   "metadata": {},
   "outputs": [
    {
     "data": {
      "text/plain": [
       "_StoreAction(option_strings=['--noise-dim'], dest='noise_dim', nargs=None, const=None, default=96, type=<class 'int'>, choices=None, help='dim of WGAN noise state', metavar=None)"
      ]
     },
     "execution_count": 12,
     "metadata": {},
     "output_type": "execute_result"
    }
   ],
   "source": [
    "import argparse\n",
    "import pickle\n",
    "import collections\n",
    "import logging\n",
    "import math\n",
    "import os,sys,time\n",
    "import random\n",
    "from sys import maxsize\n",
    "import pickle\n",
    "import numpy as np\n",
    "import torch\n",
    "import torch.nn as nn\n",
    "from utils.general import init_logger, make_sure_path_exists\n",
    "sys.path.append('./mitbih/')\n",
    "\n",
    "from myaegan import AeGAN\n",
    "\n",
    "DEBUG_SCALE = 512\n",
    "# ===-----------------------------------------------------------------------===\n",
    "# Argument parsing\n",
    "# ===-----------------------------------------------------------------------===\n",
    "parser = argparse.ArgumentParser()\n",
    "parser.add_argument(\"--dataset\", default=\"mitbih\", dest=\"dataset\", help=\".pkl file to use\")                  \n",
    "parser.add_argument(\"--devi\", default=\"0\", dest=\"devi\", help=\"gpu\")\n",
    "parser.add_argument(\"--epochs\", default=1000, dest=\"epochs\", type=int,\n",
    "                    help=\"Number of full passes through training set for autoencoder\")\n",
    "parser.add_argument(\"--iterations\", default=10000, dest=\"iterations\", type=int,\n",
    "                    help=\"Number of iterations through training set for WGAN\")\n",
    "parser.add_argument(\"--d-update\", default=5, dest=\"d_update\", type=int,\n",
    "                    help=\"discriminator updates per generator update\")\n",
    "parser.add_argument(\"--log-dir\", default=\"../stock_result\", dest=\"log_dir\",\n",
    "                    help=\"Directory where to write logs / serialized models\")\n",
    "parser.add_argument(\"--task-name\", default=time.strftime(\"%Y-%m-%d-%H-%M-%S\"), dest=\"task_name\",\n",
    "                    help=\"Name for this task, use a comprehensive one\")\n",
    "parser.add_argument(\"--python-seed\", dest=\"python_seed\", type=int, default=random.randrange(maxsize),\n",
    "                    help=\"Random seed of Python and NumPy\")\n",
    "parser.add_argument(\"--debug\", dest=\"debug\", default=False, action=\"store_true\", help=\"Debug mode\")\n",
    "parser.add_argument(\"--eval-ae\", dest=\"eval_ae\", default=False, action=\"store_true\", help=\"evaluate autoencoder\")\n",
    "parser.add_argument(\"--fix-ae\", dest=\"fix_ae\", default=None, help=\"Test mode\")\n",
    "parser.add_argument(\"--fix-gan\", dest=\"fix_gan\", default=None, help=\"Test mode\")\n",
    "parser.add_argument(\"--ae-batch-size\", default=256, dest=\"ae_batch_size\", type=int,\n",
    "                    help=\"Minibatch size for autoencoder\")\n",
    "parser.add_argument(\"--gan-batch-size\", default=512, dest=\"gan_batch_size\", type=int,\n",
    "                    help=\"Minibatch size for WGAN\")\n",
    "parser.add_argument(\"--embed-dim\", default=32, dest=\"embed_dim\", type=int, help=\"dim of hidden state\")\n",
    "parser.add_argument(\"--hidden-dim\", default=32, dest=\"hidden_dim\", type=int, help=\"dim of GRU hidden state\")\n",
    "parser.add_argument(\"--layers\", default=3, dest=\"layers\", type=int, help=\"layers\")\n",
    "parser.add_argument(\"--ae-lr\", default=1e-3, dest=\"ae_lr\", type=float, help=\"autoencoder learning rate\")\n",
    "parser.add_argument(\"--weight-decay\", default=0, dest=\"weight_decay\", type=float, help=\"weight decay\")\n",
    "parser.add_argument(\"--scale\", default=1, dest=\"scale\", type=float, help=\"scale\")\n",
    "parser.add_argument(\"--dropout\", default=0.0, dest=\"dropout\", type=float,\n",
    "                    help=\"Amount of dropout(not keep rate, but drop rate) to apply to embeddings part of graph\")\n",
    "\n",
    "parser.add_argument(\"--gan-lr\", default=1e-4, dest=\"gan_lr\", type=float, help=\"WGAN learning rate\")\n",
    "parser.add_argument(\"--gan-alpha\", default=0.99, dest=\"gan_alpha\", type=float, help=\"for RMSprop\")\n",
    "parser.add_argument(\"--noise-dim\", default=96, dest=\"noise_dim\", type=int, help=\"dim of WGAN noise state\")\n",
    "\n"
   ]
  },
  {
   "cell_type": "code",
   "execution_count": 13,
   "metadata": {},
   "outputs": [],
   "source": [
    "options = parser.parse_args(\"\")\n",
    "options.fix_ae = \"../code/models/lstmae_180_embed32.pth\""
   ]
  },
  {
   "cell_type": "code",
   "execution_count": 14,
   "metadata": {},
   "outputs": [
    {
     "name": "stderr",
     "output_type": "stream",
     "text": [
      "/home/user1-asd-arch/.local/share/virtualenvs/code-b8C0A6mP/lib/python3.7/site-packages/ipykernel_launcher.py --f=/home/user1-asd-arch/.local/share/jupyter/runtime/kernel-v2-1882Wd0cOEpABJgx.json\n",
      "/home/user1-asd-arch/.local/share/virtualenvs/code-b8C0A6mP/lib/python3.7/site-packages/ipykernel_launcher.py --f=/home/user1-asd-arch/.local/share/jupyter/runtime/kernel-v2-1882Wd0cOEpABJgx.json\n",
      "\n",
      "\n",
      "Namespace(ae_batch_size=256, ae_lr=0.001, d_update=5, dataset='mitbih', debug=False, devi='0', dropout=0.0, embed_dim=32, epochs=1000, eval_ae=False, fix_ae='../code/models/lstmae_180_embed32.pth', fix_gan=None, gan_alpha=0.99, gan_batch_size=512, gan_lr=0.0001, hidden_dim=32, iterations=10000, layers=3, log_dir='../stock_result', noise_dim=96, python_seed=7647711674779807016, scale=1, task_name='2024-01-16-23-34-53', weight_decay=0)\n",
      "Namespace(ae_batch_size=256, ae_lr=0.001, d_update=5, dataset='mitbih', debug=False, devi='0', dropout=0.0, embed_dim=32, epochs=1000, eval_ae=False, fix_ae='../code/models/lstmae_180_embed32.pth', fix_gan=None, gan_alpha=0.99, gan_batch_size=512, gan_lr=0.0001, hidden_dim=32, iterations=10000, layers=3, log_dir='../stock_result', noise_dim=96, python_seed=7647711674779807016, scale=1, task_name='2024-01-16-23-34-53', weight_decay=0)\n",
      "Python random seed: 7647711674779807016\n",
      "Python random seed: 7647711674779807016\n",
      "load: ../code/models/lstmae_180_embed32.pth\n",
      "load: ../code/models/lstmae_180_embed32.pth\n"
     ]
    },
    {
     "name": "stdout",
     "output_type": "stream",
     "text": [
      "dict_keys(['dataset', 'devi', 'epochs', 'iterations', 'd_update', 'log_dir', 'task_name', 'python_seed', 'debug', 'eval_ae', 'fix_ae', 'fix_gan', 'ae_batch_size', 'gan_batch_size', 'embed_dim', 'hidden_dim', 'layers', 'ae_lr', 'weight_decay', 'scale', 'dropout', 'gan_lr', 'gan_alpha', 'noise_dim', 'static_processor', 'dynamic_processor', 'root_dir', 'logger', 'device'])\n",
      "------------------------------\n",
      "Initialising Autoencoder with:\n",
      "RecurrentAutoencoder(\n",
      "  (encoder): Encoder(\n",
      "    (rnn1): LSTM(1, 64, batch_first=True)\n",
      "    (rnn2): LSTM(64, 32, batch_first=True)\n",
      "  )\n",
      "  (decoder): Decoder(\n",
      "    (rnn1): LSTM(32, 32, batch_first=True)\n",
      "    (rnn2): LSTM(32, 64, batch_first=True)\n",
      "    (output_layer): Linear(in_features=64, out_features=1, bias=True)\n",
      "  )\n",
      ")\n",
      "Training on cuda\n",
      "------------------------------\n",
      "loading AE model from models/../code/models/lstmae_180_embed32.pth\n"
     ]
    }
   ],
   "source": [
    "\n",
    "task_name = options.task_name\n",
    "root_dir = \"{}/{}\".format(options.log_dir, task_name)\n",
    "make_sure_path_exists(root_dir)\n",
    "\n",
    "devices=[int(x) for x in options.devi]\n",
    "device = torch.device(\"cuda\")  \n",
    "\n",
    "# ===-----------------------------------------------------------------------===\n",
    "# Set up logging\n",
    "# ===-----------------------------------------------------------------------===\n",
    "logger = init_logger(root_dir)\n",
    "\n",
    "# ===-----------------------------------------------------------------------===\n",
    "# Log some stuff about this run\n",
    "# ===-----------------------------------------------------------------------===\n",
    "logger.info(' '.join(sys.argv))\n",
    "logger.info('')\n",
    "logger.info(options)\n",
    "\n",
    "if options.debug:\n",
    "    print(\"DEBUG MODE\")\n",
    "    options.epochs=11\n",
    "    options.iterations=1\n",
    "\n",
    "random.seed(options.python_seed)\n",
    "np.random.seed(options.python_seed % (2 ** 32 - 1))\n",
    "logger.info('Python random seed: {}'.format(options.python_seed))\n",
    "\n",
    "# ===-----------------------------------------------------------------------===\n",
    "# Read in dataset\n",
    "# ===-----------------------------------------------------------------------===\n",
    "dataset = dic\n",
    "train_set=dataset[\"train_set\"]\n",
    "dynamic_processor=dataset[\"dynamic_processor\"]\n",
    "static_processor=dataset[\"static_processor\"]\n",
    "train_set.set_input(\"sta\",\"dyn\",\"seq_len\")\n",
    "                    \n",
    "if options.debug:\n",
    "    train_set = train_set[0:DEBUG_SCALE]\n",
    "    \n",
    "# ===-----------------------------------------------------------------------===\n",
    "# Build model and trainer\n",
    "# ===-----------------------------------------------------------------------===\n",
    "\n",
    "params=vars(options)\n",
    "params[\"static_processor\"]=static_processor\n",
    "params[\"dynamic_processor\"]=dynamic_processor\n",
    "params[\"root_dir\"]=root_dir\n",
    "params[\"logger\"]=logger\n",
    "params[\"device\"]=device\n",
    "print(params.keys())\n",
    "\n",
    "syn = AeGAN(params)\n",
    "\n",
    "if options.eval_ae:\n",
    "    logger.info(\"\\n\")\n",
    "    logger.info(\"evaluate ae!\")\n",
    "    syn.load_ae(options.fix_ae)\n",
    "    res, h = syn.eval_ae(train_set)\n",
    "    with open(\"{}/data\".format(root_dir), \"wb\") as f:\n",
    "        pickle.dump(res, f)\n",
    "    with open(\"{}/hidden\".format(root_dir), \"wb\") as f:\n",
    "        pickle.dump(h, f)\n",
    "    exit()\n",
    "    \n",
    "if options.fix_ae is not None:\n",
    "    syn.load_ae(options.fix_ae)\n",
    "else:\n",
    "    syn.train_ae(train_set, options.epochs)\n",
    "    res, h = syn.eval_ae(train_set)\n",
    "    #with open(\"{}/hidden\".format(root_dir), \"wb\") as f:\n",
    "    #    pickle.dump(h, f)"
   ]
  },
  {
   "cell_type": "code",
   "execution_count": 7,
   "metadata": {},
   "outputs": [
    {
     "data": {
      "text/plain": [
       "[<matplotlib.lines.Line2D at 0x7b1555792dd0>]"
      ]
     },
     "execution_count": 7,
     "metadata": {},
     "output_type": "execute_result"
    },
    {
     "data": {
      "image/png": "[encoded data removed]",
      "text/plain": [
       "<Figure size 640x480 with 1 Axes>"
      ]
     },
     "metadata": {},
     "output_type": "display_data"
    }
   ],
   "source": [
    "plt.plot(train_set[\"dyn\"][1])"
   ]
  },
  {
   "cell_type": "code",
   "execution_count": 8,
   "metadata": {},
   "outputs": [
    {
     "data": {
      "text/plain": [
       "[<matplotlib.lines.Line2D at 0x7b15556eec50>]"
      ]
     },
     "execution_count": 8,
     "metadata": {},
     "output_type": "execute_result"
    },
    {
     "data": {
      "image/png": "[encoded data removed]",
      "text/plain": [
       "<Figure size 640x480 with 1 Axes>"
      ]
     },
     "metadata": {},
     "output_type": "display_data"
    }
   ],
   "source": [
    "plt.plot(syn.ae.model(torch.Tensor(train_set[\"dyn\"][1]).to(\"cuda\")).detach().cpu().squeeze())"
   ]
  },
  {
   "cell_type": "code",
   "execution_count": 15,
   "metadata": {},
   "outputs": [
    {
     "name": "stderr",
     "output_type": "stream",
     "text": [
      "[Iteration 0/10000] [0.085605] [D loss: -0.074341] [G loss: 0.202823] [8.359537]\n",
      "[Iteration 0/10000] [0.085605] [D loss: -0.074341] [G loss: 0.202823] [8.359537]\n",
      "[Iteration 100/10000] [0.073102] [D loss: 0.709109] [G loss: -0.548710] [3.071388]\n",
      "[Iteration 100/10000] [0.073102] [D loss: 0.709109] [G loss: -0.548710] [3.071388]\n",
      "[Iteration 200/10000] [0.067348] [D loss: 0.220727] [G loss: 0.072553] [0.296214]\n",
      "[Iteration 200/10000] [0.067348] [D loss: 0.220727] [G loss: 0.072553] [0.296214]\n",
      "[Iteration 300/10000] [0.068099] [D loss: -0.787522] [G loss: 1.134199] [0.055685]\n",
      "[Iteration 300/10000] [0.068099] [D loss: -0.787522] [G loss: 1.134199] [0.055685]\n",
      "[Iteration 400/10000] [0.070595] [D loss: -1.526298] [G loss: 1.811443] [0.049646]\n",
      "[Iteration 400/10000] [0.070595] [D loss: -1.526298] [G loss: 1.811443] [0.049646]\n",
      "[Iteration 500/10000] [0.066570] [D loss: -0.749734] [G loss: 0.969028] [0.076888]\n",
      "[Iteration 500/10000] [0.066570] [D loss: -0.749734] [G loss: 0.969028] [0.076888]\n",
      "[Iteration 600/10000] [0.073101] [D loss: -0.557378] [G loss: 0.855613] [0.015741]\n",
      "[Iteration 600/10000] [0.073101] [D loss: -0.557378] [G loss: 0.855613] [0.015741]\n",
      "[Iteration 700/10000] [0.071950] [D loss: -0.462767] [G loss: 0.622512] [0.047748]\n",
      "[Iteration 700/10000] [0.071950] [D loss: -0.462767] [G loss: 0.622512] [0.047748]\n",
      "[Iteration 800/10000] [0.073170] [D loss: -0.430494] [G loss: 0.605500] [0.007572]\n",
      "[Iteration 800/10000] [0.073170] [D loss: -0.430494] [G loss: 0.605500] [0.007572]\n",
      "[Iteration 900/10000] [0.071576] [D loss: -0.385320] [G loss: 0.590620] [0.003334]\n",
      "[Iteration 900/10000] [0.071576] [D loss: -0.385320] [G loss: 0.590620] [0.003334]\n",
      "[Iteration 1000/10000] [0.069188] [D loss: -0.362857] [G loss: 0.591555] [0.003797]\n",
      "[Iteration 1000/10000] [0.069188] [D loss: -0.362857] [G loss: 0.591555] [0.003797]\n",
      "[Iteration 1100/10000] [0.066180] [D loss: -0.352866] [G loss: 0.623375] [0.007904]\n",
      "[Iteration 1100/10000] [0.066180] [D loss: -0.352866] [G loss: 0.623375] [0.007904]\n",
      "[Iteration 1200/10000] [0.065634] [D loss: -0.351603] [G loss: 0.700862] [0.004871]\n",
      "[Iteration 1200/10000] [0.065634] [D loss: -0.351603] [G loss: 0.700862] [0.004871]\n",
      "[Iteration 1300/10000] [0.066188] [D loss: -0.352030] [G loss: 0.747176] [0.005320]\n",
      "[Iteration 1300/10000] [0.066188] [D loss: -0.352030] [G loss: 0.747176] [0.005320]\n",
      "[Iteration 1400/10000] [0.065399] [D loss: -0.349339] [G loss: 0.807959] [0.005058]\n",
      "[Iteration 1400/10000] [0.065399] [D loss: -0.349339] [G loss: 0.807959] [0.005058]\n",
      "[Iteration 1500/10000] [0.066560] [D loss: -0.334515] [G loss: 0.793000] [0.004076]\n",
      "[Iteration 1500/10000] [0.066560] [D loss: -0.334515] [G loss: 0.793000] [0.004076]\n",
      "[Iteration 1600/10000] [0.067153] [D loss: -0.328169] [G loss: 0.744480] [0.003283]\n",
      "[Iteration 1600/10000] [0.067153] [D loss: -0.328169] [G loss: 0.744480] [0.003283]\n",
      "[Iteration 1700/10000] [0.069629] [D loss: -0.312809] [G loss: 0.768377] [0.003765]\n",
      "[Iteration 1700/10000] [0.069629] [D loss: -0.312809] [G loss: 0.768377] [0.003765]\n",
      "[Iteration 1800/10000] [0.066180] [D loss: -0.296412] [G loss: 0.778461] [0.003741]\n",
      "[Iteration 1800/10000] [0.066180] [D loss: -0.296412] [G loss: 0.778461] [0.003741]\n",
      "[Iteration 1900/10000] [0.066331] [D loss: -0.270170] [G loss: 0.775164] [0.003236]\n",
      "[Iteration 1900/10000] [0.066331] [D loss: -0.270170] [G loss: 0.775164] [0.003236]\n",
      "[Iteration 2000/10000] [0.065825] [D loss: -0.235645] [G loss: 0.735627] [0.004051]\n",
      "[Iteration 2000/10000] [0.065825] [D loss: -0.235645] [G loss: 0.735627] [0.004051]\n",
      "[Iteration 2100/10000] [0.066352] [D loss: 0.183870] [G loss: -0.038660] [0.067060]\n",
      "[Iteration 2100/10000] [0.066352] [D loss: 0.183870] [G loss: -0.038660] [0.067060]\n",
      "[Iteration 2200/10000] [0.066620] [D loss: -0.086061] [G loss: -0.005407] [0.310494]\n",
      "[Iteration 2200/10000] [0.066620] [D loss: -0.086061] [G loss: -0.005407] [0.310494]\n",
      "[Iteration 2300/10000] [0.067108] [D loss: -0.472749] [G loss: 0.310074] [0.041545]\n",
      "[Iteration 2300/10000] [0.067108] [D loss: -0.472749] [G loss: 0.310074] [0.041545]\n",
      "[Iteration 2400/10000] [0.070091] [D loss: 0.008702] [G loss: -0.234868] [0.040844]\n",
      "[Iteration 2400/10000] [0.070091] [D loss: 0.008702] [G loss: -0.234868] [0.040844]\n",
      "[Iteration 2500/10000] [0.070253] [D loss: -0.146089] [G loss: 0.034561] [0.019309]\n",
      "[Iteration 2500/10000] [0.070253] [D loss: -0.146089] [G loss: 0.034561] [0.019309]\n",
      "[Iteration 2600/10000] [0.065159] [D loss: -0.129007] [G loss: 0.261389] [0.017423]\n",
      "[Iteration 2600/10000] [0.065159] [D loss: -0.129007] [G loss: 0.261389] [0.017423]\n",
      "[Iteration 2700/10000] [0.066916] [D loss: -0.098896] [G loss: 0.266985] [0.017920]\n",
      "[Iteration 2700/10000] [0.066916] [D loss: -0.098896] [G loss: 0.266985] [0.017920]\n",
      "[Iteration 2800/10000] [0.070061] [D loss: -0.147953] [G loss: 0.245288] [0.010623]\n",
      "[Iteration 2800/10000] [0.070061] [D loss: -0.147953] [G loss: 0.245288] [0.010623]\n",
      "[Iteration 2900/10000] [0.064452] [D loss: -0.148501] [G loss: 0.312589] [0.007897]\n",
      "[Iteration 2900/10000] [0.064452] [D loss: -0.148501] [G loss: 0.312589] [0.007897]\n",
      "[Iteration 3000/10000] [0.065140] [D loss: -0.153812] [G loss: 0.256370] [0.012826]\n",
      "[Iteration 3000/10000] [0.065140] [D loss: -0.153812] [G loss: 0.256370] [0.012826]\n",
      "[Iteration 3100/10000] [0.065127] [D loss: -0.152471] [G loss: 0.303676] [0.007621]\n",
      "[Iteration 3100/10000] [0.065127] [D loss: -0.152471] [G loss: 0.303676] [0.007621]\n",
      "[Iteration 3200/10000] [0.065839] [D loss: -0.134966] [G loss: 0.403688] [0.006560]\n",
      "[Iteration 3200/10000] [0.065839] [D loss: -0.134966] [G loss: 0.403688] [0.006560]\n",
      "[Iteration 3300/10000] [0.065176] [D loss: -0.145797] [G loss: 0.346927] [0.009091]\n",
      "[Iteration 3300/10000] [0.065176] [D loss: -0.145797] [G loss: 0.346927] [0.009091]\n",
      "[Iteration 3400/10000] [0.065300] [D loss: -0.168237] [G loss: 0.300983] [0.005288]\n",
      "[Iteration 3400/10000] [0.065300] [D loss: -0.168237] [G loss: 0.300983] [0.005288]\n",
      "[Iteration 3500/10000] [0.065692] [D loss: -0.113403] [G loss: 0.386795] [0.014434]\n",
      "[Iteration 3500/10000] [0.065692] [D loss: -0.113403] [G loss: 0.386795] [0.014434]\n",
      "[Iteration 3600/10000] [0.064914] [D loss: -0.057548] [G loss: 0.447321] [0.009652]\n",
      "[Iteration 3600/10000] [0.064914] [D loss: -0.057548] [G loss: 0.447321] [0.009652]\n",
      "[Iteration 3700/10000] [0.069349] [D loss: -0.133053] [G loss: 0.477988] [0.005235]\n",
      "[Iteration 3700/10000] [0.069349] [D loss: -0.133053] [G loss: 0.477988] [0.005235]\n",
      "[Iteration 3800/10000] [0.065281] [D loss: -0.129446] [G loss: 0.601800] [0.008505]\n",
      "[Iteration 3800/10000] [0.065281] [D loss: -0.129446] [G loss: 0.601800] [0.008505]\n",
      "[Iteration 3900/10000] [0.066707] [D loss: -0.153714] [G loss: 0.544703] [0.004343]\n",
      "[Iteration 3900/10000] [0.066707] [D loss: -0.153714] [G loss: 0.544703] [0.004343]\n",
      "[Iteration 4000/10000] [0.065027] [D loss: -0.138997] [G loss: 0.473306] [0.007844]\n",
      "[Iteration 4000/10000] [0.065027] [D loss: -0.138997] [G loss: 0.473306] [0.007844]\n",
      "[Iteration 4100/10000] [0.065144] [D loss: -0.142127] [G loss: 0.488119] [0.007914]\n",
      "[Iteration 4100/10000] [0.065144] [D loss: -0.142127] [G loss: 0.488119] [0.007914]\n",
      "[Iteration 4200/10000] [0.065966] [D loss: -0.141827] [G loss: 0.455091] [0.010012]\n",
      "[Iteration 4200/10000] [0.065966] [D loss: -0.141827] [G loss: 0.455091] [0.010012]\n",
      "[Iteration 4300/10000] [0.065200] [D loss: -0.146709] [G loss: 0.402244] [0.007869]\n",
      "[Iteration 4300/10000] [0.065200] [D loss: -0.146709] [G loss: 0.402244] [0.007869]\n",
      "[Iteration 4400/10000] [0.064676] [D loss: -0.123618] [G loss: 0.459149] [0.010548]\n",
      "[Iteration 4400/10000] [0.064676] [D loss: -0.123618] [G loss: 0.459149] [0.010548]\n",
      "[Iteration 4500/10000] [0.066150] [D loss: -0.129132] [G loss: 0.422148] [0.008613]\n",
      "[Iteration 4500/10000] [0.066150] [D loss: -0.129132] [G loss: 0.422148] [0.008613]\n",
      "[Iteration 4600/10000] [0.067837] [D loss: -0.164899] [G loss: 0.346934] [0.020409]\n",
      "[Iteration 4600/10000] [0.067837] [D loss: -0.164899] [G loss: 0.346934] [0.020409]\n",
      "[Iteration 4700/10000] [0.065580] [D loss: -0.158115] [G loss: 0.393939] [0.009271]\n",
      "[Iteration 4700/10000] [0.065580] [D loss: -0.158115] [G loss: 0.393939] [0.009271]\n",
      "[Iteration 4800/10000] [0.068125] [D loss: -0.167767] [G loss: 0.440634] [0.007601]\n",
      "[Iteration 4800/10000] [0.068125] [D loss: -0.167767] [G loss: 0.440634] [0.007601]\n",
      "[Iteration 4900/10000] [0.071007] [D loss: -0.168586] [G loss: 0.569521] [0.011878]\n",
      "[Iteration 4900/10000] [0.071007] [D loss: -0.168586] [G loss: 0.569521] [0.011878]\n",
      "[Iteration 5000/10000] [0.071227] [D loss: -0.186607] [G loss: 0.681833] [0.007564]\n",
      "[Iteration 5000/10000] [0.071227] [D loss: -0.186607] [G loss: 0.681833] [0.007564]\n",
      "[Iteration 5100/10000] [0.067895] [D loss: -0.151000] [G loss: 0.572557] [0.006059]\n",
      "[Iteration 5100/10000] [0.067895] [D loss: -0.151000] [G loss: 0.572557] [0.006059]\n",
      "[Iteration 5200/10000] [0.065707] [D loss: -0.169554] [G loss: 0.482142] [0.008203]\n",
      "[Iteration 5200/10000] [0.065707] [D loss: -0.169554] [G loss: 0.482142] [0.008203]\n",
      "[Iteration 5300/10000] [0.161352] [D loss: -0.172749] [G loss: 0.463484] [0.005642]\n",
      "[Iteration 5300/10000] [0.161352] [D loss: -0.172749] [G loss: 0.463484] [0.005642]\n",
      "[Iteration 5400/10000] [0.067116] [D loss: -0.162439] [G loss: 0.430648] [0.005189]\n",
      "[Iteration 5400/10000] [0.067116] [D loss: -0.162439] [G loss: 0.430648] [0.005189]\n",
      "[Iteration 5500/10000] [0.066940] [D loss: -0.162447] [G loss: 0.406051] [0.003233]\n",
      "[Iteration 5500/10000] [0.066940] [D loss: -0.162447] [G loss: 0.406051] [0.003233]\n",
      "[Iteration 5600/10000] [0.068613] [D loss: -0.129758] [G loss: 0.529581] [0.011592]\n",
      "[Iteration 5600/10000] [0.068613] [D loss: -0.129758] [G loss: 0.529581] [0.011592]\n",
      "[Iteration 5700/10000] [0.163976] [D loss: -0.134135] [G loss: 0.411809] [0.007276]\n",
      "[Iteration 5700/10000] [0.163976] [D loss: -0.134135] [G loss: 0.411809] [0.007276]\n",
      "[Iteration 5800/10000] [0.069625] [D loss: -0.166483] [G loss: 0.472763] [0.004954]\n",
      "[Iteration 5800/10000] [0.069625] [D loss: -0.166483] [G loss: 0.472763] [0.004954]\n",
      "[Iteration 5900/10000] [0.068403] [D loss: -0.145599] [G loss: 0.267104] [0.007201]\n",
      "[Iteration 5900/10000] [0.068403] [D loss: -0.145599] [G loss: 0.267104] [0.007201]\n",
      "[Iteration 6000/10000] [0.068420] [D loss: -0.139554] [G loss: 0.210031] [0.007708]\n",
      "[Iteration 6000/10000] [0.068420] [D loss: -0.139554] [G loss: 0.210031] [0.007708]\n",
      "[Iteration 6100/10000] [0.070875] [D loss: -0.143925] [G loss: 0.319414] [0.008295]\n",
      "[Iteration 6100/10000] [0.070875] [D loss: -0.143925] [G loss: 0.319414] [0.008295]\n",
      "[Iteration 6200/10000] [0.067593] [D loss: -0.158431] [G loss: 0.295871] [0.006716]\n",
      "[Iteration 6200/10000] [0.067593] [D loss: -0.158431] [G loss: 0.295871] [0.006716]\n",
      "[Iteration 6300/10000] [0.067712] [D loss: -0.113639] [G loss: 0.201357] [0.006472]\n",
      "[Iteration 6300/10000] [0.067712] [D loss: -0.113639] [G loss: 0.201357] [0.006472]\n",
      "[Iteration 6400/10000] [0.070138] [D loss: -0.143106] [G loss: 0.091322] [0.004236]\n",
      "[Iteration 6400/10000] [0.070138] [D loss: -0.143106] [G loss: 0.091322] [0.004236]\n",
      "[Iteration 6500/10000] [0.067357] [D loss: -0.139591] [G loss: 0.175242] [0.006339]\n",
      "[Iteration 6500/10000] [0.067357] [D loss: -0.139591] [G loss: 0.175242] [0.006339]\n",
      "[Iteration 6600/10000] [0.071821] [D loss: -0.136687] [G loss: 0.063683] [0.008618]\n",
      "[Iteration 6600/10000] [0.071821] [D loss: -0.136687] [G loss: 0.063683] [0.008618]\n",
      "[Iteration 6700/10000] [0.072759] [D loss: -0.168736] [G loss: 0.256853] [0.012299]\n",
      "[Iteration 6700/10000] [0.072759] [D loss: -0.168736] [G loss: 0.256853] [0.012299]\n",
      "[Iteration 6800/10000] [0.073649] [D loss: -0.156258] [G loss: 0.096781] [0.007175]\n",
      "[Iteration 6800/10000] [0.073649] [D loss: -0.156258] [G loss: 0.096781] [0.007175]\n",
      "[Iteration 6900/10000] [0.070363] [D loss: -0.171921] [G loss: 0.122601] [0.006539]\n",
      "[Iteration 6900/10000] [0.070363] [D loss: -0.171921] [G loss: 0.122601] [0.006539]\n",
      "[Iteration 7000/10000] [0.067245] [D loss: -0.150232] [G loss: 0.112013] [0.011338]\n",
      "[Iteration 7000/10000] [0.067245] [D loss: -0.150232] [G loss: 0.112013] [0.011338]\n",
      "[Iteration 7100/10000] [0.069742] [D loss: -0.134309] [G loss: 0.156027] [0.008627]\n",
      "[Iteration 7100/10000] [0.069742] [D loss: -0.134309] [G loss: 0.156027] [0.008627]\n",
      "[Iteration 7200/10000] [0.065964] [D loss: -0.151105] [G loss: 0.158388] [0.005926]\n",
      "[Iteration 7200/10000] [0.065964] [D loss: -0.151105] [G loss: 0.158388] [0.005926]\n",
      "[Iteration 7300/10000] [0.066761] [D loss: -0.154803] [G loss: 0.175014] [0.006759]\n",
      "[Iteration 7300/10000] [0.066761] [D loss: -0.154803] [G loss: 0.175014] [0.006759]\n",
      "[Iteration 7400/10000] [0.070639] [D loss: -0.134000] [G loss: 0.165583] [0.008465]\n",
      "[Iteration 7400/10000] [0.070639] [D loss: -0.134000] [G loss: 0.165583] [0.008465]\n",
      "[Iteration 7500/10000] [0.070317] [D loss: -0.135699] [G loss: 0.140679] [0.008115]\n",
      "[Iteration 7500/10000] [0.070317] [D loss: -0.135699] [G loss: 0.140679] [0.008115]\n",
      "[Iteration 7600/10000] [0.071570] [D loss: -0.136405] [G loss: 0.178833] [0.007602]\n",
      "[Iteration 7600/10000] [0.071570] [D loss: -0.136405] [G loss: 0.178833] [0.007602]\n",
      "[Iteration 7700/10000] [0.068567] [D loss: -0.151889] [G loss: 0.146973] [0.005201]\n",
      "[Iteration 7700/10000] [0.068567] [D loss: -0.151889] [G loss: 0.146973] [0.005201]\n",
      "[Iteration 7800/10000] [0.065891] [D loss: -0.115151] [G loss: 0.132617] [0.007638]\n",
      "[Iteration 7800/10000] [0.065891] [D loss: -0.115151] [G loss: 0.132617] [0.007638]\n",
      "[Iteration 7900/10000] [0.069149] [D loss: -0.121552] [G loss: 0.133055] [0.006678]\n",
      "[Iteration 7900/10000] [0.069149] [D loss: -0.121552] [G loss: 0.133055] [0.006678]\n",
      "[Iteration 8000/10000] [0.071096] [D loss: -0.121362] [G loss: 0.178735] [0.004733]\n",
      "[Iteration 8000/10000] [0.071096] [D loss: -0.121362] [G loss: 0.178735] [0.004733]\n",
      "[Iteration 8100/10000] [0.072906] [D loss: -0.121550] [G loss: 0.213535] [0.004633]\n",
      "[Iteration 8100/10000] [0.072906] [D loss: -0.121550] [G loss: 0.213535] [0.004633]\n",
      "[Iteration 8200/10000] [0.069708] [D loss: -0.126349] [G loss: 0.258977] [0.003086]\n",
      "[Iteration 8200/10000] [0.069708] [D loss: -0.126349] [G loss: 0.258977] [0.003086]\n",
      "[Iteration 8300/10000] [0.070572] [D loss: -0.152152] [G loss: -0.074027] [0.050932]\n",
      "[Iteration 8300/10000] [0.070572] [D loss: -0.152152] [G loss: -0.074027] [0.050932]\n",
      "[Iteration 8400/10000] [0.068467] [D loss: -0.130258] [G loss: 0.042797] [0.013140]\n",
      "[Iteration 8400/10000] [0.068467] [D loss: -0.130258] [G loss: 0.042797] [0.013140]\n",
      "[Iteration 8500/10000] [0.072952] [D loss: -0.140173] [G loss: 0.075203] [0.008435]\n",
      "[Iteration 8500/10000] [0.072952] [D loss: -0.140173] [G loss: 0.075203] [0.008435]\n",
      "[Iteration 8600/10000] [0.070597] [D loss: -0.123210] [G loss: 0.081227] [0.010382]\n",
      "[Iteration 8600/10000] [0.070597] [D loss: -0.123210] [G loss: 0.081227] [0.010382]\n",
      "[Iteration 8700/10000] [0.066393] [D loss: -0.116949] [G loss: 0.075728] [0.011547]\n",
      "[Iteration 8700/10000] [0.066393] [D loss: -0.116949] [G loss: 0.075728] [0.011547]\n",
      "[Iteration 8800/10000] [0.066072] [D loss: -0.113766] [G loss: 0.031085] [0.009745]\n",
      "[Iteration 8800/10000] [0.066072] [D loss: -0.113766] [G loss: 0.031085] [0.009745]\n",
      "[Iteration 8900/10000] [0.071380] [D loss: -0.122512] [G loss: 0.090510] [0.006855]\n",
      "[Iteration 8900/10000] [0.071380] [D loss: -0.122512] [G loss: 0.090510] [0.006855]\n",
      "[Iteration 9000/10000] [0.067461] [D loss: -0.111156] [G loss: 0.070446] [0.005347]\n",
      "[Iteration 9000/10000] [0.067461] [D loss: -0.111156] [G loss: 0.070446] [0.005347]\n",
      "[Iteration 9100/10000] [0.068651] [D loss: -0.112342] [G loss: 0.099802] [0.005027]\n",
      "[Iteration 9100/10000] [0.068651] [D loss: -0.112342] [G loss: 0.099802] [0.005027]\n",
      "[Iteration 9200/10000] [0.073415] [D loss: -0.111995] [G loss: 0.108554] [0.006297]\n",
      "[Iteration 9200/10000] [0.073415] [D loss: -0.111995] [G loss: 0.108554] [0.006297]\n",
      "[Iteration 9300/10000] [0.072513] [D loss: -0.112097] [G loss: 0.143512] [0.004995]\n",
      "[Iteration 9300/10000] [0.072513] [D loss: -0.112097] [G loss: 0.143512] [0.004995]\n",
      "[Iteration 9400/10000] [0.067435] [D loss: -0.111588] [G loss: 0.147377] [0.005568]\n",
      "[Iteration 9400/10000] [0.067435] [D loss: -0.111588] [G loss: 0.147377] [0.005568]\n",
      "[Iteration 9500/10000] [0.068374] [D loss: -0.095591] [G loss: -0.029825] [0.011577]\n",
      "[Iteration 9500/10000] [0.068374] [D loss: -0.095591] [G loss: -0.029825] [0.011577]\n",
      "[Iteration 9600/10000] [0.070793] [D loss: -0.105829] [G loss: -0.106059] [0.007913]\n",
      "[Iteration 9600/10000] [0.070793] [D loss: -0.105829] [G loss: -0.106059] [0.007913]\n",
      "[Iteration 9700/10000] [0.072115] [D loss: -0.101082] [G loss: -0.099450] [0.005107]\n",
      "[Iteration 9700/10000] [0.072115] [D loss: -0.101082] [G loss: -0.099450] [0.005107]\n",
      "[Iteration 9800/10000] [0.069359] [D loss: -0.107224] [G loss: -0.115345] [0.008745]\n",
      "[Iteration 9800/10000] [0.069359] [D loss: -0.107224] [G loss: -0.115345] [0.008745]\n",
      "[Iteration 9900/10000] [0.072855] [D loss: -0.097586] [G loss: -0.141148] [0.004722]\n",
      "[Iteration 9900/10000] [0.072855] [D loss: -0.097586] [G loss: -0.141148] [0.004722]\n",
      "\n",
      "\n",
      "\n",
      "\n",
      "Generating data!\n",
      "Generating data!\n"
     ]
    },
    {
     "name": "stdout",
     "output_type": "stream",
     "text": [
      "[0.34572724 0.34598303 0.3460082  0.3463723  0.34618077 0.35207504\n",
      " 0.3581236  0.3598302  0.36340708 0.3684076  0.37464756 0.3771099\n",
      " 0.38266975 0.38866392 0.39239237 0.3932565  0.3911071  0.38664427\n",
      " 0.38129476 0.37594053 0.37114984 0.36760604 0.36762935 0.369508\n",
      " 0.37186182 0.3740228  0.37564868 0.3766109  0.38959655 0.39468765\n",
      " 0.40204173 0.4129875  0.42822188 0.44785586 0.4510298  0.44086242\n",
      " 0.42436767 0.4064499  0.3904683  0.37969717 0.36889178 0.35768047\n",
      " 0.34976718 0.3480617  0.35089165 0.35571486 0.3585941  0.3584854\n",
      " 0.35651818 0.35372072 0.34791094 0.34317043 0.33862072 0.33478603\n",
      " 0.33170703 0.32890108 0.33115026 0.33331534 0.33578974 0.33861783\n",
      " 0.34119454 0.34256285 0.34361184 0.34439301 0.3457407  0.34786862\n",
      " 0.3504739  0.35305533 0.3551586  0.35707837 0.35894623 0.36101836\n",
      " 0.36308298 0.3658209  0.36848998 0.3709414  0.3733824  0.375741\n",
      " 0.38949308 0.41769528 0.45897084 0.5015569  0.5466253  0.58368015\n",
      " 0.60380673 0.61843896 0.6291052  0.6353469  0.6374762  0.63507974\n",
      " 0.62835336 0.6237494  0.61580074 0.6044694  0.59523284 0.570192\n",
      " 0.54168093 0.5155333  0.49246094 0.4669453  0.43895504 0.406651\n",
      " 0.3752228  0.34738916 0.32512844 0.3119736  0.30839115 0.3097815\n",
      " 0.3113459  0.31255174 0.31402925 0.3156658  0.31664082 0.3180217\n",
      " 0.31951857 0.3206819  0.3214269  0.32164443 0.3233963  0.32451075\n",
      " 0.32559454 0.32681027 0.32826847 0.32916334 0.3305306  0.33133703\n",
      " 0.33181927 0.3325863  0.33363628 0.33637172 0.34003258 0.34492323\n",
      " 0.35062844 0.35724968 0.36329287 0.36484522 0.3663416  0.36867103\n",
      " 0.37083825 0.37229925 0.3739499  0.37487233 0.37490994 0.37447172\n",
      " 0.37404132 0.37388185 0.37608123 0.37910342 0.3829167  0.38697708\n",
      " 0.39114287 0.39076814 0.389634   0.3854107  0.38133356 0.37746602\n",
      " 0.37391472 0.3709627  0.36864278 0.36452508 0.3616331  0.36281276\n",
      " 0.36686784 0.3718398  0.37470758 0.37678885 0.38064426 0.3867179\n",
      " 0.39295086 0.397695   0.4028045  0.40617752 0.4095394  0.41393438\n",
      " 0.41727215 0.41997606 0.42157555 0.4216335  0.4202351  0.41760746] (180,)\n"
     ]
    }
   ],
   "source": [
    "\n",
    "if options.fix_gan is not None:\n",
    "    syn.load_generator(options.fix_gan)\n",
    "else:\n",
    "    syn.train_gan(\"../code/data/normal_train_180.csv\", options.iterations, options.d_update)\n",
    "\n",
    "\n"
   ]
  },
  {
   "cell_type": "code",
   "execution_count": 20,
   "metadata": {},
   "outputs": [
    {
     "name": "stderr",
     "output_type": "stream",
     "text": [
      "Generating data!\n",
      "Generating data!\n"
     ]
    },
    {
     "name": "stdout",
     "output_type": "stream",
     "text": [
      "[0.51132756 0.5116775  0.51186025 0.51202875 0.5129524  0.51589817\n",
      " 0.5187934  0.52124316 0.5233901  0.5255449  0.5278773  0.5284376\n",
      " 0.5294988  0.5302013  0.5308263  0.53106475 0.5308784  0.53061056\n",
      " 0.53055656 0.5305101  0.53026193 0.52961403 0.52703536 0.5248623\n",
      " 0.52202904 0.5191281  0.5163308  0.513663   0.5148776  0.5151198\n",
      " 0.51622707 0.5171004  0.51810795 0.5183536  0.51876915 0.5196542\n",
      " 0.5205437  0.5201753  0.5190153  0.51816773 0.5182355  0.51889694\n",
      " 0.5201601  0.5225831  0.5263469  0.53196216 0.5365858  0.5401715\n",
      " 0.54278076 0.5442844  0.5445062  0.5441425  0.5430156  0.5418199\n",
      " 0.5408504  0.54026616 0.54045576 0.5408473  0.54153824 0.54208773\n",
      " 0.54245687 0.54267293 0.54286295 0.5432305  0.5438637  0.54461855\n",
      " 0.5453155  0.54595023 0.54642385 0.54687774 0.54731315 0.54777074\n",
      " 0.5482598  0.54781425 0.5477375  0.5469421  0.54596674 0.5447326\n",
      " 0.54459274 0.5439314  0.54424465 0.54476714 0.54543626 0.5459434\n",
      " 0.5544884  0.5659362  0.60131335 0.64516234 0.6930634  0.7395573\n",
      " 0.783396   0.8131602  0.80105495 0.76443756 0.6910051  0.60909146\n",
      " 0.52078927 0.43937045 0.40033984 0.39831847 0.41587424 0.44263333\n",
      " 0.46731415 0.48519373 0.49527508 0.4971628  0.4984244  0.5006388\n",
      " 0.5030468  0.50521266 0.5071127  0.5094657  0.5148913  0.5191309\n",
      " 0.5235366  0.52680504 0.5296963  0.53213924 0.52549875 0.52295256\n",
      " 0.5193152  0.51616776 0.513206   0.51038635 0.50801843 0.5058315\n",
      " 0.5040877  0.5026337  0.50128406 0.50216115 0.5027944  0.50406295\n",
      " 0.5053815  0.50688964 0.50836295 0.5023986  0.500138   0.49658343\n",
      " 0.4928555  0.48928618 0.48859978 0.48685873 0.48629862 0.48435825\n",
      " 0.48242593 0.48143393 0.48318437 0.48737323 0.49576646 0.50946426\n",
      " 0.5216472  0.529823   0.5340786  0.53503126 0.536415   0.5400977\n",
      " 0.54304636 0.5451077  0.5468607  0.54790306 0.5478157  0.54735065\n",
      " 0.54766536 0.54205215 0.5387063  0.533131   0.527663   0.52285314\n",
      " 0.5215134  0.5209163  0.5221516  0.5228554  0.5234784  0.5243256\n",
      " 0.5252894  0.52666765 0.5292472  0.53283685 0.53640425 0.5392368 ] (180,)\n"
     ]
    }
   ],
   "source": [
    "logger.info(\"Generating data!\")\n",
    "result = syn.synthesize(len(df), seq_len=180)\n",
    "print(result[0], np.array(result[0]).shape)\n",
    "#with open(\"{}/data\".format(root_dir), \"wb\") as f:\n",
    "#    pickle.dump(result, f)"
   ]
  },
  {
   "cell_type": "code",
   "execution_count": 26,
   "metadata": {},
   "outputs": [],
   "source": [
    "pd.DataFrame(result).to_csv(f\"../code/data/generated/normal_train_180_embed{32}_rtsgan.csv\")"
   ]
  },
  {
   "cell_type": "code",
   "execution_count": 22,
   "metadata": {},
   "outputs": [
    {
     "data": {
      "text/plain": [
       "[<matplotlib.lines.Line2D at 0x7b1554d31bd0>]"
      ]
     },
     "execution_count": 22,
     "metadata": {},
     "output_type": "execute_result"
    },
    {
     "data": {
      "image/png": "[encoded data removed]",
      "text/plain": [
       "<Figure size 640x480 with 1 Axes>"
      ]
     },
     "metadata": {},
     "output_type": "display_data"
    }
   ],
   "source": [
    "import matplotlib.pyplot as plt \n",
    "\n",
    "plt.plot(result[100])"
   ]
  },
  {
   "cell_type": "code",
   "execution_count": 2,
   "metadata": {},
   "outputs": [
    {
     "name": "stdout",
     "output_type": "stream",
     "text": [
      "------------------------------\n",
      "Initialising Autoencoder with:\n",
      "RecurrentAutoencoder(\n",
      "  (encoder): Encoder(\n",
      "    (rnn1): LSTM(1, 64, batch_first=True)\n",
      "    (rnn2): LSTM(64, 32, batch_first=True)\n",
      "  )\n",
      "  (decoder): Decoder(\n",
      "    (rnn1): LSTM(32, 32, batch_first=True)\n",
      "    (rnn2): LSTM(32, 64, batch_first=True)\n",
      "    (output_layer): Linear(in_features=64, out_features=1, bias=True)\n",
      "  )\n",
      ")\n",
      "Training on cuda\n",
      "------------------------------\n"
     ]
    }
   ],
   "source": [
    "from mitbih.TrainRoutine import AutoEncTrainRoutine\n",
    "ae_gen = AutoEncTrainRoutine()"
   ]
  },
  {
   "cell_type": "code",
   "execution_count": 6,
   "metadata": {},
   "outputs": [],
   "source": [
    "import os\n",
    "import torch\n",
    "\n",
    "model_name = f\"rtsgan_embed{32}.pth\"\n",
    "if os.path.exists(f\"../code/models/{model_name}\"):\n",
    "    #ae_gen.load_model(model_name)\n",
    "    ae_gen.model.load_state_dict(torch.load(f\"../code/models/{model_name}\", \n",
    "                                              map_location=torch.device('cpu')))\n",
    "else:\n",
    "    model, history = ae_gen.train_model(train_ds_path=\"../code/data/generated/normal_train_180_embed32_rtsgan.csv\", val_ds_path=\"../code/data/normal_val_180.csv\")\n",
    "    plt.plot(history[\"train\"])\n",
    "    plt.plot(history[\"val\"])\n",
    "    ae_gen.save_model(model_name)"
   ]
  },
  {
   "cell_type": "code",
   "execution_count": 31,
   "metadata": {},
   "outputs": [],
   "source": [
    "torch.save(ae_gen.model.state_dict(), f\"../code/models/rtsgan_embed{32}.pth\")"
   ]
  },
  {
   "cell_type": "code",
   "execution_count": 7,
   "metadata": {},
   "outputs": [
    {
     "name": "stderr",
     "output_type": "stream",
     "text": [
      "/home/user1-asd-arch/.local/share/virtualenvs/code-b8C0A6mP/lib/python3.7/site-packages/torch/nn/modules/loss.py:101: UserWarning: Using a target size (torch.Size([180, 1])) that is different to the input size (torch.Size([1, 180, 1])). This will likely lead to incorrect results due to broadcasting. Please ensure they have the same size.\n",
      "  return F.l1_loss(input, target, reduction=self.reduction)\n"
     ]
    }
   ],
   "source": [
    "from mitbih.Evaluator import Evaluator\n",
    "window_size=180\n",
    "evaluator = Evaluator(test_normal_path=f\"../code/data/normal_test{window_size}.csv\",\n",
    "                        test_anomaly_path=f\"../code/data/anomalie_test{window_size}.csv\", \n",
    "                        test_anomaly_label_path=f\"../code/data/anomalie_labels_{window_size}.csv\",\n",
    "                        model=ae_gen.model)"
   ]
  },
  {
   "cell_type": "code",
   "execution_count": 8,
   "metadata": {},
   "outputs": [
    {
     "data": {
      "image/png": "[encoded data removed]",
      "text/plain": [
       "<Figure size 640x480 with 2 Axes>"
      ]
     },
     "metadata": {},
     "output_type": "display_data"
    }
   ],
   "source": [
    "plt.figure()\n",
    "\n",
    "plt.subplot(2,1,1)\n",
    "plt.hist(evaluator.loss_normal, bins=100)\n",
    "plt.title(\"Normal\")\n",
    "\n",
    "plt.subplot(2,1,2)\n",
    "plt.hist(evaluator.loss_anomaly, bins=100)\n",
    "plt.title(\"Anomaly\")\n",
    "\n",
    "plt.show()"
   ]
  },
  {
   "cell_type": "code",
   "execution_count": 9,
   "metadata": {},
   "outputs": [
    {
     "data": {
      "image/png": "[encoded data removed]",
      "text/plain": [
       "<Figure size 640x480 with 1 Axes>"
      ]
     },
     "metadata": {},
     "output_type": "display_data"
    }
   ],
   "source": [
    "corr_normal, corr_anomaly = evaluator.find_threshold()\n",
    "plt.plot(np.linspace(0,5,21), corr_normal, marker=\"o\")\n",
    "plt.plot(np.linspace(0,5,21), corr_anomaly, marker=\"x\")\n",
    "plt.xlabel(\"Threshold\")\n",
    "plt.ylabel(\"Percentage correct\")\n",
    "plt.legend([\"Anomaly\", \"Normal\"])\n",
    "plt.show()"
   ]
  },
  {
   "cell_type": "code",
   "execution_count": 10,
   "metadata": {},
   "outputs": [],
   "source": [
    "predictions_normal, predictions_anomaly = evaluator.predict_class(3.75)\n"
   ]
  },
  {
   "cell_type": "code",
   "execution_count": 11,
   "metadata": {},
   "outputs": [
    {
     "name": "stdout",
     "output_type": "stream",
     "text": [
      "Acc: 0.6482468234154339\n",
      "Precision: 0.47223421711719493\n",
      "Recall: 0.6215755371149255\n",
      "F1: 0.5367098547310561\n"
     ]
    }
   ],
   "source": [
    "evaluator.evaluate(predictions_normal, predictions_anomaly)"
   ]
  }
 ],
 "metadata": {
  "kernelspec": {
   "display_name": "Python 3",
   "language": "python",
   "name": "python3"
  },
  "language_info": {
   "codemirror_mode": {
    "name": "ipython",
    "version": 3
   },
   "file_extension": ".py",
   "mimetype": "text/x-python",
   "name": "python",
   "nbconvert_exporter": "python",
   "pygments_lexer": "ipython3",
   "version": "3.7.17"
  }
 },
 "nbformat": 4,
 "nbformat_minor": 4
}
